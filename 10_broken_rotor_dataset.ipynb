{
 "cells": [
  {
   "cell_type": "code",
   "execution_count": 1,
   "metadata": {},
   "outputs": [],
   "source": [
    "import mat73\n",
    "import pandas as pd\n",
    "\n",
    "loc = '#datasets'\n",
    "files = ['struct_r1b_R1.mat', 'struct_r2b_R1.mat', 'struct_r3b_R1.mat', 'struct_r4b_R1.mat', 'struct_rs_R1']"
   ]
  },
  {
   "cell_type": "code",
   "execution_count": 2,
   "metadata": {},
   "outputs": [],
   "source": [
    "data_dict = mat73.loadmat(loc+'/'+files[0])"
   ]
  },
  {
   "cell_type": "code",
   "execution_count": 5,
   "metadata": {},
   "outputs": [
    {
     "data": {
      "text/plain": [
       "dict_keys(['Ia', 'Ib', 'Ic', 'Trigger', 'Va', 'Vb', 'Vc', 'Vib_acpe', 'Vib_acpi', 'Vib_axial', 'Vib_base', 'Vib_carc'])"
      ]
     },
     "execution_count": 5,
     "metadata": {},
     "output_type": "execute_result"
    }
   ],
   "source": [
    "data_dict['r1b']['torque05'][0].keys()"
   ]
  },
  {
   "cell_type": "code",
   "execution_count": 22,
   "metadata": {
    "scrolled": false
   },
   "outputs": [],
   "source": [
    "#temp = pd.DataFrame.from_dict(data_dict['r1b']['torque05'][0])\n",
    "temp = data_dict['r2b']['torque05'][0]"
   ]
  },
  {
   "cell_type": "code",
   "execution_count": 26,
   "metadata": {},
   "outputs": [
    {
     "data": {
      "text/plain": [
       "dict_keys(['Ia', 'Ib', 'Ic', 'Trigger', 'Va', 'Vb', 'Vc', 'Vib_acpe', 'Vib_acpi', 'Vib_axial', 'Vib_base', 'Vib_carc'])"
      ]
     },
     "execution_count": 26,
     "metadata": {},
     "output_type": "execute_result"
    }
   ],
   "source": [
    "temp.keys()"
   ]
  },
  {
   "cell_type": "code",
   "execution_count": 6,
   "metadata": {},
   "outputs": [
    {
     "name": "stdout",
     "output_type": "stream",
     "text": [
      "1001000\n",
      "1001000\n",
      "1001000\n",
      "153739\n",
      "1001000\n",
      "1001000\n",
      "1001000\n",
      "153739\n",
      "153739\n",
      "153739\n",
      "153739\n",
      "153739\n"
     ]
    }
   ],
   "source": [
    "#import mat73\n",
    "#data_dict = mat73.loadmat('broken_rotor_dataset/struct_r1b_R1.mat')\n",
    "temp = data_dict['r1b']['torque05'][0]\n",
    "for key in temp.keys():\n",
    "    print(len(temp[key]))"
   ]
  }
 ],
 "metadata": {
  "kernelspec": {
   "display_name": "Python 3",
   "language": "python",
   "name": "python3"
  },
  "language_info": {
   "codemirror_mode": {
    "name": "ipython",
    "version": 3
   },
   "file_extension": ".py",
   "mimetype": "text/x-python",
   "name": "python",
   "nbconvert_exporter": "python",
   "pygments_lexer": "ipython3",
   "version": "3.8.5"
  }
 },
 "nbformat": 4,
 "nbformat_minor": 4
}
