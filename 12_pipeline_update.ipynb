{
 "cells": [
  {
   "cell_type": "markdown",
   "id": "8ab622fa-2181-4f28-b1ca-90df96c5b344",
   "metadata": {},
   "source": [
    "# Imports"
   ]
  },
  {
   "cell_type": "code",
   "execution_count": 12,
   "id": "58c2cf06-902a-4f5a-bf75-181e7f093c0c",
   "metadata": {},
   "outputs": [],
   "source": [
    "import logging\n",
    "import numpy as np\n",
    "import pandas as pd\n",
    "import stumpy\n",
    "from src import common, pipeline\n",
    "from src.outlier_model import OutlierModel\n",
    "import pickle5 as pickle\n",
    "import matplotlib.pyplot as plt\n",
    "\n",
    "\n",
    "logging.basicConfig(format='%(asctime)s: %(message)s', datefmt='%m/%d/%Y %I:%M:%S %p')\n",
    "logger = logging.getLogger(\"TimeSeries\")\n",
    "logger.setLevel(logging.INFO)"
   ]
  },
  {
   "cell_type": "markdown",
   "id": "7e38dff8-a1c2-4afb-9420-d13c2bacf93d",
   "metadata": {},
   "source": [
    "# Dataset preprocessing"
   ]
  },
  {
   "cell_type": "code",
   "execution_count": 13,
   "id": "727dde3d-d032-4c83-a32f-2fe681d9abd2",
   "metadata": {
    "tags": []
   },
   "outputs": [],
   "source": [
    "column_types_loc = \"#datasets/Colab_PowerConverter/column_types.json\"\n",
    "column_types = common.json_load(column_types_loc)\n",
    "\n",
    "target = column_types[\"target\"]\n",
    "identifier = column_types[\"identifier\"]\n",
    "cat_cols = column_types[\"categorical\"]\n",
    "measurement_label = column_types[\"measurement_label\"]\n",
    "\n",
    "with open(f\"#datasets/Colab_PowerConverter/dataset.pkl\", \"rb\") as fh:\n",
    "  data = pickle.load(fh)\n",
    "\n",
    "# this measurement did not have a fault (?)\n",
    "data = data[data[measurement_label]!=\"Single-Phase_Sensor_Fault\"]\n",
    "data.reset_index(inplace=True, drop=True)\n",
    "\n",
    "# assign unique label to each measurement fault and create dictionary for easier analysis\n",
    "fault_dict = {}\n",
    "for label,i in zip(data[measurement_label].unique(), range(len(data[measurement_label].unique()))):\n",
    "    data.loc[(data[measurement_label]==label) & (data[target]==1), target] = int(i+1)\n",
    "    fault_dict[label] = int(i+1)\n",
    "\n",
    "data.drop(columns=[measurement_label], inplace=True)\n",
    "# Fill NA - 0 for numerical and 'NA' for categorical\n",
    "# categorical\n",
    "data[cat_cols] = data[cat_cols].fillna(\"NA\")\n",
    "data[cat_cols] = data[cat_cols].astype(str)\n",
    "# non-categorical\n",
    "non_cat_cols = data.drop(columns=cat_cols + [identifier]).columns.tolist()\n",
    "data[non_cat_cols] = data[non_cat_cols].fillna(0)\n"
   ]
  },
  {
   "cell_type": "markdown",
   "id": "f0b090d7-1d8c-4881-8605-7f304a476d2f",
   "metadata": {},
   "source": [
    "# Train model"
   ]
  },
  {
   "cell_type": "code",
   "execution_count": 14,
   "id": "0ae3a556-f309-459e-9f79-9948dcf2e82a",
   "metadata": {},
   "outputs": [],
   "source": [
    "task = \"multiclass\"\n",
    "\n",
    "column_types_loc = \"#datasets/Colab_PowerConverter/column_types.json\"\n",
    "save_loc = \"models.dill\"\n",
    "\n",
    "parameters = {\n",
    "    \"random_state\": 1,\n",
    "    \"test_size_train\": 0.2,\n",
    "    \"test_size_valid\": 0.5,\n",
    "    \"scaler\": \"Standard\",\n",
    "}\n"
   ]
  },
  {
   "cell_type": "code",
   "execution_count": 15,
   "id": "3d054772-b757-409c-a050-30babb843298",
   "metadata": {},
   "outputs": [],
   "source": [
    "# (\n",
    "#     data_train_scaled,\n",
    "#     data_valid_scaled,\n",
    "#     data_test_scaled,\n",
    "#     models,\n",
    "# ) = pipeline.train(task,data, column_types_loc, parameters, save_loc=save_loc, verbose=True, datasets=True)\n"
   ]
  },
  {
   "cell_type": "code",
   "execution_count": 16,
   "id": "6709ee67-c48b-49d2-b442-b58959881a49",
   "metadata": {},
   "outputs": [],
   "source": [
    "# predicted = pipeline.predict(data, column_types_loc, save_loc)"
   ]
  },
  {
   "cell_type": "markdown",
   "id": "f4534f2d",
   "metadata": {},
   "source": [
    "# Outlier_model\n",
    "* outlier_model code that implementes outlier_model.predict() function"
   ]
  },
  {
   "cell_type": "code",
   "execution_count": 17,
   "id": "d9c79a5e",
   "metadata": {},
   "outputs": [],
   "source": [
    "start_index = 0\n",
    "end_index = 1000000\n",
    "data_test = data[start_index:end_index]\n",
    "\n",
    "outlier_key = \"f_c\"\n",
    "m = 250\n",
    "preload_size = 5000\n",
    "# plt.plot(data[40750:41250][outlier_key])\n",
    "outlier_model = OutlierModel(m=m,std_dev=5,\n",
    "                             time_series=data_test[:preload_size][outlier_key],\n",
    "                             egress=True)\n"
   ]
  },
  {
   "cell_type": "markdown",
   "id": "862bf180",
   "metadata": {},
   "source": [
    "# Simulate stream of data\n",
    "## Inverse transform test dataset for evaluation"
   ]
  },
  {
   "cell_type": "code",
   "execution_count": 18,
   "id": "c83f7bce",
   "metadata": {},
   "outputs": [],
   "source": [
    "\n",
    "# data_test = pd.DataFrame(models[\"scaler\"].inverse_transform(data_test_scaled.drop(columns=cat_cols + [identifier,target])),\n",
    "#                columns=data_test_scaled.drop(columns=cat_cols + [identifier,target]).columns.values)\n",
    "# data_test[[identifier,target]] = data_test_scaled[[identifier,target]].copy()"
   ]
  },
  {
   "cell_type": "code",
   "execution_count": 19,
   "id": "3a7475b9",
   "metadata": {},
   "outputs": [
    {
     "data": {
      "text/plain": "        f_c              P    m_d  m_q       theta   P_ref   V_DC    V_phaseA  \\\n0  0.160401  102708.459241  311.0  0.0 -163.738242  2500.0  800.0 -259.299072   \n1  0.267618  102492.887801  311.0  0.0 -163.738192  2500.0  800.0 -259.696384   \n2  0.369417  102288.207648  311.0  0.0 -163.738108  2500.0  800.0 -260.114450   \n3  0.465867  102094.284312  311.0  0.0 -163.737992  2500.0  800.0 -260.553771   \n4  0.557028  101910.993770  311.0  0.0 -163.737845  2500.0  800.0 -261.014849   \n\n    V_phaseB    V_phaseC    I_phaseA    I_phaseB    I_phaseC  fault  sample_id  \n0 -19.057368  278.356440  294.335345 -928.391542  634.056197      0          0  \n1 -18.337809  278.034193  284.639238 -916.942492  632.303254      0          1  \n2 -17.577815  277.692264  274.799672 -905.428051  630.628379      0          2  \n3 -16.775993  277.329764  264.816484 -893.849302  629.032819      0          3  \n4 -15.930912  276.945761  254.689537 -882.207299  627.517762      0          4  ",
      "text/html": "<div>\n<style scoped>\n    .dataframe tbody tr th:only-of-type {\n        vertical-align: middle;\n    }\n\n    .dataframe tbody tr th {\n        vertical-align: top;\n    }\n\n    .dataframe thead th {\n        text-align: right;\n    }\n</style>\n<table border=\"1\" class=\"dataframe\">\n  <thead>\n    <tr style=\"text-align: right;\">\n      <th></th>\n      <th>f_c</th>\n      <th>P</th>\n      <th>m_d</th>\n      <th>m_q</th>\n      <th>theta</th>\n      <th>P_ref</th>\n      <th>V_DC</th>\n      <th>V_phaseA</th>\n      <th>V_phaseB</th>\n      <th>V_phaseC</th>\n      <th>I_phaseA</th>\n      <th>I_phaseB</th>\n      <th>I_phaseC</th>\n      <th>fault</th>\n      <th>sample_id</th>\n    </tr>\n  </thead>\n  <tbody>\n    <tr>\n      <th>0</th>\n      <td>0.160401</td>\n      <td>102708.459241</td>\n      <td>311.0</td>\n      <td>0.0</td>\n      <td>-163.738242</td>\n      <td>2500.0</td>\n      <td>800.0</td>\n      <td>-259.299072</td>\n      <td>-19.057368</td>\n      <td>278.356440</td>\n      <td>294.335345</td>\n      <td>-928.391542</td>\n      <td>634.056197</td>\n      <td>0</td>\n      <td>0</td>\n    </tr>\n    <tr>\n      <th>1</th>\n      <td>0.267618</td>\n      <td>102492.887801</td>\n      <td>311.0</td>\n      <td>0.0</td>\n      <td>-163.738192</td>\n      <td>2500.0</td>\n      <td>800.0</td>\n      <td>-259.696384</td>\n      <td>-18.337809</td>\n      <td>278.034193</td>\n      <td>284.639238</td>\n      <td>-916.942492</td>\n      <td>632.303254</td>\n      <td>0</td>\n      <td>1</td>\n    </tr>\n    <tr>\n      <th>2</th>\n      <td>0.369417</td>\n      <td>102288.207648</td>\n      <td>311.0</td>\n      <td>0.0</td>\n      <td>-163.738108</td>\n      <td>2500.0</td>\n      <td>800.0</td>\n      <td>-260.114450</td>\n      <td>-17.577815</td>\n      <td>277.692264</td>\n      <td>274.799672</td>\n      <td>-905.428051</td>\n      <td>630.628379</td>\n      <td>0</td>\n      <td>2</td>\n    </tr>\n    <tr>\n      <th>3</th>\n      <td>0.465867</td>\n      <td>102094.284312</td>\n      <td>311.0</td>\n      <td>0.0</td>\n      <td>-163.737992</td>\n      <td>2500.0</td>\n      <td>800.0</td>\n      <td>-260.553771</td>\n      <td>-16.775993</td>\n      <td>277.329764</td>\n      <td>264.816484</td>\n      <td>-893.849302</td>\n      <td>629.032819</td>\n      <td>0</td>\n      <td>3</td>\n    </tr>\n    <tr>\n      <th>4</th>\n      <td>0.557028</td>\n      <td>101910.993770</td>\n      <td>311.0</td>\n      <td>0.0</td>\n      <td>-163.737845</td>\n      <td>2500.0</td>\n      <td>800.0</td>\n      <td>-261.014849</td>\n      <td>-15.930912</td>\n      <td>276.945761</td>\n      <td>254.689537</td>\n      <td>-882.207299</td>\n      <td>627.517762</td>\n      <td>0</td>\n      <td>4</td>\n    </tr>\n  </tbody>\n</table>\n</div>"
     },
     "execution_count": 19,
     "metadata": {},
     "output_type": "execute_result"
    }
   ],
   "source": [
    "data_test.head()"
   ]
  },
  {
   "cell_type": "markdown",
   "id": "5317afea",
   "metadata": {},
   "source": [
    "* loading the whole DL model with preprocessors in each iteration is stupid but I wanted to send Alex at least some initial code\n"
   ]
  },
  {
   "cell_type": "code",
   "execution_count": 20,
   "id": "aade096d",
   "metadata": {},
   "outputs": [
    {
     "name": "stderr",
     "output_type": "stream",
     "text": [
      "01/25/2022 06:57:08 PM:  Anomaly at Global index: 6140\n",
      "01/25/2022 06:57:08 PM: max_mp: 7.2201, metric:7.2079: metric-max_mp: 0.012199999999999989\n"
     ]
    },
    {
     "name": "stdout",
     "output_type": "stream",
     "text": [
      "Current Global index: 10000\n"
     ]
    },
    {
     "name": "stderr",
     "output_type": "stream",
     "text": [
      "01/25/2022 06:57:12 PM:  Anomaly at Global index: 16140\n",
      "01/25/2022 06:57:12 PM: max_mp: 8.7234, metric:8.415099999999999: metric-max_mp: 0.3083000000000009\n"
     ]
    },
    {
     "name": "stdout",
     "output_type": "stream",
     "text": [
      "Current Global index: 20000\n"
     ]
    },
    {
     "name": "stderr",
     "output_type": "stream",
     "text": [
      "01/25/2022 06:57:15 PM:  Anomaly at Global index: 26140\n",
      "01/25/2022 06:57:15 PM: max_mp: 5.9399, metric:4.1901: metric-max_mp: 1.7497999999999996\n"
     ]
    },
    {
     "name": "stdout",
     "output_type": "stream",
     "text": [
      "Current Global index: 30000\n"
     ]
    },
    {
     "name": "stderr",
     "output_type": "stream",
     "text": [
      "01/25/2022 06:57:19 PM:  Anomaly at Global index: 36140\n",
      "01/25/2022 06:57:19 PM: max_mp: 13.7448, metric:13.0764: metric-max_mp: 0.6684000000000001\n"
     ]
    },
    {
     "name": "stdout",
     "output_type": "stream",
     "text": [
      "Current Global index: 40000\n"
     ]
    },
    {
     "name": "stderr",
     "output_type": "stream",
     "text": [
      "01/25/2022 06:57:22 PM:  Anomaly at Global index: 46140\n",
      "01/25/2022 06:57:22 PM: max_mp: 30.8707, metric:16.8686: metric-max_mp: 14.002099999999999\n"
     ]
    },
    {
     "name": "stdout",
     "output_type": "stream",
     "text": [
      "Current Global index: 50000\n"
     ]
    },
    {
     "name": "stderr",
     "output_type": "stream",
     "text": [
      "01/25/2022 06:57:27 PM:  Anomaly at Global index: 58706\n",
      "01/25/2022 06:57:27 PM: max_mp: 3.3937, metric:3.3813999999999997: metric-max_mp: 0.0123000000000002\n"
     ]
    },
    {
     "name": "stdout",
     "output_type": "stream",
     "text": [
      "Current Global index: 60000\n"
     ]
    },
    {
     "name": "stderr",
     "output_type": "stream",
     "text": [
      "01/25/2022 06:57:31 PM:  Anomaly at Global index: 69424\n",
      "01/25/2022 06:57:31 PM: max_mp: 5.6402, metric:5.6244: metric-max_mp: 0.01580000000000048\n"
     ]
    },
    {
     "name": "stdout",
     "output_type": "stream",
     "text": [
      "Current Global index: 70000\n"
     ]
    },
    {
     "name": "stderr",
     "output_type": "stream",
     "text": [
      "01/25/2022 06:57:34 PM:  Anomaly at Global index: 80001\n",
      "01/25/2022 06:57:34 PM: max_mp: 73.3401, metric:8.5336: metric-max_mp: 64.8065\n"
     ]
    },
    {
     "name": "stdout",
     "output_type": "stream",
     "text": [
      "Current Global index: 80000\n",
      "Current Global index: 90000\n",
      "Current Global index: 100000\n",
      "Current Global index: 110000\n"
     ]
    },
    {
     "name": "stderr",
     "output_type": "stream",
     "text": [
      "01/25/2022 06:57:49 PM:  Anomaly at Global index: 120009\n",
      "01/25/2022 06:57:49 PM: max_mp: 0.0151, metric:0.001: metric-max_mp: 0.014100000000000001\n"
     ]
    },
    {
     "name": "stdout",
     "output_type": "stream",
     "text": [
      "Current Global index: 120000\n",
      "Current Global index: 130000\n",
      "Current Global index: 140000\n",
      "Current Global index: 150000\n",
      "Current Global index: 160000\n",
      "Current Global index: 170000\n",
      "Current Global index: 180000\n",
      "Current Global index: 190000\n"
     ]
    },
    {
     "name": "stderr",
     "output_type": "stream",
     "text": [
      "01/25/2022 06:58:19 PM:  Anomaly at Global index: 200016\n",
      "01/25/2022 06:58:19 PM: max_mp: 0.0239, metric:0.002: metric-max_mp: 0.021900000000000003\n"
     ]
    },
    {
     "name": "stdout",
     "output_type": "stream",
     "text": [
      "Current Global index: 200000\n",
      "Current Global index: 210000\n",
      "Current Global index: 220000\n",
      "Current Global index: 230000\n",
      "Current Global index: 240000\n",
      "Current Global index: 250000\n",
      "Current Global index: 260000\n",
      "Current Global index: 270000\n"
     ]
    },
    {
     "name": "stderr",
     "output_type": "stream",
     "text": [
      "01/25/2022 06:58:50 PM:  Anomaly at Global index: 280344\n",
      "01/25/2022 06:58:50 PM: max_mp: 1689.7735, metric:122.91919999999999: metric-max_mp: 1566.8543\n"
     ]
    },
    {
     "name": "stdout",
     "output_type": "stream",
     "text": [
      "Current Global index: 280000\n",
      "Current Global index: 290000\n",
      "Current Global index: 300000\n",
      "Current Global index: 310000\n",
      "Current Global index: 320000\n",
      "Current Global index: 330000\n",
      "Current Global index: 340000\n",
      "Current Global index: 350000\n"
     ]
    },
    {
     "name": "stderr",
     "output_type": "stream",
     "text": [
      "01/25/2022 06:59:19 PM:  Anomaly at Global index: 360041\n",
      "01/25/2022 06:59:19 PM: max_mp: 0.1243, metric:0.009: metric-max_mp: 0.1153\n"
     ]
    },
    {
     "name": "stdout",
     "output_type": "stream",
     "text": [
      "Current Global index: 360000\n",
      "Current Global index: 370000\n",
      "Current Global index: 380000\n",
      "Current Global index: 390000\n"
     ]
    },
    {
     "name": "stderr",
     "output_type": "stream",
     "text": [
      "01/25/2022 06:59:34 PM:  Anomaly at Global index: 400056\n",
      "01/25/2022 06:59:34 PM: max_mp: 0.113, metric:0.008: metric-max_mp: 0.10500000000000001\n"
     ]
    },
    {
     "name": "stdout",
     "output_type": "stream",
     "text": [
      "Current Global index: 400000\n",
      "Current Global index: 410000\n",
      "Current Global index: 420000\n",
      "Current Global index: 430000\n"
     ]
    },
    {
     "name": "stderr",
     "output_type": "stream",
     "text": [
      "01/25/2022 06:59:47 PM:  Anomaly at Global index: 440067\n",
      "01/25/2022 06:59:47 PM: max_mp: 0.0129, metric:0.001: metric-max_mp: 0.0119\n"
     ]
    },
    {
     "name": "stdout",
     "output_type": "stream",
     "text": [
      "Current Global index: 440000\n",
      "Current Global index: 450000\n",
      "Current Global index: 460000\n",
      "Current Global index: 470000\n",
      "Current Global index: 480000\n",
      "Current Global index: 490000\n",
      "Current Global index: 500000\n",
      "Current Global index: 510000\n"
     ]
    },
    {
     "name": "stderr",
     "output_type": "stream",
     "text": [
      "01/25/2022 07:00:13 PM:  Anomaly at Global index: 520068\n",
      "01/25/2022 07:00:13 PM: max_mp: 0.0395, metric:0.0029999999999999996: metric-max_mp: 0.0365\n"
     ]
    },
    {
     "name": "stdout",
     "output_type": "stream",
     "text": [
      "Current Global index: 520000\n",
      "Current Global index: 530000\n",
      "Current Global index: 540000\n",
      "Current Global index: 550000\n",
      "Current Global index: 560000\n",
      "Current Global index: 570000\n",
      "Current Global index: 580000\n",
      "Current Global index: 590000\n"
     ]
    },
    {
     "name": "stderr",
     "output_type": "stream",
     "text": [
      "01/25/2022 07:00:40 PM:  Anomaly at Global index: 600093\n",
      "01/25/2022 07:00:40 PM: max_mp: 0.0478, metric:0.0035: metric-max_mp: 0.0443\n"
     ]
    },
    {
     "name": "stdout",
     "output_type": "stream",
     "text": [
      "Current Global index: 600000\n",
      "Current Global index: 610000\n",
      "Current Global index: 620000\n",
      "Current Global index: 630000\n",
      "Current Global index: 640000\n",
      "Current Global index: 650000\n",
      "Current Global index: 660000\n",
      "Current Global index: 670000\n"
     ]
    },
    {
     "name": "stderr",
     "output_type": "stream",
     "text": [
      "01/25/2022 07:01:06 PM:  Anomaly at Global index: 680070\n",
      "01/25/2022 07:01:06 PM: max_mp: 0.0262, metric:0.002: metric-max_mp: 0.0242\n"
     ]
    },
    {
     "name": "stdout",
     "output_type": "stream",
     "text": [
      "Current Global index: 680000\n",
      "Current Global index: 690000\n",
      "Current Global index: 700000\n",
      "Current Global index: 710000\n",
      "Current Global index: 720000\n",
      "Current Global index: 730000\n",
      "Current Global index: 740000\n",
      "Current Global index: 750000\n"
     ]
    },
    {
     "name": "stderr",
     "output_type": "stream",
     "text": [
      "01/25/2022 07:01:34 PM:  Anomaly at Global index: 760111\n",
      "01/25/2022 07:01:34 PM: max_mp: 0.0146, metric:0.001: metric-max_mp: 0.013600000000000001\n"
     ]
    },
    {
     "name": "stdout",
     "output_type": "stream",
     "text": [
      "Current Global index: 760000\n",
      "Current Global index: 770000\n",
      "Current Global index: 780000\n",
      "Current Global index: 790000\n",
      "Current Global index: 800000\n",
      "Current Global index: 810000\n",
      "Current Global index: 820000\n",
      "Current Global index: 830000\n"
     ]
    },
    {
     "name": "stderr",
     "output_type": "stream",
     "text": [
      "01/25/2022 07:02:01 PM:  Anomaly at Global index: 840106\n",
      "01/25/2022 07:02:01 PM: max_mp: 0.0112, metric:0.001: metric-max_mp: 0.0102\n"
     ]
    },
    {
     "name": "stdout",
     "output_type": "stream",
     "text": [
      "Current Global index: 840000\n",
      "Current Global index: 850000\n",
      "Current Global index: 860000\n",
      "Current Global index: 870000\n"
     ]
    },
    {
     "name": "stderr",
     "output_type": "stream",
     "text": [
      "01/25/2022 07:02:14 PM:  Anomaly at Global index: 880062\n",
      "01/25/2022 07:02:14 PM: max_mp: 1.6339, metric:0.11879999999999999: metric-max_mp: 1.5151\n"
     ]
    },
    {
     "name": "stdout",
     "output_type": "stream",
     "text": [
      "Current Global index: 880000\n",
      "Current Global index: 890000\n",
      "Current Global index: 900000\n",
      "Current Global index: 910000\n"
     ]
    },
    {
     "name": "stderr",
     "output_type": "stream",
     "text": [
      "01/25/2022 07:02:28 PM:  Anomaly at Global index: 920403\n",
      "01/25/2022 07:02:28 PM: max_mp: 7215.7619, metric:524.8948: metric-max_mp: 6690.8671\n"
     ]
    },
    {
     "name": "stdout",
     "output_type": "stream",
     "text": [
      "Current Global index: 920000\n",
      "Current Global index: 930000\n",
      "Current Global index: 940000\n",
      "Current Global index: 950000\n"
     ]
    },
    {
     "name": "stderr",
     "output_type": "stream",
     "text": [
      "01/25/2022 07:02:42 PM:  Anomaly at Global index: 960063\n",
      "01/25/2022 07:02:42 PM: max_mp: 0.0772, metric:0.0055000000000000005: metric-max_mp: 0.0717\n"
     ]
    },
    {
     "name": "stdout",
     "output_type": "stream",
     "text": [
      "Current Global index: 960000\n",
      "Current Global index: 970000\n",
      "Current Global index: 980000\n",
      "Current Global index: 990000\n"
     ]
    }
   ],
   "source": [
    "fault = False\n",
    "for index, row in data_test[preload_size:].iterrows():\n",
    "    outlier_model.train_one(row[outlier_key])\n",
    "    fault = outlier_model.predict_one(index)\n",
    "    if index % 10000 == 0:\n",
    "        print(f\"Current Global index: {index}\")\n",
    "    # if not fault:\n",
    "    #     print(\"fault start\")\n",
    "    # else:\n",
    "        # predicted = pipeline.predict(row, column_types_loc, save_loc)\n",
    "        # print(\"fault continues\")\n",
    "        # if predicted == 0:\n",
    "        #     fault = False\n",
    "        #     print(\"fault ended\")"
   ]
  },
  {
   "cell_type": "code",
   "execution_count": 21,
   "outputs": [
    {
     "data": {
      "text/plain": "[<matplotlib.lines.Line2D at 0x7fab5c248250>,\n <matplotlib.lines.Line2D at 0x7fab5c248c10>,\n <matplotlib.lines.Line2D at 0x7fab5c248d50>]"
     },
     "execution_count": 21,
     "metadata": {},
     "output_type": "execute_result"
    },
    {
     "data": {
      "text/plain": "<Figure size 1152x576 with 1 Axes>",
      "image/png": "[encoded data removed]"
     },
     "metadata": {
      "needs_background": "light"
     },
     "output_type": "display_data"
    }
   ],
   "source": [
    "plt.figure(figsize=(16,8))\n",
    "\n",
    "plt.plot(outlier_model.max_val,'b-',\n",
    "         outlier_model.max_mean,'r-',\n",
    "         outlier_model.max_std_dev,'g-')\n"
   ],
   "metadata": {
    "collapsed": false,
    "pycharm": {
     "name": "#%%\n"
    }
   }
  },
  {
   "cell_type": "code",
   "execution_count": 22,
   "outputs": [
    {
     "data": {
      "text/plain": "<Figure size 1152x576 with 1 Axes>",
      "image/png": "[encoded data removed]"
     },
     "metadata": {
      "needs_background": "light"
     },
     "output_type": "display_data"
    }
   ],
   "source": [
    "plt.figure(figsize=(16,8))\n",
    "plt.plot(data_test[\"fault\"])\n",
    "plt.title(f\"Detection Method: Anomaly\")\n",
    "for i in outlier_model.anomalies:\n",
    "    plt.axvline(x=i,color='r')"
   ],
   "metadata": {
    "collapsed": false,
    "pycharm": {
     "name": "#%%\n"
    }
   }
  }
 ],
 "metadata": {
  "kernelspec": {
   "name": "python3",
   "language": "python",
   "display_name": "Python 3 (ipykernel)"
  },
  "language_info": {
   "codemirror_mode": {
    "name": "ipython",
    "version": 3
   },
   "file_extension": ".py",
   "mimetype": "text/x-python",
   "name": "python",
   "nbconvert_exporter": "python",
   "pygments_lexer": "ipython3",
   "version": "3.8.5"
  },
  "toc-autonumbering": true
 },
 "nbformat": 4,
 "nbformat_minor": 5
}