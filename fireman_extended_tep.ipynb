{
 "cells": [
  {
   "cell_type": "markdown",
   "metadata": {},
   "source": [
    "# Preprocessing of Extended TEP dataset\n",
    "\n",
    "Extended TEP dataset has 500 simulation runs and is available in the rdata format at:<br/> https://dataverse.harvard.edu/dataset.xhtml?persistentId=doi:10.7910/DVN/6C3JR1"
   ]
  },
  {
   "cell_type": "code",
   "execution_count": 2,
   "metadata": {},
   "outputs": [],
   "source": [
    "import pandas as pd\n",
    "import numpy as np\n",
    "import pyreadr"
   ]
  },
  {
   "cell_type": "code",
   "execution_count": 3,
   "metadata": {},
   "outputs": [],
   "source": [
    "train_normal_path = '#datasets/TEP_FaultFree_Training.RData'\n",
    "train_faulty_path = '#datasets/TEP_Faulty_Training.RData'\n",
    "test_normal_path = '#datasets/TEP_FaultFree_Testing.RData'\n",
    "test_faulty_path = '#datasets/TEP_Faulty_Testing.RData'\n",
    "\n",
    "train_normal_complete = pyreadr.read_r(train_normal_path)['fault_free_training']\n",
    "train_faulty_complete = pyreadr.read_r(train_faulty_path)['faulty_training']\n",
    "test_normal_complete = pyreadr.read_r(test_normal_path)['fault_free_testing']\n",
    "test_faulty_complete = pyreadr.read_r(test_faulty_path)['faulty_testing']"
   ]
  },
  {
   "cell_type": "code",
   "execution_count": 8,
   "metadata": {},
   "outputs": [],
   "source": [
    "tep_train_dataset = pd.concat([train_normal_complete, train_faulty_complete], ignore_index=True, sort=False)\n",
    "tep_test_dataset = pd.concat([test_normal_complete, test_faulty_complete], ignore_index=True, sort=False)"
   ]
  },
  {
   "cell_type": "code",
   "execution_count": 9,
   "metadata": {},
   "outputs": [],
   "source": [
    "tep_train_dataset['sample'] = range(len(tep_train_dataset))\n",
    "tep_train_dataset['faultNumber'] = tep_train_dataset['faultNumber'].astype(int)\n",
    "tep_train_dataset['simulationRun'] = tep_train_dataset['simulationRun'].astype(int)\n",
    "tep_test_dataset['sample'] = range(len(tep_test_dataset))\n",
    "tep_test_dataset['faultNumber'] = tep_test_dataset['faultNumber'].astype(int)\n",
    "tep_test_dataset['simulationRun'] = tep_test_dataset['simulationRun'].astype(int)"
   ]
  },
  {
   "cell_type": "code",
   "execution_count": null,
   "metadata": {},
   "outputs": [],
   "source": [
    "# take only single run of the simulation\n",
    "# tep_train_dataset = tep_train_dataset[tep_train_dataset[\"simulationRun\"]==1]\n",
    "# tep_test_dataset = tep_test_dataset[tep_test_dataset[\"simulationRun\"]==1]\n",
    "\n",
    "# drop columns that are not needed\n",
    "# tep_train_dataset = tep_train_dataset.drop(columns=[\"simulationRun\",\"sample\"])\n",
    "# tep_test_dataset = tep_test_dataset.drop(columns=[\"simulationRun\",\"sample\"])"
   ]
  },
  {
   "cell_type": "code",
   "execution_count": 16,
   "metadata": {},
   "outputs": [],
   "source": [
    "tep_train_dataset.to_csv('#datasets/Tennessee_Event-Driven/tep_train_extended.csv',index=False)\n",
    "tep_test_dataset.to_csv('#datasets/Tennessee_Event-Driven/tep_test_extended.csv',index=False)"
   ]
  }
 ],
 "metadata": {
  "kernelspec": {
   "display_name": "Python 3",
   "language": "python",
   "name": "python3"
  },
  "language_info": {
   "codemirror_mode": {
    "name": "ipython",
    "version": 3
   },
   "file_extension": ".py",
   "mimetype": "text/x-python",
   "name": "python",
   "nbconvert_exporter": "python",
   "pygments_lexer": "ipython3",
   "version": "3.8.5"
  }
 },
 "nbformat": 4,
 "nbformat_minor": 4
}
