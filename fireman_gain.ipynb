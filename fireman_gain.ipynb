{
 "cells": [
  {
   "cell_type": "code",
   "execution_count": 28,
   "metadata": {},
   "outputs": [
    {
     "name": "stdout",
     "output_type": "stream",
     "text": [
      "Collecting progress\n",
      "  Downloading progress-1.5.tar.gz (5.8 kB)\n",
      "Building wheels for collected packages: progress\n",
      "  Building wheel for progress (setup.py): started\n",
      "  Building wheel for progress (setup.py): finished with status 'done'\n",
      "  Created wheel for progress: filename=progress-1.5-py3-none-any.whl size=8078 sha256=f2f2fd934d6975e177a555fc9624b85a6f14c6c62678a2d442aade2f35444474"
     ]
    },
    {
     "name": "stderr",
     "output_type": "stream",
     "text": [
      "WARNING: You are using pip version 20.1.1; however, version 20.2.3 is available.\n",
      "You should consider upgrading via the 'C:\\ProgramData\\Anaconda3\\python.exe -m pip install --upgrade pip' command.\n"
     ]
    },
    {
     "name": "stdout",
     "output_type": "stream",
     "text": [
      "\n",
      "  Stored in directory: c:\\users\\5uperpalo\\appdata\\local\\pip\\cache\\wheels\\4c\\ff\\85\\0cabf2cb317421028ef98853ae5c8d84c31f3e4e11862ea977\n",
      "Successfully built progress\n",
      "Installing collected packages: progress\n",
      "Successfully installed progress-1.5\n"
     ]
    }
   ],
   "source": [
    "!pip install progress"
   ]
  },
  {
   "cell_type": "code",
   "execution_count": 1,
   "metadata": {},
   "outputs": [
    {
     "name": "stdout",
     "output_type": "stream",
     "text": [
      "Collecting alive-progress\n",
      "  Downloading alive_progress-1.6.1-py3-none-any.whl (37 kB)\n",
      "Installing collected packages: alive-progress\n"
     ]
    },
    {
     "name": "stderr",
     "output_type": "stream",
     "text": [
      "ERROR: Could not install packages due to an EnvironmentError: [WinError 5] Access is denied: 'C:\\\\ProgramData\\\\Anaconda3\\\\Lib\\\\site-packages\\\\tests\\\\__init__.py'\n",
      "Consider using the `--user` option or check the permissions.\n",
      "\n",
      "WARNING: You are using pip version 20.1.1; however, version 20.2.3 is available.\n",
      "You should consider upgrading via the 'C:\\ProgramData\\Anaconda3\\python.exe -m pip install --upgrade pip' command.\n"
     ]
    }
   ],
   "source": [
    "!pip install alive-progress"
   ]
  },
  {
   "cell_type": "code",
   "execution_count": null,
   "metadata": {},
   "outputs": [],
   "source": [
    "# downlad GAIN\n",
    "!git clone git@github.com:jsyoon0823/GAIN.git\n",
    "# upgrade GAIN to tensorflow v2, tf.placeholder is no longer wirking in v2 etc.\n",
    "!tf_upgrade_v2 --infile GAIN/gain.py --outfile GAIN/gain_tf2.py\n",
    "!tf_upgrade_v2 --infile GAIN/utils.py --outfile GAIN/utils_tf2.py\n",
    "!pip install pyreadr"
   ]
  },
  {
   "cell_type": "code",
   "execution_count": null,
   "metadata": {},
   "outputs": [],
   "source": [
    "# rename utils to .utils_tf2 in GAIN/gain_tf2.py\n",
    "#from utils import normalization, renormalization, rounding\n",
    "#from utils import xavier_init\n",
    "#from utils import binary_sampler, uniform_sampler, sample_batch_index"
   ]
  },
  {
   "cell_type": "code",
   "execution_count": 1,
   "metadata": {},
   "outputs": [],
   "source": [
    "import pandas as pd\n",
    "import numpy as np\n",
    "from GAIN.gain_tf2 import gain\n",
    "from GAIN.utils_tf2 import binary_sampler\n",
    "from GAIN.utils_tf2 import rmse_loss\n",
    "import pyreadr"
   ]
  },
  {
   "cell_type": "code",
   "execution_count": 2,
   "metadata": {},
   "outputs": [],
   "source": [
    "# dataset downloaded from https://dataverse.harvard.edu/dataset.xhtml?persistentId=doi:10.7910/DVN/6C3JR1\n",
    "train_normal_path = 'Tennessee_Event-Driven/datasets/TEP_FaultFree_Training.RData'\n",
    "train_faulty_path = 'Tennessee_Event-Driven/datasets/TEP_Faulty_Training.RData'\n",
    "test_normal_path = 'Tennessee_Event-Driven/datasets/TEP_FaultFree_Testing.RData'\n",
    "test_faulty_path = 'Tennessee_Event-Driven/datasets/TEP_Faulty_Testing.RData'\n",
    "\n",
    "train_normal_complete = pyreadr.read_r(train_normal_path)['fault_free_training']\n",
    "train_faulty_complete = pyreadr.read_r(train_faulty_path)['faulty_training']\n",
    "test_normal_complete = pyreadr.read_r(test_normal_path)['fault_free_testing']\n",
    "test_faulty_complete = pyreadr.read_r(test_faulty_path)['faulty_testing']"
   ]
  },
  {
   "cell_type": "code",
   "execution_count": 3,
   "metadata": {},
   "outputs": [],
   "source": [
    "# take only single run of the simulation\n",
    "train_normal_complete = train_normal_complete[train_normal_complete[\"simulationRun\"]==1]\n",
    "train_faulty_complete = train_faulty_complete[train_faulty_complete[\"simulationRun\"]==1]\n",
    "test_normal_complete = test_normal_complete[test_normal_complete[\"simulationRun\"]==1]\n",
    "test_faulty_complete = test_faulty_complete[test_faulty_complete[\"simulationRun\"]==1]"
   ]
  },
  {
   "cell_type": "code",
   "execution_count": 4,
   "metadata": {},
   "outputs": [],
   "source": [
    "# drop columns that are not needed\n",
    "train_normal_complete = train_normal_complete.drop(columns=[\"simulationRun\",\"sample\"])\n",
    "train_faulty_complete = train_faulty_complete.drop(columns=[\"simulationRun\",\"sample\"])\n",
    "test_normal_complete = test_normal_complete.drop(columns=[\"simulationRun\",\"sample\"])\n",
    "test_faulty_complete = test_faulty_complete.drop(columns=[\"simulationRun\",\"sample\"])"
   ]
  },
  {
   "cell_type": "code",
   "execution_count": 5,
   "metadata": {},
   "outputs": [],
   "source": [
    "tep_dataset = pd.concat([train_normal_complete, train_faulty_complete, test_normal_complete, test_faulty_complete], ignore_index=True, sort=False)"
   ]
  },
  {
   "cell_type": "code",
   "execution_count": 6,
   "metadata": {},
   "outputs": [
    {
     "data": {
      "text/html": [
       "<div>\n",
       "<style scoped>\n",
       "    .dataframe tbody tr th:only-of-type {\n",
       "        vertical-align: middle;\n",
       "    }\n",
       "\n",
       "    .dataframe tbody tr th {\n",
       "        vertical-align: top;\n",
       "    }\n",
       "\n",
       "    .dataframe thead th {\n",
       "        text-align: right;\n",
       "    }\n",
       "</style>\n",
       "<table border=\"1\" class=\"dataframe\">\n",
       "  <thead>\n",
       "    <tr style=\"text-align: right;\">\n",
       "      <th></th>\n",
       "      <th>faultNumber</th>\n",
       "      <th>xmeas_1</th>\n",
       "      <th>xmeas_2</th>\n",
       "      <th>xmeas_3</th>\n",
       "      <th>xmeas_4</th>\n",
       "      <th>xmeas_5</th>\n",
       "      <th>xmeas_6</th>\n",
       "      <th>xmeas_7</th>\n",
       "      <th>xmeas_8</th>\n",
       "      <th>xmeas_9</th>\n",
       "      <th>...</th>\n",
       "      <th>xmv_2</th>\n",
       "      <th>xmv_3</th>\n",
       "      <th>xmv_4</th>\n",
       "      <th>xmv_5</th>\n",
       "      <th>xmv_6</th>\n",
       "      <th>xmv_7</th>\n",
       "      <th>xmv_8</th>\n",
       "      <th>xmv_9</th>\n",
       "      <th>xmv_10</th>\n",
       "      <th>xmv_11</th>\n",
       "    </tr>\n",
       "  </thead>\n",
       "  <tbody>\n",
       "    <tr>\n",
       "      <th>0</th>\n",
       "      <td>0.0</td>\n",
       "      <td>0.25038</td>\n",
       "      <td>3674.0</td>\n",
       "      <td>4529.0</td>\n",
       "      <td>9.2320</td>\n",
       "      <td>26.889</td>\n",
       "      <td>42.402</td>\n",
       "      <td>2704.3</td>\n",
       "      <td>74.863</td>\n",
       "      <td>120.41</td>\n",
       "      <td>...</td>\n",
       "      <td>53.744</td>\n",
       "      <td>24.657</td>\n",
       "      <td>62.544</td>\n",
       "      <td>22.137</td>\n",
       "      <td>39.935</td>\n",
       "      <td>42.323</td>\n",
       "      <td>47.757</td>\n",
       "      <td>47.510</td>\n",
       "      <td>41.258</td>\n",
       "      <td>18.447</td>\n",
       "    </tr>\n",
       "    <tr>\n",
       "      <th>1</th>\n",
       "      <td>0.0</td>\n",
       "      <td>0.25109</td>\n",
       "      <td>3659.4</td>\n",
       "      <td>4556.6</td>\n",
       "      <td>9.4264</td>\n",
       "      <td>26.721</td>\n",
       "      <td>42.576</td>\n",
       "      <td>2705.0</td>\n",
       "      <td>75.000</td>\n",
       "      <td>120.41</td>\n",
       "      <td>...</td>\n",
       "      <td>53.414</td>\n",
       "      <td>24.588</td>\n",
       "      <td>59.259</td>\n",
       "      <td>22.084</td>\n",
       "      <td>40.176</td>\n",
       "      <td>38.554</td>\n",
       "      <td>43.692</td>\n",
       "      <td>47.427</td>\n",
       "      <td>41.359</td>\n",
       "      <td>17.194</td>\n",
       "    </tr>\n",
       "    <tr>\n",
       "      <th>2</th>\n",
       "      <td>0.0</td>\n",
       "      <td>0.25038</td>\n",
       "      <td>3660.3</td>\n",
       "      <td>4477.8</td>\n",
       "      <td>9.4426</td>\n",
       "      <td>26.875</td>\n",
       "      <td>42.070</td>\n",
       "      <td>2706.2</td>\n",
       "      <td>74.771</td>\n",
       "      <td>120.42</td>\n",
       "      <td>...</td>\n",
       "      <td>54.357</td>\n",
       "      <td>24.666</td>\n",
       "      <td>61.275</td>\n",
       "      <td>22.380</td>\n",
       "      <td>40.244</td>\n",
       "      <td>38.990</td>\n",
       "      <td>46.699</td>\n",
       "      <td>47.468</td>\n",
       "      <td>41.199</td>\n",
       "      <td>20.530</td>\n",
       "    </tr>\n",
       "    <tr>\n",
       "      <th>3</th>\n",
       "      <td>0.0</td>\n",
       "      <td>0.24977</td>\n",
       "      <td>3661.3</td>\n",
       "      <td>4512.1</td>\n",
       "      <td>9.4776</td>\n",
       "      <td>26.758</td>\n",
       "      <td>42.063</td>\n",
       "      <td>2707.2</td>\n",
       "      <td>75.224</td>\n",
       "      <td>120.39</td>\n",
       "      <td>...</td>\n",
       "      <td>53.946</td>\n",
       "      <td>24.725</td>\n",
       "      <td>59.856</td>\n",
       "      <td>22.277</td>\n",
       "      <td>40.257</td>\n",
       "      <td>38.072</td>\n",
       "      <td>47.541</td>\n",
       "      <td>47.658</td>\n",
       "      <td>41.643</td>\n",
       "      <td>18.089</td>\n",
       "    </tr>\n",
       "    <tr>\n",
       "      <th>4</th>\n",
       "      <td>0.0</td>\n",
       "      <td>0.29405</td>\n",
       "      <td>3679.0</td>\n",
       "      <td>4497.0</td>\n",
       "      <td>9.3381</td>\n",
       "      <td>26.889</td>\n",
       "      <td>42.650</td>\n",
       "      <td>2705.1</td>\n",
       "      <td>75.388</td>\n",
       "      <td>120.39</td>\n",
       "      <td>...</td>\n",
       "      <td>53.658</td>\n",
       "      <td>28.797</td>\n",
       "      <td>60.717</td>\n",
       "      <td>21.947</td>\n",
       "      <td>39.144</td>\n",
       "      <td>41.955</td>\n",
       "      <td>47.645</td>\n",
       "      <td>47.346</td>\n",
       "      <td>41.507</td>\n",
       "      <td>18.461</td>\n",
       "    </tr>\n",
       "    <tr>\n",
       "      <th>...</th>\n",
       "      <td>...</td>\n",
       "      <td>...</td>\n",
       "      <td>...</td>\n",
       "      <td>...</td>\n",
       "      <td>...</td>\n",
       "      <td>...</td>\n",
       "      <td>...</td>\n",
       "      <td>...</td>\n",
       "      <td>...</td>\n",
       "      <td>...</td>\n",
       "      <td>...</td>\n",
       "      <td>...</td>\n",
       "      <td>...</td>\n",
       "      <td>...</td>\n",
       "      <td>...</td>\n",
       "      <td>...</td>\n",
       "      <td>...</td>\n",
       "      <td>...</td>\n",
       "      <td>...</td>\n",
       "      <td>...</td>\n",
       "      <td>...</td>\n",
       "    </tr>\n",
       "    <tr>\n",
       "      <th>30655</th>\n",
       "      <td>20.0</td>\n",
       "      <td>0.27389</td>\n",
       "      <td>3638.5</td>\n",
       "      <td>4512.7</td>\n",
       "      <td>9.3480</td>\n",
       "      <td>26.764</td>\n",
       "      <td>42.231</td>\n",
       "      <td>2713.2</td>\n",
       "      <td>74.348</td>\n",
       "      <td>120.43</td>\n",
       "      <td>...</td>\n",
       "      <td>54.051</td>\n",
       "      <td>26.807</td>\n",
       "      <td>63.206</td>\n",
       "      <td>21.214</td>\n",
       "      <td>36.950</td>\n",
       "      <td>39.891</td>\n",
       "      <td>48.834</td>\n",
       "      <td>49.969</td>\n",
       "      <td>42.244</td>\n",
       "      <td>16.814</td>\n",
       "    </tr>\n",
       "    <tr>\n",
       "      <th>30656</th>\n",
       "      <td>20.0</td>\n",
       "      <td>0.25405</td>\n",
       "      <td>3656.7</td>\n",
       "      <td>4490.2</td>\n",
       "      <td>9.3897</td>\n",
       "      <td>27.067</td>\n",
       "      <td>42.065</td>\n",
       "      <td>2715.9</td>\n",
       "      <td>74.945</td>\n",
       "      <td>120.40</td>\n",
       "      <td>...</td>\n",
       "      <td>54.334</td>\n",
       "      <td>25.185</td>\n",
       "      <td>61.865</td>\n",
       "      <td>21.657</td>\n",
       "      <td>37.441</td>\n",
       "      <td>41.566</td>\n",
       "      <td>50.203</td>\n",
       "      <td>50.270</td>\n",
       "      <td>41.264</td>\n",
       "      <td>17.765</td>\n",
       "    </tr>\n",
       "    <tr>\n",
       "      <th>30657</th>\n",
       "      <td>20.0</td>\n",
       "      <td>0.25664</td>\n",
       "      <td>3645.5</td>\n",
       "      <td>4506.3</td>\n",
       "      <td>9.4222</td>\n",
       "      <td>26.647</td>\n",
       "      <td>42.139</td>\n",
       "      <td>2715.5</td>\n",
       "      <td>74.313</td>\n",
       "      <td>120.41</td>\n",
       "      <td>...</td>\n",
       "      <td>54.141</td>\n",
       "      <td>24.931</td>\n",
       "      <td>63.582</td>\n",
       "      <td>20.960</td>\n",
       "      <td>37.131</td>\n",
       "      <td>36.523</td>\n",
       "      <td>42.912</td>\n",
       "      <td>50.497</td>\n",
       "      <td>41.720</td>\n",
       "      <td>20.372</td>\n",
       "    </tr>\n",
       "    <tr>\n",
       "      <th>30658</th>\n",
       "      <td>20.0</td>\n",
       "      <td>0.21993</td>\n",
       "      <td>3686.1</td>\n",
       "      <td>4507.0</td>\n",
       "      <td>9.3934</td>\n",
       "      <td>26.625</td>\n",
       "      <td>42.214</td>\n",
       "      <td>2710.9</td>\n",
       "      <td>74.022</td>\n",
       "      <td>120.40</td>\n",
       "      <td>...</td>\n",
       "      <td>53.535</td>\n",
       "      <td>21.874</td>\n",
       "      <td>61.885</td>\n",
       "      <td>20.723</td>\n",
       "      <td>38.850</td>\n",
       "      <td>42.909</td>\n",
       "      <td>47.052</td>\n",
       "      <td>50.774</td>\n",
       "      <td>40.902</td>\n",
       "      <td>20.166</td>\n",
       "    </tr>\n",
       "    <tr>\n",
       "      <th>30659</th>\n",
       "      <td>20.0</td>\n",
       "      <td>0.22310</td>\n",
       "      <td>3664.2</td>\n",
       "      <td>4482.3</td>\n",
       "      <td>9.4352</td>\n",
       "      <td>27.163</td>\n",
       "      <td>42.283</td>\n",
       "      <td>2709.7</td>\n",
       "      <td>74.906</td>\n",
       "      <td>120.40</td>\n",
       "      <td>...</td>\n",
       "      <td>53.831</td>\n",
       "      <td>21.562</td>\n",
       "      <td>63.215</td>\n",
       "      <td>21.093</td>\n",
       "      <td>38.475</td>\n",
       "      <td>43.448</td>\n",
       "      <td>42.506</td>\n",
       "      <td>50.860</td>\n",
       "      <td>41.354</td>\n",
       "      <td>18.606</td>\n",
       "    </tr>\n",
       "  </tbody>\n",
       "</table>\n",
       "<p>30660 rows × 53 columns</p>\n",
       "</div>"
      ],
      "text/plain": [
       "       faultNumber  xmeas_1  xmeas_2  xmeas_3  xmeas_4  xmeas_5  xmeas_6  \\\n",
       "0              0.0  0.25038   3674.0   4529.0   9.2320   26.889   42.402   \n",
       "1              0.0  0.25109   3659.4   4556.6   9.4264   26.721   42.576   \n",
       "2              0.0  0.25038   3660.3   4477.8   9.4426   26.875   42.070   \n",
       "3              0.0  0.24977   3661.3   4512.1   9.4776   26.758   42.063   \n",
       "4              0.0  0.29405   3679.0   4497.0   9.3381   26.889   42.650   \n",
       "...            ...      ...      ...      ...      ...      ...      ...   \n",
       "30655         20.0  0.27389   3638.5   4512.7   9.3480   26.764   42.231   \n",
       "30656         20.0  0.25405   3656.7   4490.2   9.3897   27.067   42.065   \n",
       "30657         20.0  0.25664   3645.5   4506.3   9.4222   26.647   42.139   \n",
       "30658         20.0  0.21993   3686.1   4507.0   9.3934   26.625   42.214   \n",
       "30659         20.0  0.22310   3664.2   4482.3   9.4352   27.163   42.283   \n",
       "\n",
       "       xmeas_7  xmeas_8  xmeas_9  ...   xmv_2   xmv_3   xmv_4   xmv_5   xmv_6  \\\n",
       "0       2704.3   74.863   120.41  ...  53.744  24.657  62.544  22.137  39.935   \n",
       "1       2705.0   75.000   120.41  ...  53.414  24.588  59.259  22.084  40.176   \n",
       "2       2706.2   74.771   120.42  ...  54.357  24.666  61.275  22.380  40.244   \n",
       "3       2707.2   75.224   120.39  ...  53.946  24.725  59.856  22.277  40.257   \n",
       "4       2705.1   75.388   120.39  ...  53.658  28.797  60.717  21.947  39.144   \n",
       "...        ...      ...      ...  ...     ...     ...     ...     ...     ...   \n",
       "30655   2713.2   74.348   120.43  ...  54.051  26.807  63.206  21.214  36.950   \n",
       "30656   2715.9   74.945   120.40  ...  54.334  25.185  61.865  21.657  37.441   \n",
       "30657   2715.5   74.313   120.41  ...  54.141  24.931  63.582  20.960  37.131   \n",
       "30658   2710.9   74.022   120.40  ...  53.535  21.874  61.885  20.723  38.850   \n",
       "30659   2709.7   74.906   120.40  ...  53.831  21.562  63.215  21.093  38.475   \n",
       "\n",
       "        xmv_7   xmv_8   xmv_9  xmv_10  xmv_11  \n",
       "0      42.323  47.757  47.510  41.258  18.447  \n",
       "1      38.554  43.692  47.427  41.359  17.194  \n",
       "2      38.990  46.699  47.468  41.199  20.530  \n",
       "3      38.072  47.541  47.658  41.643  18.089  \n",
       "4      41.955  47.645  47.346  41.507  18.461  \n",
       "...       ...     ...     ...     ...     ...  \n",
       "30655  39.891  48.834  49.969  42.244  16.814  \n",
       "30656  41.566  50.203  50.270  41.264  17.765  \n",
       "30657  36.523  42.912  50.497  41.720  20.372  \n",
       "30658  42.909  47.052  50.774  40.902  20.166  \n",
       "30659  43.448  42.506  50.860  41.354  18.606  \n",
       "\n",
       "[30660 rows x 53 columns]"
      ]
     },
     "execution_count": 6,
     "metadata": {},
     "output_type": "execute_result"
    }
   ],
   "source": [
    "tep_dataset"
   ]
  },
  {
   "cell_type": "code",
   "execution_count": 7,
   "metadata": {},
   "outputs": [],
   "source": [
    "tep_dataset.to_csv('Tennessee_Event-Driven/datasets/tep_extended_dataset_simrun1.csv',index=False)"
   ]
  },
  {
   "cell_type": "markdown",
   "metadata": {},
   "source": [
    "# Create missing data in TEP dataset"
   ]
  },
  {
   "cell_type": "code",
   "execution_count": 3,
   "metadata": {},
   "outputs": [],
   "source": [
    "tep_dataset = pd.read_csv('Tennessee_Event-Driven/datasets/tep_extended_dataset_simrun1.csv.csv',index_col=False)"
   ]
  },
  {
   "cell_type": "code",
   "execution_count": 4,
   "metadata": {},
   "outputs": [],
   "source": [
    "dataset_X = tep_dataset.drop(columns=['faultNumber', 'simulationRun', 'sample']).values\n",
    "dataset_Y = tep_dataset['faultNumber'].values"
   ]
  },
  {
   "cell_type": "code",
   "execution_count": 5,
   "metadata": {},
   "outputs": [],
   "source": [
    "no, dim = dataset_X.shape\n",
    "p = 0.1\n",
    "# Introduce missing data\n",
    "mask = binary_sampler(1-p, no, dim)\n",
    "dataset_X_missing = dataset_X.copy()\n",
    "dataset_X_missing[mask == 0] = np.nan"
   ]
  },
  {
   "cell_type": "markdown",
   "metadata": {},
   "source": [
    "# Impute data"
   ]
  },
  {
   "cell_type": "code",
   "execution_count": 21,
   "metadata": {},
   "outputs": [],
   "source": [
    "gain_parameters = {'batch_size': 128,\n",
    "                 'hint_rate': 1.5,\n",
    "                 'alpha': 100,\n",
    "                 'iterations': 1000}"
   ]
  },
  {
   "cell_type": "code",
   "execution_count": 22,
   "metadata": {},
   "outputs": [
    {
     "name": "stderr",
     "output_type": "stream",
     "text": [
      "100%|█████████████████████████████████████████████████████████████████████████████| 1000/1000 [00:05<00:00, 168.12it/s]\n"
     ]
    }
   ],
   "source": [
    "dataset_X_imputed = gain(dataset_X_missing, gain_parameters)"
   ]
  },
  {
   "cell_type": "code",
   "execution_count": 23,
   "metadata": {},
   "outputs": [
    {
     "data": {
      "text/plain": [
       "0.07301131265367386"
      ]
     },
     "execution_count": 23,
     "metadata": {},
     "output_type": "execute_result"
    }
   ],
   "source": [
    "rmse_loss(dataset_X, dataset_X_imputed, mask)"
   ]
  },
  {
   "cell_type": "markdown",
   "metadata": {},
   "source": [
    "# Pipeline"
   ]
  },
  {
   "cell_type": "code",
   "execution_count": null,
   "metadata": {},
   "outputs": [],
   "source": [
    "class Pipeline:\n",
    "    def __init__(self):\n",
    "        pass\n",
    "    \n",
    "    def _impute(self):\n",
    "        raise NotImplementedError()\n",
    "    \n",
    "    def _scale(self):\n",
    "        raise NotImplementedError()\n",
    "    \n",
    "    def _classify(self):\n",
    "        raise NotImplementedError()\n",
    "\n",
    "    def process(self):\n",
    "        raise NotImplementedError()\n",
    "\n",
    "class FIREMAN_Pipeline(Pipeline):\n",
    "    def __init__(self, dataset_x='', dataset_y='', imputer='', scaler='', classifier=''):\n",
    "        self.task_id = task_id\n",
    "        super().__init__()\n",
    "\n",
    "    def _impute(self):\n",
    "        raise NotImplementedError()\n",
    "    \n",
    "    def _scale(self):\n",
    "        raise NotImplementedError()\n",
    "    \n",
    "    def _classify(self):\n",
    "        raise NotImplementedError()\n",
    "\n",
    "    def process(self):\n",
    "        return"
   ]
  },
  {
   "cell_type": "code",
   "execution_count": null,
   "metadata": {},
   "outputs": [],
   "source": [
    "pipe = Pipeline([('imputer',RandomOverSampler()), \n",
    "                 ('scaler', StandardScaler()), \n",
    "                 ('classifier', RandomForestClassifier())])\n",
    "#('imputer', SimpleImputer(missing_values=np.nan, strategy='mean'))"
   ]
  }
 ],
 "metadata": {
  "kernelspec": {
   "display_name": "Python 3",
   "language": "python",
   "name": "python3"
  },
  "language_info": {
   "codemirror_mode": {
    "name": "ipython",
    "version": 3
   },
   "file_extension": ".py",
   "mimetype": "text/x-python",
   "name": "python",
   "nbconvert_exporter": "python",
   "pygments_lexer": "ipython3",
   "version": "3.7.7"
  }
 },
 "nbformat": 4,
 "nbformat_minor": 4
}
