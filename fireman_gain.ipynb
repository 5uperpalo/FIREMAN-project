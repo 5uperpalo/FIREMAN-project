{
 "cells": [
  {
   "cell_type": "code",
   "execution_count": null,
   "metadata": {},
   "outputs": [],
   "source": [
    "# download GAIN\n",
    "!git clone git@github.com:jsyoon0823/GAIN.git\n",
    "# upgrade GAIN to tensorflow v2, tf.placeholder is no longer working in v2 etc.\n",
    "!tf_upgrade_v2 --infile GAIN/gain.py --outfile GAIN/gain_tf2.py\n",
    "!tf_upgrade_v2 --infile GAIN/utils.py --outfile GAIN/utils_tf2.py"
   ]
  },
  {
   "cell_type": "code",
   "execution_count": null,
   "metadata": {},
   "outputs": [],
   "source": [
    "# rename utils to .utils_tf2 in GAIN/gain_tf2.py"
   ]
  },
  {
   "cell_type": "code",
   "execution_count": 5,
   "metadata": {},
   "outputs": [],
   "source": [
    "import pandas as pd\n",
    "import numpy as np\n",
    "from GAIN.gain_tf2 import gain\n",
    "from GAIN.utils_tf2 import binary_sampler\n",
    "from GAIN.utils_tf2 import rmse_loss"
   ]
  },
  {
   "cell_type": "markdown",
   "metadata": {},
   "source": [
    "# Create missing data in TEP dataset"
   ]
  },
  {
   "cell_type": "code",
   "execution_count": 3,
   "metadata": {},
   "outputs": [],
   "source": [
    "tep_dataset = pd.read_csv('Tennessee_Event-Driven/datasets/tep_extended_dataset_simrun1.csv.csv',index_col=False)"
   ]
  },
  {
   "cell_type": "code",
   "execution_count": 4,
   "metadata": {},
   "outputs": [],
   "source": [
    "dataset_X = tep_dataset.drop(columns=['faultNumber', 'simulationRun', 'sample']).values\n",
    "dataset_Y = tep_dataset['faultNumber'].values"
   ]
  },
  {
   "cell_type": "code",
   "execution_count": 5,
   "metadata": {},
   "outputs": [],
   "source": [
    "no, dim = dataset_X.shape\n",
    "p = 0.1\n",
    "# Introduce missing data\n",
    "mask = binary_sampler(1-p, no, dim)\n",
    "dataset_X_missing = dataset_X.copy()\n",
    "dataset_X_missing[mask == 0] = np.nan"
   ]
  },
  {
   "cell_type": "markdown",
   "metadata": {},
   "source": [
    "# Impute data"
   ]
  },
  {
   "cell_type": "code",
   "execution_count": 21,
   "metadata": {},
   "outputs": [],
   "source": [
    "gain_parameters = {'batch_size': 128,\n",
    "                 'hint_rate': 1.5,\n",
    "                 'alpha': 100,\n",
    "                 'iterations': 1000}"
   ]
  },
  {
   "cell_type": "code",
   "execution_count": 22,
   "metadata": {},
   "outputs": [
    {
     "name": "stderr",
     "output_type": "stream",
     "text": [
      "100%|█████████████████████████████████████████████████████████████████████████████| 1000/1000 [00:05<00:00, 168.12it/s]\n"
     ]
    }
   ],
   "source": [
    "dataset_X_imputed = gain(dataset_X_missing, gain_parameters)"
   ]
  },
  {
   "cell_type": "code",
   "execution_count": 23,
   "metadata": {},
   "outputs": [
    {
     "data": {
      "text/plain": [
       "0.07301131265367386"
      ]
     },
     "execution_count": 23,
     "metadata": {},
     "output_type": "execute_result"
    }
   ],
   "source": [
    "rmse_loss(dataset_X, dataset_X_imputed, mask)"
   ]
  }
 ],
 "metadata": {
  "kernelspec": {
   "display_name": "Python 3",
   "language": "python",
   "name": "python3"
  },
  "language_info": {
   "codemirror_mode": {
    "name": "ipython",
    "version": 3
   },
   "file_extension": ".py",
   "mimetype": "text/x-python",
   "name": "python",
   "nbconvert_exporter": "python",
   "pygments_lexer": "ipython3",
   "version": "3.7.7"
  }
 },
 "nbformat": 4,
 "nbformat_minor": 4
}
