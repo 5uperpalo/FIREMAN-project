{
 "cells": [
  {
   "attachments": {},
   "cell_type": "markdown",
   "id": "93ab1f50",
   "metadata": {},
   "source": [
    "# Extended ECCE paper code\n",
    "* tested in conda python 3.10 environment (torchvision that is needed for pytorch_widedeep is not supported for 3.11 as of 26th Jan 2023)\n",
    "```\n",
    "conda create -n ecce python=3.10\n",
    "pip install -r requirements.txt\n",
    "```"
   ]
  },
  {
   "attachments": {},
   "cell_type": "markdown",
   "id": "9280b194",
   "metadata": {},
   "source": [
    "## Imports"
   ]
  },
  {
   "cell_type": "code",
   "execution_count": 1,
   "metadata": {},
   "outputs": [],
   "source": [
    "import sys\n",
    "import pandas as pd\n",
    "\n",
    "# to save results to data directory\n",
    "module_path = \"..\"\n",
    "if module_path not in sys.path:\n",
    "    sys.path.insert(1, module_path)\n",
    "# increase displayed columns in jupyter notebook\n",
    "pd.set_option(\"display.max_columns\", 200)\n",
    "pd.set_option(\"display.max_rows\", 300)"
   ]
  },
  {
   "cell_type": "code",
   "execution_count": 2,
   "metadata": {},
   "outputs": [
    {
     "name": "stderr",
     "output_type": "stream",
     "text": [
      "/home/palo/miniconda3/envs/ecce/lib/python3.10/site-packages/tqdm/auto.py:22: TqdmWarning: IProgress not found. Please update jupyter and ipywidgets. See https://ipywidgets.readthedocs.io/en/stable/user_install.html\n",
      "  from .autonotebook import tqdm as notebook_tqdm\n",
      "Importing display from IPython.core.display is deprecated since IPython 7.14, please import from IPython display\n",
      "Importing display from IPython.core.display is deprecated since IPython 7.14, please import from IPython display\n",
      "Importing display from IPython.core.display is deprecated since IPython 7.14, please import from IPython display\n"
     ]
    }
   ],
   "source": [
    "import dill\n",
    "import numpy as np\n",
    "import matplotlib.pyplot as plt\n",
    "\n",
    "import h2o\n",
    "from h2o.automl import H2OAutoML\n",
    "\n",
    "from sklearn.preprocessing import StandardScaler\n",
    "from sklearn.model_selection import train_test_split\n",
    "from sklearn.metrics import classification_report\n",
    "\n",
    "from pytorch_widedeep.dataloaders import DataLoaderImbalanced\n",
    "from pytorch_widedeep.models import TabTransformer, WideDeep\n",
    "from pytorch_widedeep.training import Trainer\n",
    "from pytorch_widedeep.callbacks import (\n",
    "    EarlyStopping,\n",
    "    ModelCheckpoint,\n",
    "    LRHistory,\n",
    "    Callback,\n",
    ")\n",
    "from pytorch_widedeep.initializers import (\n",
    "    XavierNormal,\n",
    ")\n",
    "from torch.optim import Adam, SGD, lr_scheduler#, NAdam\n",
    "\n",
    "from ray import tune\n",
    "from ray.tune.schedulers import AsyncHyperBandScheduler\n",
    "from ray.tune import JupyterNotebookReporter\n",
    "from ray.tune.integration.wandb import WandbLoggerCallback, wandb_mixin\n",
    "import wandb\n",
    "\n",
    "import src.utils as utils\n",
    "from src import pytorch_widedeep_explainer\n",
    "from src import lightgbm_explainer\n",
    "import src.common as common\n",
    "\n",
    "import lightgbm as lgbm\n",
    "\n",
    "import tracemalloc\n",
    "import warnings\n",
    "from typing import Optional, Dict\n",
    "tracemalloc.start()\n",
    "\n",
    "class RayTuneReporter(Callback):\n",
    "    r\"\"\"Callback that allows reporting history and lr_history values to RayTune\n",
    "    during Hyperparameter tuning\n",
    "\n",
    "    Callbacks are passed as input parameters to the ``Trainer`` class. See\n",
    "    :class:`pytorch_widedeep.trainer.Trainer`\n",
    "\n",
    "    For examples see the examples folder at:\n",
    "\n",
    "        .. code-block:: bash\n",
    "\n",
    "            /examples/12_HyperParameter_tuning_w_RayTune.ipynb\n",
    "    \"\"\"\n",
    "\n",
    "    def on_epoch_end(\n",
    "        self, epoch: int, logs: Optional[Dict] = None, metric: Optional[float] = None\n",
    "    ):\n",
    "        report_dict = {}\n",
    "        for k, v in self.trainer.history.items():\n",
    "            report_dict.update({k: v[-1]})\n",
    "        if hasattr(self.trainer, \"lr_history\"):\n",
    "            for k, v in self.trainer.lr_history.items():\n",
    "                report_dict.update({k: v[-1]})\n",
    "        tune.report(report_dict)\n",
    "\n",
    "\n",
    "class WnBReportBest(Callback):\n",
    "    r\"\"\"Callback that allows reporting best performance of a run to WnB\n",
    "    during Hyperparameter tuning. It is an adjusted pytorch_widedeep.callbacks.ModelCheckpoint\n",
    "    with added WnB and removed checkpoint saving.\n",
    "\n",
    "    Callbacks are passed as input parameters to the ``Trainer`` class.\n",
    "\n",
    "    Parameters\n",
    "    ----------\n",
    "    wb: obj\n",
    "        Weights&Biases API interface to report single best result usable for\n",
    "        comparisson of multiple paramater combinations by, for example,\n",
    "        `parallel coordinates\n",
    "        <https://docs.wandb.ai/ref/app/features/panels/parallel-coordinates>`_.\n",
    "        E.g W&B summary report `wandb.run.summary[\"best\"]`.\n",
    "    monitor: str, default=\"loss\"\n",
    "        quantity to monitor. Typically `'val_loss'` or metric name\n",
    "        (e.g. `'val_acc'`)\n",
    "    mode: str, default=\"auto\"\n",
    "        If ``save_best_only=True``, the decision to overwrite the current save\n",
    "        file is made based on either the maximization or the minimization of\n",
    "        the monitored quantity. For `'acc'`, this should be `'max'`, for\n",
    "        `'loss'` this should be `'min'`, etc. In `'auto'` mode, the\n",
    "        direction is automatically inferred from the name of the monitored\n",
    "        quantity.\n",
    "\n",
    "    \"\"\"\n",
    "\n",
    "    def __init__(\n",
    "        self,\n",
    "        wb: object,\n",
    "        monitor: str = \"val_loss\",\n",
    "        mode: str = \"auto\",\n",
    "    ):\n",
    "        super(WnBReportBest, self).__init__()\n",
    "\n",
    "        self.monitor = monitor\n",
    "        self.mode = mode\n",
    "        self.wb = wb\n",
    "\n",
    "        if self.mode not in [\"auto\", \"min\", \"max\"]:\n",
    "            warnings.warn(\n",
    "                \"WnBReportBest mode %s is unknown, \"\n",
    "                \"fallback to auto mode.\" % (self.mode),\n",
    "                RuntimeWarning,\n",
    "            )\n",
    "            self.mode = \"auto\"\n",
    "        if self.mode == \"min\":\n",
    "            self.monitor_op = np.less\n",
    "            self.best = np.Inf\n",
    "        elif self.mode == \"max\":\n",
    "            self.monitor_op = np.greater  # type: ignore[assignment]\n",
    "            self.best = -np.Inf\n",
    "        else:\n",
    "            if self._is_metric(self.monitor):\n",
    "                self.monitor_op = np.greater  # type: ignore[assignment]\n",
    "                self.best = -np.Inf\n",
    "            else:\n",
    "                self.monitor_op = np.less\n",
    "                self.best = np.Inf\n",
    "\n",
    "    def on_epoch_end(  # noqa: C901\n",
    "        self, epoch: int, logs: Optional[Dict] = None, metric: Optional[float] = None\n",
    "    ):\n",
    "        logs = logs or {}\n",
    "        current = logs.get(self.monitor)\n",
    "        if current is not None:\n",
    "            if self.monitor_op(current, self.best):\n",
    "                self.wb.run.summary[\"best\"] = current  # type: ignore[attr-defined]\n",
    "                self.best = current\n",
    "                self.best_epoch = epoch\n",
    "\n",
    "    @staticmethod\n",
    "    def _is_metric(monitor: str):\n",
    "        \"copied from pytorch_widedeep.callbacks\"\n",
    "        if any([s in monitor for s in [\"acc\", \"prec\", \"rec\", \"fscore\", \"f1\", \"f2\"]]):\n",
    "            return True\n",
    "        else:\n",
    "            return False\n"
   ]
  },
  {
   "cell_type": "markdown",
   "metadata": {},
   "source": [
    "# Dataset"
   ]
  },
  {
   "cell_type": "markdown",
   "metadata": {},
   "source": [
    "**identifiers**"
   ]
  },
  {
   "cell_type": "code",
   "execution_count": 3,
   "metadata": {
    "tags": []
   },
   "outputs": [],
   "source": [
    "column_types = common.json_load(\"../#datasets/Colab_PowerConverter/column_types.json\")\n",
    "target = column_types[\"target\"]\n",
    "identifier = column_types[\"identifier\"]\n",
    "measurement_label = column_types[\"measurement_label\"]\n",
    "\n",
    "parameters = {\n",
    "    \"random_state\": 1,\n",
    "    \"valid_size\": 0.2,\n",
    "    \"test_size\": 0.5,\n",
    "    \"scaler_mapper_def\": {\n",
    "        \"target_col\": None,\n",
    "        \"identifier_col\": None,\n",
    "        \"cont_cols\": StandardScaler,\n",
    "    },\n",
    "}\n",
    "\n",
    "valid_size = parameters[\"valid_size\"]\n",
    "test_size = parameters[\"test_size\"]\n",
    "scaler_mapper_def = parameters[\"scaler_mapper_def\"]\n",
    "random_state = parameters[\"random_state\"]\n",
    "test_n_valid_combined = True\n",
    "task = \"multiclass\" #(or \"binary\")"
   ]
  },
  {
   "cell_type": "code",
   "execution_count": 4,
   "metadata": {},
   "outputs": [],
   "source": [
    "df = pd.read_pickle(\"../#datasets/Colab_PowerConverter/dataset.pkl\")\n",
    "# df = pd.read_csv(\"../#datasets/Colab_PowerConverter/PowerElectronics_11.csv\")\n",
    "# df = pd.read_csv(\"../#datasets/Colab_PowerConverter/PowerElectronics_11_tampered_1_10.csv\")\n",
    "# df = pd.read_csv(\"../#datasets/Colab_PowerConverter/PowerElectronics_11_tampered_1_10_reduced.csv\")\n",
    "# df = pd.read_csv(\"../#datasets/Colab_PowerConverter/PowerElectronics_tampered_1_100.csv\")\n",
    "# df = pd.read_csv(\"../#datasets/Colab_PowerConverter/PowerElectronics_tampered_1_100_reduced.csv\")"
   ]
  },
  {
   "attachments": {},
   "cell_type": "markdown",
   "id": "b1dc3626",
   "metadata": {},
   "source": [
    "**Ioannis datasets**"
   ]
  },
  {
   "cell_type": "code",
   "execution_count": 5,
   "id": "81f8cd21",
   "metadata": {},
   "outputs": [
    {
     "name": "stdout",
     "output_type": "stream",
     "text": [
      "0    14000\n",
      "2     5000\n",
      "1     4000\n",
      "3     1000\n",
      "Name: Target, dtype: int64\n",
      "0    14010\n",
      "2     5000\n",
      "1     3990\n",
      "3     1000\n",
      "Name: Target, dtype: int64\n",
      "0    11653\n",
      "2     3878\n",
      "1     2236\n",
      "3      693\n",
      "Name: Target, dtype: int64\n",
      " 2    5000\n",
      " 1    3901\n",
      " 0    2099\n",
      "-1    1000\n",
      "Name: Target, dtype: int64\n",
      " 1    2120\n",
      " 2    1939\n",
      " 0     407\n",
      "-1     252\n",
      "Name: Target, dtype: int64\n"
     ]
    },
    {
     "data": {
      "text/html": [
       "<div>\n",
       "<style scoped>\n",
       "    .dataframe tbody tr th:only-of-type {\n",
       "        vertical-align: middle;\n",
       "    }\n",
       "\n",
       "    .dataframe tbody tr th {\n",
       "        vertical-align: top;\n",
       "    }\n",
       "\n",
       "    .dataframe thead th {\n",
       "        text-align: right;\n",
       "    }\n",
       "</style>\n",
       "<table border=\"1\" class=\"dataframe\">\n",
       "  <thead>\n",
       "    <tr style=\"text-align: right;\">\n",
       "      <th></th>\n",
       "      <th>URa</th>\n",
       "      <th>URb</th>\n",
       "      <th>URc</th>\n",
       "      <th>Udc</th>\n",
       "      <th>IRa</th>\n",
       "      <th>IRb</th>\n",
       "      <th>IRc</th>\n",
       "      <th>Target</th>\n",
       "    </tr>\n",
       "  </thead>\n",
       "  <tbody>\n",
       "    <tr>\n",
       "      <th>0</th>\n",
       "      <td>-307.438</td>\n",
       "      <td>101.4930</td>\n",
       "      <td>205.946</td>\n",
       "      <td>599.277</td>\n",
       "      <td>0.300602</td>\n",
       "      <td>-1.295490</td>\n",
       "      <td>0.134279</td>\n",
       "      <td>0</td>\n",
       "    </tr>\n",
       "    <tr>\n",
       "      <th>1</th>\n",
       "      <td>-303.949</td>\n",
       "      <td>85.6335</td>\n",
       "      <td>218.316</td>\n",
       "      <td>601.601</td>\n",
       "      <td>0.416571</td>\n",
       "      <td>0.805675</td>\n",
       "      <td>-0.946058</td>\n",
       "      <td>0</td>\n",
       "    </tr>\n",
       "    <tr>\n",
       "      <th>2</th>\n",
       "      <td>-259.495</td>\n",
       "      <td>-21.7492</td>\n",
       "      <td>281.244</td>\n",
       "      <td>603.314</td>\n",
       "      <td>0.759898</td>\n",
       "      <td>-0.027466</td>\n",
       "      <td>-0.462348</td>\n",
       "      <td>0</td>\n",
       "    </tr>\n",
       "    <tr>\n",
       "      <th>3</th>\n",
       "      <td>-235.802</td>\n",
       "      <td>-59.0828</td>\n",
       "      <td>294.885</td>\n",
       "      <td>603.069</td>\n",
       "      <td>1.112380</td>\n",
       "      <td>0.785838</td>\n",
       "      <td>-0.277714</td>\n",
       "      <td>0</td>\n",
       "    </tr>\n",
       "    <tr>\n",
       "      <th>4</th>\n",
       "      <td>-221.591</td>\n",
       "      <td>-81.6662</td>\n",
       "      <td>303.257</td>\n",
       "      <td>601.846</td>\n",
       "      <td>0.384527</td>\n",
       "      <td>-0.579842</td>\n",
       "      <td>0.090028</td>\n",
       "      <td>0</td>\n",
       "    </tr>\n",
       "  </tbody>\n",
       "</table>\n",
       "</div>"
      ],
      "text/plain": [
       "       URa       URb      URc      Udc       IRa       IRb       IRc  Target\n",
       "0 -307.438  101.4930  205.946  599.277  0.300602 -1.295490  0.134279       0\n",
       "1 -303.949   85.6335  218.316  601.601  0.416571  0.805675 -0.946058       0\n",
       "2 -259.495  -21.7492  281.244  603.314  0.759898 -0.027466 -0.462348       0\n",
       "3 -235.802  -59.0828  294.885  603.069  1.112380  0.785838 -0.277714       0\n",
       "4 -221.591  -81.6662  303.257  601.846  0.384527 -0.579842  0.090028       0"
      ]
     },
     "execution_count": 5,
     "metadata": {},
     "output_type": "execute_result"
    }
   ],
   "source": [
    "datasets = [\n",
    "    \"../#datasets/Colab_PowerConverter/PowerElectronics_11.csv\",\n",
    "    \"../#datasets/Colab_PowerConverter/PowerElectronics_11_tampered_1_10.csv\",\n",
    "    \"../#datasets/Colab_PowerConverter/PowerElectronics_11_tampered_1_10_reduced.csv\",\n",
    "    \"../#datasets/Colab_PowerConverter/PowerElectronics_tampered_1_100.csv\",\n",
    "    \"../#datasets/Colab_PowerConverter/PowerElectronics_tampered_1_100_reduced.csv\",\n",
    "    ]\n",
    "for dataset_str in datasets:\n",
    "    df_temp = pd.read_csv(dataset_str)\n",
    "    print(df_temp[\"Target\"].value_counts())\n",
    "df_temp.head()"
   ]
  },
  {
   "attachments": {},
   "cell_type": "markdown",
   "id": "0ff1b412",
   "metadata": {},
   "source": [
    "**Keep only the faulty datasets as the other ones do not include fault**"
   ]
  },
  {
   "cell_type": "code",
   "execution_count": 6,
   "metadata": {},
   "outputs": [
    {
     "name": "stdout",
     "output_type": "stream",
     "text": [
      "imbalance of the classes:\n",
      "0    235539\n",
      "2     40014\n",
      "3     40001\n",
      "1      3166\n",
      "4      1335\n",
      "Name: fault, dtype: int64\n",
      "faults dictionary:\n",
      "{'LL_Fault': 1, 'Three-Phase_Sensor_Fault': 2, 'Single_Phase_Sag': 3, 'Three_Phase_Grid_Fault': 4}\n"
     ]
    }
   ],
   "source": [
    "# this measurement did not have a fault (?)\n",
    "# df = df[df[measurement_label]!=\"Single-Phase_Sensor_Fault\"]\n",
    "# df.reset_index(inplace=True, drop=True)\n",
    "\n",
    "df = df[df[measurement_label].isin([\"LL_Fault\", \"Three-Phase_Sensor_Fault\", \"Single_Phase_Sag\", \"Three_Phase_Grid_Fault\"])]\n",
    "df.reset_index(inplace=True, drop=True)\n",
    "\n",
    "fault_dict = {}\n",
    "for label,i in zip(df[measurement_label].unique(), range(len(df[measurement_label].unique()))):\n",
    "    df.loc[(df[measurement_label]==label) & (df[target]==1), target] = int(i+1)\n",
    "    fault_dict[label] = int(i+1)\n",
    "\n",
    "print(f\"imbalance of the classes:\\n{df[target].value_counts()}\")\n",
    "print(f\"faults dictionary:\\n{fault_dict}\")"
   ]
  },
  {
   "attachments": {},
   "cell_type": "markdown",
   "metadata": {},
   "source": [
    "# Preprocessing\n",
    "* divide dataset into train, test, valid\n",
    "* scale continuous columns by standard scaler(not needed for LightGBM but for other mdoels...)"
   ]
  },
  {
   "cell_type": "code",
   "execution_count": 7,
   "metadata": {},
   "outputs": [],
   "source": [
    "df.drop(columns=[measurement_label], inplace=True)\n",
    "\n",
    "df_train, df_valid = train_test_split(df, test_size=valid_size, stratify=df[target], random_state=random_state)\n",
    "df_valid, df_test = train_test_split(df_valid, test_size=test_size, stratify=df_valid[target], random_state=random_state)\n",
    "\n",
    "df_train.reset_index(inplace=True, drop=True)\n",
    "df_valid.reset_index(inplace=True, drop=True)\n",
    "df_test.reset_index(inplace=True, drop=True)\n",
    "\n",
    "cont_cols = df.drop(columns=[target,identifier]).columns.values\n",
    "scaler = utils.scaler_mapper(\n",
    "    cont_cols=cont_cols,\n",
    "    target_col=target,\n",
    "    identifier=identifier,\n",
    "    scaler_mapper_def=scaler_mapper_def,\n",
    ")\n",
    "\n",
    "df_train_scaled = scaler.fit_transform(df_train)\n",
    "df_test_scaled = scaler.transform(df_test)\n",
    "df_valid_scaled = scaler.transform(df_valid)"
   ]
  },
  {
   "attachments": {},
   "cell_type": "markdown",
   "id": "4c6ea9fe",
   "metadata": {},
   "source": [
    "# H2O AutoML"
   ]
  },
  {
   "cell_type": "code",
   "execution_count": 14,
   "id": "542a4ad0",
   "metadata": {},
   "outputs": [
    {
     "name": "stdout",
     "output_type": "stream",
     "text": [
      "Checking whether there is an H2O instance running at http://localhost:54321 . connected.\n"
     ]
    },
    {
     "data": {
      "text/html": [
       "\n",
       "<style>\n",
       "\n",
       "#h2o-table-3.h2o-container {\n",
       "  overflow-x: auto;\n",
       "}\n",
       "#h2o-table-3 .h2o-table {\n",
       "  /* width: 100%; */\n",
       "  margin-top: 1em;\n",
       "  margin-bottom: 1em;\n",
       "}\n",
       "#h2o-table-3 .h2o-table caption {\n",
       "  white-space: nowrap;\n",
       "  caption-side: top;\n",
       "  text-align: left;\n",
       "  /* margin-left: 1em; */\n",
       "  margin: 0;\n",
       "  font-size: larger;\n",
       "}\n",
       "#h2o-table-3 .h2o-table thead {\n",
       "  white-space: nowrap; \n",
       "  position: sticky;\n",
       "  top: 0;\n",
       "  box-shadow: 0 -1px inset;\n",
       "}\n",
       "#h2o-table-3 .h2o-table tbody {\n",
       "  overflow: auto;\n",
       "}\n",
       "#h2o-table-3 .h2o-table th,\n",
       "#h2o-table-3 .h2o-table td {\n",
       "  text-align: right;\n",
       "  /* border: 1px solid; */\n",
       "}\n",
       "#h2o-table-3 .h2o-table tr:nth-child(even) {\n",
       "  /* background: #F5F5F5 */\n",
       "}\n",
       "\n",
       "</style>      \n",
       "<div id=\"h2o-table-3\" class=\"h2o-container\">\n",
       "  <table class=\"h2o-table\">\n",
       "    <caption></caption>\n",
       "    <thead></thead>\n",
       "    <tbody><tr><td>H2O_cluster_uptime:</td>\n",
       "<td>39 mins 03 secs</td></tr>\n",
       "<tr><td>H2O_cluster_timezone:</td>\n",
       "<td>Europe/Paris</td></tr>\n",
       "<tr><td>H2O_data_parsing_timezone:</td>\n",
       "<td>UTC</td></tr>\n",
       "<tr><td>H2O_cluster_version:</td>\n",
       "<td>3.38.0.4</td></tr>\n",
       "<tr><td>H2O_cluster_version_age:</td>\n",
       "<td>20 days </td></tr>\n",
       "<tr><td>H2O_cluster_name:</td>\n",
       "<td>H2O_from_python_palo_x2frqq</td></tr>\n",
       "<tr><td>H2O_cluster_total_nodes:</td>\n",
       "<td>1</td></tr>\n",
       "<tr><td>H2O_cluster_free_memory:</td>\n",
       "<td>1.419 Gb</td></tr>\n",
       "<tr><td>H2O_cluster_total_cores:</td>\n",
       "<td>8</td></tr>\n",
       "<tr><td>H2O_cluster_allowed_cores:</td>\n",
       "<td>8</td></tr>\n",
       "<tr><td>H2O_cluster_status:</td>\n",
       "<td>locked, healthy</td></tr>\n",
       "<tr><td>H2O_connection_url:</td>\n",
       "<td>http://localhost:54321</td></tr>\n",
       "<tr><td>H2O_connection_proxy:</td>\n",
       "<td>{\"http\": null, \"https\": null}</td></tr>\n",
       "<tr><td>H2O_internal_security:</td>\n",
       "<td>False</td></tr>\n",
       "<tr><td>Python_version:</td>\n",
       "<td>3.10.9 final</td></tr></tbody>\n",
       "  </table>\n",
       "</div>\n"
      ],
      "text/plain": [
       "--------------------------  -----------------------------\n",
       "H2O_cluster_uptime:         39 mins 03 secs\n",
       "H2O_cluster_timezone:       Europe/Paris\n",
       "H2O_data_parsing_timezone:  UTC\n",
       "H2O_cluster_version:        3.38.0.4\n",
       "H2O_cluster_version_age:    20 days\n",
       "H2O_cluster_name:           H2O_from_python_palo_x2frqq\n",
       "H2O_cluster_total_nodes:    1\n",
       "H2O_cluster_free_memory:    1.419 Gb\n",
       "H2O_cluster_total_cores:    8\n",
       "H2O_cluster_allowed_cores:  8\n",
       "H2O_cluster_status:         locked, healthy\n",
       "H2O_connection_url:         http://localhost:54321\n",
       "H2O_connection_proxy:       {\"http\": null, \"https\": null}\n",
       "H2O_internal_security:      False\n",
       "Python_version:             3.10.9 final\n",
       "--------------------------  -----------------------------"
      ]
     },
     "metadata": {},
     "output_type": "display_data"
    },
    {
     "name": "stdout",
     "output_type": "stream",
     "text": [
      "Parse progress: |████████████████████████████████████████████████████████████████| (done) 100%\n",
      "Parse progress: |████████████████████████████████████████████████████████████████| (done) 100%\n",
      "Parse progress: |████████████████████████████████████████████████████████████████| (done) 100%\n",
      "AutoML progress: |\n",
      "10:12:00.102: _train param, Dropping bad and constant columns: [P_ref, V_DC, m_d, m_q]\n",
      "\n",
      "███████████████████\n",
      "10:12:52.949: _train param, Dropping bad and constant columns: [P_ref, V_DC, m_d, m_q]\n",
      "\n",
      "█████████████████\n",
      "10:13:43.919: _train param, Dropping bad and constant columns: [P_ref, V_DC, m_d, m_q]\n",
      "\n",
      "███████████████████\n",
      "10:14:37.193: _train param, Dropping unused columns: [P_ref, V_DC, m_d, m_q]\n",
      "\n",
      "████████| (done) 100%\n",
      "model_id                                                   mean_per_class_error      logloss        rmse          mse    training_time_ms    predict_time_per_row_ms  algo\n",
      "XGBoost_1_AutoML_4_20230126_101200                                   0.00150103  0.000509257  0.00803503  6.45617e-05               52576                   0.007552  XGBoost\n",
      "GBM_1_AutoML_4_20230126_101200                                       0.00309357  0.0181482    0.0531478   0.00282469                51257                   0.041447  GBM\n",
      "StackedEnsemble_BestOfFamily_1_AutoML_4_20230126_101200              0.203173    0.0271085    0.0720747   0.00519477                23577                   0.009622  StackedEnsemble\n",
      "GLM_1_AutoML_4_20230126_101200                                       0.459538    0.36961      0.355018    0.126038                  50907                   0.000476  GLM\n",
      "[4 rows x 8 columns]\n",
      "\n",
      "Export File progress: |██████████████████████████████████████████████████████████| (done) 100%\n",
      "ModelMetricsMultinomial: xgboost\n",
      "** Reported on test data. **\n",
      "\n",
      "MSE: 6.456174218800017e-05\n",
      "RMSE: 0.008035032183382975\n",
      "LogLoss: 0.0005092570229684122\n",
      "Mean Per-Class Error: 0.0015010284402053584\n",
      "AUC table was not computed: it is either disabled (model parameter 'auc_type' was set to AUTO or NONE) or the domain size exceeds the limit (maximum is 50 domains).\n",
      "AUCPR table was not computed: it is either disabled (model parameter 'auc_type' was set to AUTO or NONE) or the domain size exceeds the limit (maximum is 50 domains).\n",
      "\n",
      "Confusion Matrix: Row labels: Actual class; Column labels: Predicted class\n",
      "0      1    2     3     4    Error        Rate\n",
      "-----  ---  ----  ----  ---  -----------  ----------\n",
      "23553  0    1     0     0    4.24556e-05  1 / 23,554\n",
      "0      316  0     0     0    0            0 / 316\n",
      "0      0    4001  0     0    0            0 / 4,001\n",
      "0      0    0     4000  0    0            0 / 4,000\n",
      "1      0    0     0     133  0.00746269   1 / 134\n",
      "23554  316  4002  4000  133  6.24902e-05  2 / 32,005\n",
      "\n",
      "Top-5 Hit Ratios: \n",
      "k    hit_ratio\n",
      "---  -----------\n",
      "1    0.999938\n",
      "2    1\n",
      "3    1\n",
      "4    1\n",
      "5    1\n",
      "xgboost prediction progress: |███████████████████████████████████████████████████| (done) 100%\n"
     ]
    }
   ],
   "source": [
    "# initialize H2O\n",
    "h2o.init(log_dir=\"h2o_logs\", log_level=\"WARN\")\n",
    "\n",
    "# read as h2o file\n",
    "h2o_train = h2o.H2OFrame(df_train_scaled)\n",
    "h2o_valid = h2o.H2OFrame(df_valid_scaled)\n",
    "h2o_test = h2o.H2OFrame(df_test_scaled)\n",
    "\n",
    "# For binary classification, response should be a factor\n",
    "h2o_train[target] = h2o_train[target].asfactor()\n",
    "h2o_valid[target] = h2o_valid[target].asfactor()\n",
    "h2o_test[target] = h2o_test[target].asfactor()\n",
    "\n",
    "# Define AML task\n",
    "aml = H2OAutoML(seed=random_state, max_runtime_secs=180)\n",
    "\n",
    "# over/under sample for classification tasks\n",
    "aml.balance_classes = True\n",
    "\n",
    "# Run it\n",
    "_ = aml.train(\n",
    "    x=list(cont_cols),\n",
    "    y=target,\n",
    "    training_frame=h2o_train,\n",
    "    leaderboard_frame=h2o_valid,\n",
    ")\n",
    "\n",
    "m = aml.get_best_model()\n",
    "\n",
    "# Leaderboard, show and save\n",
    "lb = h2o.automl.get_leaderboard(aml, extra_columns=\"ALL\")\n",
    "print(lb)\n",
    "# save results\n",
    "h2o.export_file(lb, path=\"h2o_logs/leaderboard.csv\", force=True)\n",
    "\n",
    "print(m.model_performance(h2o_valid))\n",
    "\n",
    "# MOJO is h2o version agnostic\n",
    "m.save_mojo(\"h2o_logs/bestmodel.zip\")\n",
    "\n",
    "predictions = m.predict(h2o_test)"
   ]
  },
  {
   "cell_type": "code",
   "execution_count": 16,
   "id": "e5bbde7f",
   "metadata": {},
   "outputs": [
    {
     "name": "stdout",
     "output_type": "stream",
     "text": [
      "model_id                                                   mean_per_class_error      logloss        rmse          mse    training_time_ms    predict_time_per_row_ms  algo\n",
      "XGBoost_1_AutoML_4_20230126_101200                                   0.00150103  0.000509257  0.00803503  6.45617e-05               52576                   0.007552  XGBoost\n",
      "GBM_1_AutoML_4_20230126_101200                                       0.00309357  0.0181482    0.0531478   0.00282469                51257                   0.041447  GBM\n",
      "StackedEnsemble_BestOfFamily_1_AutoML_4_20230126_101200              0.203173    0.0271085    0.0720747   0.00519477                23577                   0.009622  StackedEnsemble\n",
      "GLM_1_AutoML_4_20230126_101200                                       0.459538    0.36961      0.355018    0.126038                  50907                   0.000476  GLM\n",
      "[4 rows x 8 columns]\n",
      "\n",
      "ModelMetricsMultinomial: xgboost\n",
      "** Reported on test data. **\n",
      "\n",
      "MSE: 6.456174218800017e-05\n",
      "RMSE: 0.008035032183382975\n",
      "LogLoss: 0.0005092570229684122\n",
      "Mean Per-Class Error: 0.0015010284402053584\n",
      "AUC table was not computed: it is either disabled (model parameter 'auc_type' was set to AUTO or NONE) or the domain size exceeds the limit (maximum is 50 domains).\n",
      "AUCPR table was not computed: it is either disabled (model parameter 'auc_type' was set to AUTO or NONE) or the domain size exceeds the limit (maximum is 50 domains).\n",
      "\n",
      "Confusion Matrix: Row labels: Actual class; Column labels: Predicted class\n",
      "0      1    2     3     4    Error        Rate\n",
      "-----  ---  ----  ----  ---  -----------  ----------\n",
      "23553  0    1     0     0    4.24556e-05  1 / 23,554\n",
      "0      316  0     0     0    0            0 / 316\n",
      "0      0    4001  0     0    0            0 / 4,001\n",
      "0      0    0     4000  0    0            0 / 4,000\n",
      "1      0    0     0     133  0.00746269   1 / 134\n",
      "23554  316  4002  4000  133  6.24902e-05  2 / 32,005\n",
      "\n",
      "Top-5 Hit Ratios: \n",
      "k    hit_ratio\n",
      "---  -----------\n",
      "1    0.999938\n",
      "2    1\n",
      "3    1\n",
      "4    1\n",
      "5    1\n"
     ]
    }
   ],
   "source": [
    "print(lb)\n",
    "print(m.model_performance(h2o_valid))"
   ]
  },
  {
   "cell_type": "code",
   "execution_count": 28,
   "id": "38190593",
   "metadata": {},
   "outputs": [
    {
     "name": "stdout",
     "output_type": "stream",
     "text": [
      "Classification report:\n",
      "              precision    recall  f1-score   support\n",
      "\n",
      "           0       1.00      1.00      1.00     23554\n",
      "           1       1.00      1.00      1.00       317\n",
      "           2       1.00      1.00      1.00      4002\n",
      "           3       1.00      1.00      1.00      4002\n",
      "           4       0.98      1.00      0.99       131\n",
      "\n",
      "    accuracy                           1.00     32006\n",
      "   macro avg       1.00      1.00      1.00     32006\n",
      "weighted avg       1.00      1.00      1.00     32006\n",
      "\n"
     ]
    }
   ],
   "source": [
    "print(\"Classification report:\\n{}\".format(classification_report(h2o.as_list(predictions[\"predict\"]), df_test[target])))"
   ]
  },
  {
   "cell_type": "markdown",
   "id": "8aa49040",
   "metadata": {},
   "source": [
    "# LightGBM"
   ]
  },
  {
   "cell_type": "code",
   "execution_count": 7,
   "id": "ada72576",
   "metadata": {},
   "outputs": [],
   "source": [
    "from scipy.misc import derivative\n",
    "\n",
    "def focal_loss_lgb(y_pred, dtrain, alpha, gamma, num_class):\n",
    "    \"\"\"\n",
    "    Focal Loss for lightgbm\n",
    "\n",
    "    Parameters:\n",
    "    -----------\n",
    "    y_pred: numpy.ndarray\n",
    "        array with the predictions\n",
    "    dtrain: lightgbm.Dataset\n",
    "    alpha, gamma: float\n",
    "        See original paper https://arxiv.org/pdf/1708.02002.pdf\n",
    "    num_class: int\n",
    "        number of classes\n",
    "    \"\"\"\n",
    "    a,g = alpha, gamma\n",
    "    y_true = dtrain.label\n",
    "    # N observations x num_class arrays\n",
    "    y_true = np.eye(num_class)[y_true.astype('int')]\n",
    "    y_pred = y_pred.reshape(-1,num_class, order='F')\n",
    "    # alpha and gamma multiplicative factors with BCEWithLogitsLoss\n",
    "    def fl(x,t):\n",
    "        p = 1/(1+np.exp(-x))\n",
    "        return -( a*t + (1-a)*(1-t) ) * (( 1 - ( t*p + (1-t)*(1-p)) )**g) * ( t*np.log(p)+(1-t)*np.log(1-p) )\n",
    "    partial_fl = lambda x: fl(x, y_true)\n",
    "    grad = derivative(partial_fl, y_pred, n=1, dx=1e-6)\n",
    "    hess = derivative(partial_fl, y_pred, n=2, dx=1e-6)\n",
    "    # flatten in column-major (Fortran-style) order\n",
    "    return grad.flatten('F'), hess.flatten('F')\n",
    "\n",
    "def focal_loss_lgb_eval_error(y_pred, dtrain, alpha, gamma, num_class):\n",
    "    \"\"\"\n",
    "    Focal Loss for lightgbm\n",
    "\n",
    "    Parameters:\n",
    "    -----------\n",
    "    y_pred: numpy.ndarray\n",
    "        array with the predictions\n",
    "    dtrain: lightgbm.Dataset\n",
    "    alpha, gamma: float\n",
    "        See original paper https://arxiv.org/pdf/1708.02002.pdf\n",
    "    num_class: int\n",
    "        number of classes\n",
    "    \"\"\"\n",
    "    a,g = alpha, gamma\n",
    "    y_true = dtrain.label\n",
    "    y_true = np.eye(num_class)[y_true.astype('int')]\n",
    "    y_pred = y_pred.reshape(-1, num_class, order='F')\n",
    "    p = 1/(1+np.exp(-y_pred))\n",
    "    loss = -( a*y_true + (1-a)*(1-y_true) ) * (( 1 - ( y_true*p + (1-y_true)*(1-p)) )**g) * ( y_true*np.log(p)+(1-y_true)*np.log(1-p) )\n",
    "    # a variant can be np.sum(loss)/num_class\n",
    "    return 'focal_loss', np.mean(loss), False"
   ]
  },
  {
   "cell_type": "code",
   "execution_count": 8,
   "id": "75c5b8e5",
   "metadata": {},
   "outputs": [],
   "source": [
    "n_class = pd.concat([df_train_scaled, df_valid_scaled, df_test_scaled])[target].nunique()\n",
    "custom = utils.LGBM_custom_score(n_class=n_class)\n",
    "fobj = lambda preds, data: custom.lgbm_focal_loss(preds, data, 0.25, 1.0)\n",
    "#feval = lambda preds, data: focal_loss_lgb_eval_error(preds, data, 0.25, 1.0, n_class)\n",
    "feval = [\n",
    "    lambda preds, data: [\n",
    "        custom.lgbm_focal_loss_eval(preds, data, 0.25, 1.0),\n",
    "         custom.lgbm_f1(preds, data),\n",
    "         custom.lgbm_precision(preds, data),\n",
    "         custom.lgbm_recall(preds, data),\n",
    "         custom.lgbm_accuracy(preds, data),\n",
    "    ]\n",
    "]\n",
    "# ray_metric = \"-\" + \"focal_loss\"\n",
    "# ray_metric = \"multi_logloss\"\n",
    "\n",
    "config = {}\n",
    "config[\"objective\"] = \"multiclass\"\n",
    "config[\"num_classes\"] = n_class\n",
    "\n",
    "# config = {\"verbose\": -1}\n",
    "# config[\"is_unbalance\"] = True"
   ]
  },
  {
   "cell_type": "code",
   "execution_count": 9,
   "id": "7ee88737",
   "metadata": {},
   "outputs": [],
   "source": [
    "df_train_scaled_enc = df_train_scaled.copy()\n",
    "df_valid_scaled_enc = df_valid_scaled.copy()\n",
    "df_test_scaled_enc = df_test_scaled.copy()\n",
    "lgb_cat_cols = []\n",
    "\n",
    "lgbtrain = lgbm.Dataset(\n",
    "    df_train_scaled_enc.drop(columns=[target, identifier]),\n",
    "    df_train_scaled_enc[target],\n",
    "    categorical_feature=lgb_cat_cols,\n",
    "    free_raw_data=False,\n",
    ")\n",
    "lgbvalid = lgbm.Dataset(\n",
    "    df_valid_scaled_enc.drop(columns=[target, identifier]),\n",
    "    df_valid_scaled_enc[target],\n",
    "    reference=lgbtrain,\n",
    "    free_raw_data=False,\n",
    ")\n",
    "# Final TRAIN/TEST\n",
    "ftrain = pd.concat([df_train_scaled_enc, df_valid_scaled_enc]).reset_index(drop=True)\n",
    "flgbtrain = lgbm.Dataset(\n",
    "    ftrain.drop(columns=[target, identifier]),\n",
    "    ftrain[target],\n",
    "    categorical_feature=lgb_cat_cols,\n",
    "    free_raw_data=False,\n",
    ")\n",
    "lgbtest = lgbm.Dataset(\n",
    "    df_test_scaled_enc.drop(columns=[target, identifier]),\n",
    "    df_test_scaled_enc[target],\n",
    "    categorical_feature=lgb_cat_cols,\n",
    "    reference=flgbtrain,\n",
    "    free_raw_data=False,\n",
    ")"
   ]
  },
  {
   "cell_type": "code",
   "execution_count": 10,
   "id": "55343077",
   "metadata": {},
   "outputs": [
    {
     "name": "stderr",
     "output_type": "stream",
     "text": [
      "Using categorical_feature in Dataset.\n",
      "categorical_feature in Dataset is overridden.\n",
      "New categorical_feature is []\n"
     ]
    },
    {
     "name": "stdout",
     "output_type": "stream",
     "text": [
      "[LightGBM] [Warning] Using self-defined objective function\n",
      "[LightGBM] [Warning] Auto-choosing row-wise multi-threading, the overhead of testing was 0.004646 seconds.\n",
      "You can set `force_row_wise=true` to remove the overhead.\n",
      "And if memory is not enough, you can set `force_col_wise=true`.\n",
      "[LightGBM] [Info] Total Bins 2295\n",
      "[LightGBM] [Info] Number of data points in the train set: 256044, number of used features: 9\n",
      "[LightGBM] [Warning] Using self-defined objective function\n"
     ]
    },
    {
     "name": "stderr",
     "output_type": "stream",
     "text": [
      "scipy.misc.derivative is deprecated in SciPy v1.10.0; and will be completely removed in SciPy v1.12.0. You may consider using findiff: https://github.com/maroba/findiff or numdifftools: https://github.com/pbrod/numdifftools\n",
      "scipy.misc.derivative is deprecated in SciPy v1.10.0; and will be completely removed in SciPy v1.12.0. You may consider using findiff: https://github.com/maroba/findiff or numdifftools: https://github.com/pbrod/numdifftools\n"
     ]
    },
    {
     "name": "stdout",
     "output_type": "stream",
     "text": [
      "[LightGBM] [Warning] No further splits with positive gain, best gain: -inf\n",
      "[1]\t's focal_loss: 0.195762\t's f1: 0.999781\t's precision: 0.999781\t's recall: 0.999781\t's accuracy: 0.999781\n"
     ]
    },
    {
     "name": "stderr",
     "output_type": "stream",
     "text": [
      "scipy.misc.derivative is deprecated in SciPy v1.10.0; and will be completely removed in SciPy v1.12.0. You may consider using findiff: https://github.com/maroba/findiff or numdifftools: https://github.com/pbrod/numdifftools\n",
      "scipy.misc.derivative is deprecated in SciPy v1.10.0; and will be completely removed in SciPy v1.12.0. You may consider using findiff: https://github.com/maroba/findiff or numdifftools: https://github.com/pbrod/numdifftools\n"
     ]
    },
    {
     "name": "stdout",
     "output_type": "stream",
     "text": [
      "[LightGBM] [Warning] No further splits with positive gain, best gain: -inf\n",
      "[LightGBM] [Warning] No further splits with positive gain, best gain: -inf\n",
      "[2]\t's focal_loss: 0.170866\t's f1: 0.999812\t's precision: 0.999813\t's recall: 0.999813\t's accuracy: 0.999813\n"
     ]
    },
    {
     "name": "stderr",
     "output_type": "stream",
     "text": [
      "scipy.misc.derivative is deprecated in SciPy v1.10.0; and will be completely removed in SciPy v1.12.0. You may consider using findiff: https://github.com/maroba/findiff or numdifftools: https://github.com/pbrod/numdifftools\n",
      "scipy.misc.derivative is deprecated in SciPy v1.10.0; and will be completely removed in SciPy v1.12.0. You may consider using findiff: https://github.com/maroba/findiff or numdifftools: https://github.com/pbrod/numdifftools\n"
     ]
    },
    {
     "name": "stdout",
     "output_type": "stream",
     "text": [
      "[LightGBM] [Warning] No further splits with positive gain, best gain: -inf\n",
      "[LightGBM] [Warning] No further splits with positive gain, best gain: -inf\n",
      "[3]\t's focal_loss: 0.149704\t's f1: 0.999781\t's precision: 0.999781\t's recall: 0.999781\t's accuracy: 0.999781\n"
     ]
    },
    {
     "name": "stderr",
     "output_type": "stream",
     "text": [
      "scipy.misc.derivative is deprecated in SciPy v1.10.0; and will be completely removed in SciPy v1.12.0. You may consider using findiff: https://github.com/maroba/findiff or numdifftools: https://github.com/pbrod/numdifftools\n",
      "scipy.misc.derivative is deprecated in SciPy v1.10.0; and will be completely removed in SciPy v1.12.0. You may consider using findiff: https://github.com/maroba/findiff or numdifftools: https://github.com/pbrod/numdifftools\n"
     ]
    },
    {
     "name": "stdout",
     "output_type": "stream",
     "text": [
      "[LightGBM] [Warning] No further splits with positive gain, best gain: -inf\n",
      "[LightGBM] [Warning] No further splits with positive gain, best gain: -inf\n",
      "[4]\t's focal_loss: 0.131576\t's f1: 0.999812\t's precision: 0.999813\t's recall: 0.999813\t's accuracy: 0.999813\n"
     ]
    },
    {
     "name": "stderr",
     "output_type": "stream",
     "text": [
      "scipy.misc.derivative is deprecated in SciPy v1.10.0; and will be completely removed in SciPy v1.12.0. You may consider using findiff: https://github.com/maroba/findiff or numdifftools: https://github.com/pbrod/numdifftools\n",
      "scipy.misc.derivative is deprecated in SciPy v1.10.0; and will be completely removed in SciPy v1.12.0. You may consider using findiff: https://github.com/maroba/findiff or numdifftools: https://github.com/pbrod/numdifftools\n"
     ]
    },
    {
     "name": "stdout",
     "output_type": "stream",
     "text": [
      "[LightGBM] [Warning] No further splits with positive gain, best gain: -inf\n",
      "[5]\t's focal_loss: 0.115959\t's f1: 0.999812\t's precision: 0.999813\t's recall: 0.999813\t's accuracy: 0.999813\n"
     ]
    },
    {
     "name": "stderr",
     "output_type": "stream",
     "text": [
      "scipy.misc.derivative is deprecated in SciPy v1.10.0; and will be completely removed in SciPy v1.12.0. You may consider using findiff: https://github.com/maroba/findiff or numdifftools: https://github.com/pbrod/numdifftools\n",
      "scipy.misc.derivative is deprecated in SciPy v1.10.0; and will be completely removed in SciPy v1.12.0. You may consider using findiff: https://github.com/maroba/findiff or numdifftools: https://github.com/pbrod/numdifftools\n"
     ]
    },
    {
     "name": "stdout",
     "output_type": "stream",
     "text": [
      "[LightGBM] [Warning] No further splits with positive gain, best gain: -inf\n",
      "[6]\t's focal_loss: 0.102432\t's f1: 0.999812\t's precision: 0.999813\t's recall: 0.999813\t's accuracy: 0.999813\n"
     ]
    },
    {
     "name": "stderr",
     "output_type": "stream",
     "text": [
      "scipy.misc.derivative is deprecated in SciPy v1.10.0; and will be completely removed in SciPy v1.12.0. You may consider using findiff: https://github.com/maroba/findiff or numdifftools: https://github.com/pbrod/numdifftools\n",
      "scipy.misc.derivative is deprecated in SciPy v1.10.0; and will be completely removed in SciPy v1.12.0. You may consider using findiff: https://github.com/maroba/findiff or numdifftools: https://github.com/pbrod/numdifftools\n"
     ]
    },
    {
     "name": "stdout",
     "output_type": "stream",
     "text": [
      "[LightGBM] [Warning] No further splits with positive gain, best gain: -inf\n",
      "[7]\t's focal_loss: 0.0906649\t's f1: 0.999843\t's precision: 0.999844\t's recall: 0.999844\t's accuracy: 0.999844\n"
     ]
    },
    {
     "name": "stderr",
     "output_type": "stream",
     "text": [
      "scipy.misc.derivative is deprecated in SciPy v1.10.0; and will be completely removed in SciPy v1.12.0. You may consider using findiff: https://github.com/maroba/findiff or numdifftools: https://github.com/pbrod/numdifftools\n",
      "scipy.misc.derivative is deprecated in SciPy v1.10.0; and will be completely removed in SciPy v1.12.0. You may consider using findiff: https://github.com/maroba/findiff or numdifftools: https://github.com/pbrod/numdifftools\n"
     ]
    },
    {
     "name": "stdout",
     "output_type": "stream",
     "text": [
      "[LightGBM] [Warning] No further splits with positive gain, best gain: -inf\n",
      "[8]\t's focal_loss: 0.0803923\t's f1: 0.999843\t's precision: 0.999844\t's recall: 0.999844\t's accuracy: 0.999844\n"
     ]
    },
    {
     "name": "stderr",
     "output_type": "stream",
     "text": [
      "scipy.misc.derivative is deprecated in SciPy v1.10.0; and will be completely removed in SciPy v1.12.0. You may consider using findiff: https://github.com/maroba/findiff or numdifftools: https://github.com/pbrod/numdifftools\n",
      "scipy.misc.derivative is deprecated in SciPy v1.10.0; and will be completely removed in SciPy v1.12.0. You may consider using findiff: https://github.com/maroba/findiff or numdifftools: https://github.com/pbrod/numdifftools\n"
     ]
    },
    {
     "name": "stdout",
     "output_type": "stream",
     "text": [
      "[LightGBM] [Warning] No further splits with positive gain, best gain: -inf\n",
      "[9]\t's focal_loss: 0.0713998\t's f1: 0.999843\t's precision: 0.999844\t's recall: 0.999844\t's accuracy: 0.999844\n"
     ]
    },
    {
     "name": "stderr",
     "output_type": "stream",
     "text": [
      "scipy.misc.derivative is deprecated in SciPy v1.10.0; and will be completely removed in SciPy v1.12.0. You may consider using findiff: https://github.com/maroba/findiff or numdifftools: https://github.com/pbrod/numdifftools\n",
      "scipy.misc.derivative is deprecated in SciPy v1.10.0; and will be completely removed in SciPy v1.12.0. You may consider using findiff: https://github.com/maroba/findiff or numdifftools: https://github.com/pbrod/numdifftools\n"
     ]
    },
    {
     "name": "stdout",
     "output_type": "stream",
     "text": [
      "[LightGBM] [Warning] No further splits with positive gain, best gain: -inf\n",
      "[10]\t's focal_loss: 0.0635041\t's f1: 0.999875\t's precision: 0.999875\t's recall: 0.999875\t's accuracy: 0.999875\n"
     ]
    },
    {
     "name": "stderr",
     "output_type": "stream",
     "text": [
      "scipy.misc.derivative is deprecated in SciPy v1.10.0; and will be completely removed in SciPy v1.12.0. You may consider using findiff: https://github.com/maroba/findiff or numdifftools: https://github.com/pbrod/numdifftools\n",
      "scipy.misc.derivative is deprecated in SciPy v1.10.0; and will be completely removed in SciPy v1.12.0. You may consider using findiff: https://github.com/maroba/findiff or numdifftools: https://github.com/pbrod/numdifftools\n"
     ]
    },
    {
     "name": "stdout",
     "output_type": "stream",
     "text": [
      "[LightGBM] [Warning] No further splits with positive gain, best gain: -inf\n",
      "[11]\t's focal_loss: 0.0565574\t's f1: 0.999875\t's precision: 0.999875\t's recall: 0.999875\t's accuracy: 0.999875\n"
     ]
    },
    {
     "name": "stderr",
     "output_type": "stream",
     "text": [
      "scipy.misc.derivative is deprecated in SciPy v1.10.0; and will be completely removed in SciPy v1.12.0. You may consider using findiff: https://github.com/maroba/findiff or numdifftools: https://github.com/pbrod/numdifftools\n",
      "scipy.misc.derivative is deprecated in SciPy v1.10.0; and will be completely removed in SciPy v1.12.0. You may consider using findiff: https://github.com/maroba/findiff or numdifftools: https://github.com/pbrod/numdifftools\n"
     ]
    },
    {
     "name": "stdout",
     "output_type": "stream",
     "text": [
      "[LightGBM] [Warning] No further splits with positive gain, best gain: -inf\n",
      "[12]\t's focal_loss: 0.0504284\t's f1: 0.999875\t's precision: 0.999875\t's recall: 0.999875\t's accuracy: 0.999875\n"
     ]
    },
    {
     "name": "stderr",
     "output_type": "stream",
     "text": [
      "scipy.misc.derivative is deprecated in SciPy v1.10.0; and will be completely removed in SciPy v1.12.0. You may consider using findiff: https://github.com/maroba/findiff or numdifftools: https://github.com/pbrod/numdifftools\n",
      "scipy.misc.derivative is deprecated in SciPy v1.10.0; and will be completely removed in SciPy v1.12.0. You may consider using findiff: https://github.com/maroba/findiff or numdifftools: https://github.com/pbrod/numdifftools\n"
     ]
    },
    {
     "name": "stdout",
     "output_type": "stream",
     "text": [
      "[LightGBM] [Warning] No further splits with positive gain, best gain: -inf\n",
      "[13]\t's focal_loss: 0.0450102\t's f1: 0.999875\t's precision: 0.999875\t's recall: 0.999875\t's accuracy: 0.999875\n"
     ]
    },
    {
     "name": "stderr",
     "output_type": "stream",
     "text": [
      "scipy.misc.derivative is deprecated in SciPy v1.10.0; and will be completely removed in SciPy v1.12.0. You may consider using findiff: https://github.com/maroba/findiff or numdifftools: https://github.com/pbrod/numdifftools\n",
      "scipy.misc.derivative is deprecated in SciPy v1.10.0; and will be completely removed in SciPy v1.12.0. You may consider using findiff: https://github.com/maroba/findiff or numdifftools: https://github.com/pbrod/numdifftools\n"
     ]
    },
    {
     "name": "stdout",
     "output_type": "stream",
     "text": [
      "[LightGBM] [Warning] No further splits with positive gain, best gain: -inf\n",
      "[14]\t's focal_loss: 0.0402142\t's f1: 0.999875\t's precision: 0.999875\t's recall: 0.999875\t's accuracy: 0.999875\n"
     ]
    },
    {
     "name": "stderr",
     "output_type": "stream",
     "text": [
      "scipy.misc.derivative is deprecated in SciPy v1.10.0; and will be completely removed in SciPy v1.12.0. You may consider using findiff: https://github.com/maroba/findiff or numdifftools: https://github.com/pbrod/numdifftools\n",
      "scipy.misc.derivative is deprecated in SciPy v1.10.0; and will be completely removed in SciPy v1.12.0. You may consider using findiff: https://github.com/maroba/findiff or numdifftools: https://github.com/pbrod/numdifftools\n"
     ]
    },
    {
     "name": "stdout",
     "output_type": "stream",
     "text": [
      "[LightGBM] [Warning] No further splits with positive gain, best gain: -inf\n",
      "[15]\t's focal_loss: 0.0359594\t's f1: 0.999875\t's precision: 0.999875\t's recall: 0.999875\t's accuracy: 0.999875\n"
     ]
    },
    {
     "name": "stderr",
     "output_type": "stream",
     "text": [
      "scipy.misc.derivative is deprecated in SciPy v1.10.0; and will be completely removed in SciPy v1.12.0. You may consider using findiff: https://github.com/maroba/findiff or numdifftools: https://github.com/pbrod/numdifftools\n",
      "scipy.misc.derivative is deprecated in SciPy v1.10.0; and will be completely removed in SciPy v1.12.0. You may consider using findiff: https://github.com/maroba/findiff or numdifftools: https://github.com/pbrod/numdifftools\n"
     ]
    },
    {
     "name": "stdout",
     "output_type": "stream",
     "text": [
      "[LightGBM] [Warning] No further splits with positive gain, best gain: -inf\n",
      "[16]\t's focal_loss: 0.0321813\t's f1: 0.999875\t's precision: 0.999875\t's recall: 0.999875\t's accuracy: 0.999875\n"
     ]
    },
    {
     "name": "stderr",
     "output_type": "stream",
     "text": [
      "scipy.misc.derivative is deprecated in SciPy v1.10.0; and will be completely removed in SciPy v1.12.0. You may consider using findiff: https://github.com/maroba/findiff or numdifftools: https://github.com/pbrod/numdifftools\n",
      "scipy.misc.derivative is deprecated in SciPy v1.10.0; and will be completely removed in SciPy v1.12.0. You may consider using findiff: https://github.com/maroba/findiff or numdifftools: https://github.com/pbrod/numdifftools\n"
     ]
    },
    {
     "name": "stdout",
     "output_type": "stream",
     "text": [
      "[LightGBM] [Warning] No further splits with positive gain, best gain: -inf\n",
      "[17]\t's focal_loss: 0.0288222\t's f1: 0.999875\t's precision: 0.999875\t's recall: 0.999875\t's accuracy: 0.999875\n"
     ]
    },
    {
     "name": "stderr",
     "output_type": "stream",
     "text": [
      "scipy.misc.derivative is deprecated in SciPy v1.10.0; and will be completely removed in SciPy v1.12.0. You may consider using findiff: https://github.com/maroba/findiff or numdifftools: https://github.com/pbrod/numdifftools\n",
      "scipy.misc.derivative is deprecated in SciPy v1.10.0; and will be completely removed in SciPy v1.12.0. You may consider using findiff: https://github.com/maroba/findiff or numdifftools: https://github.com/pbrod/numdifftools\n"
     ]
    },
    {
     "name": "stdout",
     "output_type": "stream",
     "text": [
      "[18]\t's focal_loss: 0.0258318\t's f1: 0.999875\t's precision: 0.999875\t's recall: 0.999875\t's accuracy: 0.999875\n"
     ]
    },
    {
     "name": "stderr",
     "output_type": "stream",
     "text": [
      "scipy.misc.derivative is deprecated in SciPy v1.10.0; and will be completely removed in SciPy v1.12.0. You may consider using findiff: https://github.com/maroba/findiff or numdifftools: https://github.com/pbrod/numdifftools\n",
      "scipy.misc.derivative is deprecated in SciPy v1.10.0; and will be completely removed in SciPy v1.12.0. You may consider using findiff: https://github.com/maroba/findiff or numdifftools: https://github.com/pbrod/numdifftools\n"
     ]
    },
    {
     "name": "stdout",
     "output_type": "stream",
     "text": [
      "[19]\t's focal_loss: 0.023167\t's f1: 0.999875\t's precision: 0.999875\t's recall: 0.999875\t's accuracy: 0.999875\n"
     ]
    },
    {
     "name": "stderr",
     "output_type": "stream",
     "text": [
      "scipy.misc.derivative is deprecated in SciPy v1.10.0; and will be completely removed in SciPy v1.12.0. You may consider using findiff: https://github.com/maroba/findiff or numdifftools: https://github.com/pbrod/numdifftools\n",
      "scipy.misc.derivative is deprecated in SciPy v1.10.0; and will be completely removed in SciPy v1.12.0. You may consider using findiff: https://github.com/maroba/findiff or numdifftools: https://github.com/pbrod/numdifftools\n"
     ]
    },
    {
     "name": "stdout",
     "output_type": "stream",
     "text": [
      "[20]\t's focal_loss: 0.0207883\t's f1: 0.999875\t's precision: 0.999875\t's recall: 0.999875\t's accuracy: 0.999875\n"
     ]
    },
    {
     "name": "stderr",
     "output_type": "stream",
     "text": [
      "scipy.misc.derivative is deprecated in SciPy v1.10.0; and will be completely removed in SciPy v1.12.0. You may consider using findiff: https://github.com/maroba/findiff or numdifftools: https://github.com/pbrod/numdifftools\n",
      "scipy.misc.derivative is deprecated in SciPy v1.10.0; and will be completely removed in SciPy v1.12.0. You may consider using findiff: https://github.com/maroba/findiff or numdifftools: https://github.com/pbrod/numdifftools\n"
     ]
    },
    {
     "name": "stdout",
     "output_type": "stream",
     "text": [
      "[21]\t's focal_loss: 0.0186638\t's f1: 0.999875\t's precision: 0.999875\t's recall: 0.999875\t's accuracy: 0.999875\n"
     ]
    },
    {
     "name": "stderr",
     "output_type": "stream",
     "text": [
      "scipy.misc.derivative is deprecated in SciPy v1.10.0; and will be completely removed in SciPy v1.12.0. You may consider using findiff: https://github.com/maroba/findiff or numdifftools: https://github.com/pbrod/numdifftools\n",
      "scipy.misc.derivative is deprecated in SciPy v1.10.0; and will be completely removed in SciPy v1.12.0. You may consider using findiff: https://github.com/maroba/findiff or numdifftools: https://github.com/pbrod/numdifftools\n"
     ]
    },
    {
     "name": "stdout",
     "output_type": "stream",
     "text": [
      "[22]\t's focal_loss: 0.0167664\t's f1: 0.999875\t's precision: 0.999875\t's recall: 0.999875\t's accuracy: 0.999875\n"
     ]
    },
    {
     "name": "stderr",
     "output_type": "stream",
     "text": [
      "scipy.misc.derivative is deprecated in SciPy v1.10.0; and will be completely removed in SciPy v1.12.0. You may consider using findiff: https://github.com/maroba/findiff or numdifftools: https://github.com/pbrod/numdifftools\n",
      "scipy.misc.derivative is deprecated in SciPy v1.10.0; and will be completely removed in SciPy v1.12.0. You may consider using findiff: https://github.com/maroba/findiff or numdifftools: https://github.com/pbrod/numdifftools\n"
     ]
    },
    {
     "name": "stdout",
     "output_type": "stream",
     "text": [
      "[23]\t's focal_loss: 0.015068\t's f1: 0.999875\t's precision: 0.999875\t's recall: 0.999875\t's accuracy: 0.999875\n"
     ]
    },
    {
     "name": "stderr",
     "output_type": "stream",
     "text": [
      "scipy.misc.derivative is deprecated in SciPy v1.10.0; and will be completely removed in SciPy v1.12.0. You may consider using findiff: https://github.com/maroba/findiff or numdifftools: https://github.com/pbrod/numdifftools\n",
      "scipy.misc.derivative is deprecated in SciPy v1.10.0; and will be completely removed in SciPy v1.12.0. You may consider using findiff: https://github.com/maroba/findiff or numdifftools: https://github.com/pbrod/numdifftools\n"
     ]
    },
    {
     "name": "stdout",
     "output_type": "stream",
     "text": [
      "[24]\t's focal_loss: 0.0135475\t's f1: 0.999875\t's precision: 0.999875\t's recall: 0.999875\t's accuracy: 0.999875\n"
     ]
    },
    {
     "name": "stderr",
     "output_type": "stream",
     "text": [
      "scipy.misc.derivative is deprecated in SciPy v1.10.0; and will be completely removed in SciPy v1.12.0. You may consider using findiff: https://github.com/maroba/findiff or numdifftools: https://github.com/pbrod/numdifftools\n",
      "scipy.misc.derivative is deprecated in SciPy v1.10.0; and will be completely removed in SciPy v1.12.0. You may consider using findiff: https://github.com/maroba/findiff or numdifftools: https://github.com/pbrod/numdifftools\n"
     ]
    },
    {
     "name": "stdout",
     "output_type": "stream",
     "text": [
      "[25]\t's focal_loss: 0.0121856\t's f1: 0.999875\t's precision: 0.999875\t's recall: 0.999875\t's accuracy: 0.999875\n"
     ]
    },
    {
     "name": "stderr",
     "output_type": "stream",
     "text": [
      "scipy.misc.derivative is deprecated in SciPy v1.10.0; and will be completely removed in SciPy v1.12.0. You may consider using findiff: https://github.com/maroba/findiff or numdifftools: https://github.com/pbrod/numdifftools\n",
      "scipy.misc.derivative is deprecated in SciPy v1.10.0; and will be completely removed in SciPy v1.12.0. You may consider using findiff: https://github.com/maroba/findiff or numdifftools: https://github.com/pbrod/numdifftools\n"
     ]
    },
    {
     "name": "stdout",
     "output_type": "stream",
     "text": [
      "[26]\t's focal_loss: 0.0109666\t's f1: 0.999875\t's precision: 0.999875\t's recall: 0.999875\t's accuracy: 0.999875\n"
     ]
    },
    {
     "name": "stderr",
     "output_type": "stream",
     "text": [
      "scipy.misc.derivative is deprecated in SciPy v1.10.0; and will be completely removed in SciPy v1.12.0. You may consider using findiff: https://github.com/maroba/findiff or numdifftools: https://github.com/pbrod/numdifftools\n",
      "scipy.misc.derivative is deprecated in SciPy v1.10.0; and will be completely removed in SciPy v1.12.0. You may consider using findiff: https://github.com/maroba/findiff or numdifftools: https://github.com/pbrod/numdifftools\n"
     ]
    },
    {
     "name": "stdout",
     "output_type": "stream",
     "text": [
      "[27]\t's focal_loss: 0.0098729\t's f1: 0.999875\t's precision: 0.999875\t's recall: 0.999875\t's accuracy: 0.999875\n"
     ]
    },
    {
     "name": "stderr",
     "output_type": "stream",
     "text": [
      "scipy.misc.derivative is deprecated in SciPy v1.10.0; and will be completely removed in SciPy v1.12.0. You may consider using findiff: https://github.com/maroba/findiff or numdifftools: https://github.com/pbrod/numdifftools\n",
      "scipy.misc.derivative is deprecated in SciPy v1.10.0; and will be completely removed in SciPy v1.12.0. You may consider using findiff: https://github.com/maroba/findiff or numdifftools: https://github.com/pbrod/numdifftools\n"
     ]
    },
    {
     "name": "stdout",
     "output_type": "stream",
     "text": [
      "[28]\t's focal_loss: 0.00889146\t's f1: 0.999875\t's precision: 0.999875\t's recall: 0.999875\t's accuracy: 0.999875\n"
     ]
    },
    {
     "name": "stderr",
     "output_type": "stream",
     "text": [
      "scipy.misc.derivative is deprecated in SciPy v1.10.0; and will be completely removed in SciPy v1.12.0. You may consider using findiff: https://github.com/maroba/findiff or numdifftools: https://github.com/pbrod/numdifftools\n",
      "scipy.misc.derivative is deprecated in SciPy v1.10.0; and will be completely removed in SciPy v1.12.0. You may consider using findiff: https://github.com/maroba/findiff or numdifftools: https://github.com/pbrod/numdifftools\n"
     ]
    },
    {
     "name": "stdout",
     "output_type": "stream",
     "text": [
      "[29]\t's focal_loss: 0.00801058\t's f1: 0.999875\t's precision: 0.999875\t's recall: 0.999875\t's accuracy: 0.999875\n"
     ]
    },
    {
     "name": "stderr",
     "output_type": "stream",
     "text": [
      "scipy.misc.derivative is deprecated in SciPy v1.10.0; and will be completely removed in SciPy v1.12.0. You may consider using findiff: https://github.com/maroba/findiff or numdifftools: https://github.com/pbrod/numdifftools\n",
      "scipy.misc.derivative is deprecated in SciPy v1.10.0; and will be completely removed in SciPy v1.12.0. You may consider using findiff: https://github.com/maroba/findiff or numdifftools: https://github.com/pbrod/numdifftools\n"
     ]
    },
    {
     "name": "stdout",
     "output_type": "stream",
     "text": [
      "[30]\t's focal_loss: 0.00721965\t's f1: 0.999875\t's precision: 0.999875\t's recall: 0.999875\t's accuracy: 0.999875\n"
     ]
    },
    {
     "name": "stderr",
     "output_type": "stream",
     "text": [
      "scipy.misc.derivative is deprecated in SciPy v1.10.0; and will be completely removed in SciPy v1.12.0. You may consider using findiff: https://github.com/maroba/findiff or numdifftools: https://github.com/pbrod/numdifftools\n",
      "scipy.misc.derivative is deprecated in SciPy v1.10.0; and will be completely removed in SciPy v1.12.0. You may consider using findiff: https://github.com/maroba/findiff or numdifftools: https://github.com/pbrod/numdifftools\n"
     ]
    },
    {
     "name": "stdout",
     "output_type": "stream",
     "text": [
      "[31]\t's focal_loss: 0.0065094\t's f1: 0.999875\t's precision: 0.999875\t's recall: 0.999875\t's accuracy: 0.999875\n"
     ]
    },
    {
     "name": "stderr",
     "output_type": "stream",
     "text": [
      "scipy.misc.derivative is deprecated in SciPy v1.10.0; and will be completely removed in SciPy v1.12.0. You may consider using findiff: https://github.com/maroba/findiff or numdifftools: https://github.com/pbrod/numdifftools\n",
      "scipy.misc.derivative is deprecated in SciPy v1.10.0; and will be completely removed in SciPy v1.12.0. You may consider using findiff: https://github.com/maroba/findiff or numdifftools: https://github.com/pbrod/numdifftools\n"
     ]
    },
    {
     "name": "stdout",
     "output_type": "stream",
     "text": [
      "[32]\t's focal_loss: 0.00587053\t's f1: 0.999875\t's precision: 0.999875\t's recall: 0.999875\t's accuracy: 0.999875\n"
     ]
    },
    {
     "name": "stderr",
     "output_type": "stream",
     "text": [
      "scipy.misc.derivative is deprecated in SciPy v1.10.0; and will be completely removed in SciPy v1.12.0. You may consider using findiff: https://github.com/maroba/findiff or numdifftools: https://github.com/pbrod/numdifftools\n",
      "scipy.misc.derivative is deprecated in SciPy v1.10.0; and will be completely removed in SciPy v1.12.0. You may consider using findiff: https://github.com/maroba/findiff or numdifftools: https://github.com/pbrod/numdifftools\n"
     ]
    },
    {
     "name": "stdout",
     "output_type": "stream",
     "text": [
      "[33]\t's focal_loss: 0.00529642\t's f1: 0.999875\t's precision: 0.999875\t's recall: 0.999875\t's accuracy: 0.999875\n"
     ]
    },
    {
     "name": "stderr",
     "output_type": "stream",
     "text": [
      "scipy.misc.derivative is deprecated in SciPy v1.10.0; and will be completely removed in SciPy v1.12.0. You may consider using findiff: https://github.com/maroba/findiff or numdifftools: https://github.com/pbrod/numdifftools\n",
      "scipy.misc.derivative is deprecated in SciPy v1.10.0; and will be completely removed in SciPy v1.12.0. You may consider using findiff: https://github.com/maroba/findiff or numdifftools: https://github.com/pbrod/numdifftools\n"
     ]
    },
    {
     "name": "stdout",
     "output_type": "stream",
     "text": [
      "[34]\t's focal_loss: 0.00478061\t's f1: 0.999875\t's precision: 0.999875\t's recall: 0.999875\t's accuracy: 0.999875\n"
     ]
    },
    {
     "name": "stderr",
     "output_type": "stream",
     "text": [
      "scipy.misc.derivative is deprecated in SciPy v1.10.0; and will be completely removed in SciPy v1.12.0. You may consider using findiff: https://github.com/maroba/findiff or numdifftools: https://github.com/pbrod/numdifftools\n",
      "scipy.misc.derivative is deprecated in SciPy v1.10.0; and will be completely removed in SciPy v1.12.0. You may consider using findiff: https://github.com/maroba/findiff or numdifftools: https://github.com/pbrod/numdifftools\n"
     ]
    },
    {
     "name": "stdout",
     "output_type": "stream",
     "text": [
      "[35]\t's focal_loss: 0.00431577\t's f1: 0.999875\t's precision: 0.999875\t's recall: 0.999875\t's accuracy: 0.999875\n"
     ]
    },
    {
     "name": "stderr",
     "output_type": "stream",
     "text": [
      "scipy.misc.derivative is deprecated in SciPy v1.10.0; and will be completely removed in SciPy v1.12.0. You may consider using findiff: https://github.com/maroba/findiff or numdifftools: https://github.com/pbrod/numdifftools\n",
      "scipy.misc.derivative is deprecated in SciPy v1.10.0; and will be completely removed in SciPy v1.12.0. You may consider using findiff: https://github.com/maroba/findiff or numdifftools: https://github.com/pbrod/numdifftools\n"
     ]
    },
    {
     "name": "stdout",
     "output_type": "stream",
     "text": [
      "[36]\t's focal_loss: 0.00389781\t's f1: 0.999875\t's precision: 0.999875\t's recall: 0.999875\t's accuracy: 0.999875\n"
     ]
    },
    {
     "name": "stderr",
     "output_type": "stream",
     "text": [
      "scipy.misc.derivative is deprecated in SciPy v1.10.0; and will be completely removed in SciPy v1.12.0. You may consider using findiff: https://github.com/maroba/findiff or numdifftools: https://github.com/pbrod/numdifftools\n",
      "scipy.misc.derivative is deprecated in SciPy v1.10.0; and will be completely removed in SciPy v1.12.0. You may consider using findiff: https://github.com/maroba/findiff or numdifftools: https://github.com/pbrod/numdifftools\n"
     ]
    },
    {
     "name": "stdout",
     "output_type": "stream",
     "text": [
      "[37]\t's focal_loss: 0.0035216\t's f1: 0.999875\t's precision: 0.999875\t's recall: 0.999875\t's accuracy: 0.999875\n"
     ]
    },
    {
     "name": "stderr",
     "output_type": "stream",
     "text": [
      "scipy.misc.derivative is deprecated in SciPy v1.10.0; and will be completely removed in SciPy v1.12.0. You may consider using findiff: https://github.com/maroba/findiff or numdifftools: https://github.com/pbrod/numdifftools\n",
      "scipy.misc.derivative is deprecated in SciPy v1.10.0; and will be completely removed in SciPy v1.12.0. You may consider using findiff: https://github.com/maroba/findiff or numdifftools: https://github.com/pbrod/numdifftools\n"
     ]
    },
    {
     "name": "stdout",
     "output_type": "stream",
     "text": [
      "[38]\t's focal_loss: 0.00318333\t's f1: 0.999875\t's precision: 0.999875\t's recall: 0.999875\t's accuracy: 0.999875\n"
     ]
    },
    {
     "name": "stderr",
     "output_type": "stream",
     "text": [
      "scipy.misc.derivative is deprecated in SciPy v1.10.0; and will be completely removed in SciPy v1.12.0. You may consider using findiff: https://github.com/maroba/findiff or numdifftools: https://github.com/pbrod/numdifftools\n",
      "scipy.misc.derivative is deprecated in SciPy v1.10.0; and will be completely removed in SciPy v1.12.0. You may consider using findiff: https://github.com/maroba/findiff or numdifftools: https://github.com/pbrod/numdifftools\n"
     ]
    },
    {
     "name": "stdout",
     "output_type": "stream",
     "text": [
      "[39]\t's focal_loss: 0.00287829\t's f1: 0.999875\t's precision: 0.999875\t's recall: 0.999875\t's accuracy: 0.999875\n"
     ]
    },
    {
     "name": "stderr",
     "output_type": "stream",
     "text": [
      "scipy.misc.derivative is deprecated in SciPy v1.10.0; and will be completely removed in SciPy v1.12.0. You may consider using findiff: https://github.com/maroba/findiff or numdifftools: https://github.com/pbrod/numdifftools\n",
      "scipy.misc.derivative is deprecated in SciPy v1.10.0; and will be completely removed in SciPy v1.12.0. You may consider using findiff: https://github.com/maroba/findiff or numdifftools: https://github.com/pbrod/numdifftools\n"
     ]
    },
    {
     "name": "stdout",
     "output_type": "stream",
     "text": [
      "[40]\t's focal_loss: 0.0026038\t's f1: 0.999875\t's precision: 0.999875\t's recall: 0.999875\t's accuracy: 0.999875\n"
     ]
    },
    {
     "name": "stderr",
     "output_type": "stream",
     "text": [
      "scipy.misc.derivative is deprecated in SciPy v1.10.0; and will be completely removed in SciPy v1.12.0. You may consider using findiff: https://github.com/maroba/findiff or numdifftools: https://github.com/pbrod/numdifftools\n",
      "scipy.misc.derivative is deprecated in SciPy v1.10.0; and will be completely removed in SciPy v1.12.0. You may consider using findiff: https://github.com/maroba/findiff or numdifftools: https://github.com/pbrod/numdifftools\n"
     ]
    },
    {
     "name": "stdout",
     "output_type": "stream",
     "text": [
      "[41]\t's focal_loss: 0.00235607\t's f1: 0.999875\t's precision: 0.999875\t's recall: 0.999875\t's accuracy: 0.999875\n"
     ]
    },
    {
     "name": "stderr",
     "output_type": "stream",
     "text": [
      "scipy.misc.derivative is deprecated in SciPy v1.10.0; and will be completely removed in SciPy v1.12.0. You may consider using findiff: https://github.com/maroba/findiff or numdifftools: https://github.com/pbrod/numdifftools\n",
      "scipy.misc.derivative is deprecated in SciPy v1.10.0; and will be completely removed in SciPy v1.12.0. You may consider using findiff: https://github.com/maroba/findiff or numdifftools: https://github.com/pbrod/numdifftools\n"
     ]
    },
    {
     "name": "stdout",
     "output_type": "stream",
     "text": [
      "[42]\t's focal_loss: 0.00213324\t's f1: 0.999875\t's precision: 0.999875\t's recall: 0.999875\t's accuracy: 0.999875\n"
     ]
    },
    {
     "name": "stderr",
     "output_type": "stream",
     "text": [
      "scipy.misc.derivative is deprecated in SciPy v1.10.0; and will be completely removed in SciPy v1.12.0. You may consider using findiff: https://github.com/maroba/findiff or numdifftools: https://github.com/pbrod/numdifftools\n",
      "scipy.misc.derivative is deprecated in SciPy v1.10.0; and will be completely removed in SciPy v1.12.0. You may consider using findiff: https://github.com/maroba/findiff or numdifftools: https://github.com/pbrod/numdifftools\n"
     ]
    },
    {
     "name": "stdout",
     "output_type": "stream",
     "text": [
      "[43]\t's focal_loss: 0.00193238\t's f1: 0.999875\t's precision: 0.999875\t's recall: 0.999875\t's accuracy: 0.999875\n"
     ]
    },
    {
     "name": "stderr",
     "output_type": "stream",
     "text": [
      "scipy.misc.derivative is deprecated in SciPy v1.10.0; and will be completely removed in SciPy v1.12.0. You may consider using findiff: https://github.com/maroba/findiff or numdifftools: https://github.com/pbrod/numdifftools\n",
      "scipy.misc.derivative is deprecated in SciPy v1.10.0; and will be completely removed in SciPy v1.12.0. You may consider using findiff: https://github.com/maroba/findiff or numdifftools: https://github.com/pbrod/numdifftools\n"
     ]
    },
    {
     "name": "stdout",
     "output_type": "stream",
     "text": [
      "[44]\t's focal_loss: 0.00175153\t's f1: 0.999875\t's precision: 0.999875\t's recall: 0.999875\t's accuracy: 0.999875\n"
     ]
    },
    {
     "name": "stderr",
     "output_type": "stream",
     "text": [
      "scipy.misc.derivative is deprecated in SciPy v1.10.0; and will be completely removed in SciPy v1.12.0. You may consider using findiff: https://github.com/maroba/findiff or numdifftools: https://github.com/pbrod/numdifftools\n",
      "scipy.misc.derivative is deprecated in SciPy v1.10.0; and will be completely removed in SciPy v1.12.0. You may consider using findiff: https://github.com/maroba/findiff or numdifftools: https://github.com/pbrod/numdifftools\n"
     ]
    },
    {
     "name": "stdout",
     "output_type": "stream",
     "text": [
      "[45]\t's focal_loss: 0.00158889\t's f1: 0.999875\t's precision: 0.999875\t's recall: 0.999875\t's accuracy: 0.999875\n"
     ]
    },
    {
     "name": "stderr",
     "output_type": "stream",
     "text": [
      "scipy.misc.derivative is deprecated in SciPy v1.10.0; and will be completely removed in SciPy v1.12.0. You may consider using findiff: https://github.com/maroba/findiff or numdifftools: https://github.com/pbrod/numdifftools\n",
      "scipy.misc.derivative is deprecated in SciPy v1.10.0; and will be completely removed in SciPy v1.12.0. You may consider using findiff: https://github.com/maroba/findiff or numdifftools: https://github.com/pbrod/numdifftools\n"
     ]
    },
    {
     "name": "stdout",
     "output_type": "stream",
     "text": [
      "[46]\t's focal_loss: 0.00144143\t's f1: 0.999875\t's precision: 0.999875\t's recall: 0.999875\t's accuracy: 0.999875\n"
     ]
    },
    {
     "name": "stderr",
     "output_type": "stream",
     "text": [
      "scipy.misc.derivative is deprecated in SciPy v1.10.0; and will be completely removed in SciPy v1.12.0. You may consider using findiff: https://github.com/maroba/findiff or numdifftools: https://github.com/pbrod/numdifftools\n",
      "scipy.misc.derivative is deprecated in SciPy v1.10.0; and will be completely removed in SciPy v1.12.0. You may consider using findiff: https://github.com/maroba/findiff or numdifftools: https://github.com/pbrod/numdifftools\n"
     ]
    },
    {
     "name": "stdout",
     "output_type": "stream",
     "text": [
      "[47]\t's focal_loss: 0.00130852\t's f1: 0.999875\t's precision: 0.999875\t's recall: 0.999875\t's accuracy: 0.999875\n"
     ]
    },
    {
     "name": "stderr",
     "output_type": "stream",
     "text": [
      "scipy.misc.derivative is deprecated in SciPy v1.10.0; and will be completely removed in SciPy v1.12.0. You may consider using findiff: https://github.com/maroba/findiff or numdifftools: https://github.com/pbrod/numdifftools\n",
      "scipy.misc.derivative is deprecated in SciPy v1.10.0; and will be completely removed in SciPy v1.12.0. You may consider using findiff: https://github.com/maroba/findiff or numdifftools: https://github.com/pbrod/numdifftools\n"
     ]
    },
    {
     "name": "stdout",
     "output_type": "stream",
     "text": [
      "[48]\t's focal_loss: 0.00118897\t's f1: 0.999875\t's precision: 0.999875\t's recall: 0.999875\t's accuracy: 0.999875\n"
     ]
    },
    {
     "name": "stderr",
     "output_type": "stream",
     "text": [
      "scipy.misc.derivative is deprecated in SciPy v1.10.0; and will be completely removed in SciPy v1.12.0. You may consider using findiff: https://github.com/maroba/findiff or numdifftools: https://github.com/pbrod/numdifftools\n",
      "scipy.misc.derivative is deprecated in SciPy v1.10.0; and will be completely removed in SciPy v1.12.0. You may consider using findiff: https://github.com/maroba/findiff or numdifftools: https://github.com/pbrod/numdifftools\n"
     ]
    },
    {
     "name": "stdout",
     "output_type": "stream",
     "text": [
      "[49]\t's focal_loss: 0.00108097\t's f1: 0.999875\t's precision: 0.999875\t's recall: 0.999875\t's accuracy: 0.999875\n"
     ]
    },
    {
     "name": "stderr",
     "output_type": "stream",
     "text": [
      "scipy.misc.derivative is deprecated in SciPy v1.10.0; and will be completely removed in SciPy v1.12.0. You may consider using findiff: https://github.com/maroba/findiff or numdifftools: https://github.com/pbrod/numdifftools\n",
      "scipy.misc.derivative is deprecated in SciPy v1.10.0; and will be completely removed in SciPy v1.12.0. You may consider using findiff: https://github.com/maroba/findiff or numdifftools: https://github.com/pbrod/numdifftools\n"
     ]
    },
    {
     "name": "stdout",
     "output_type": "stream",
     "text": [
      "[50]\t's focal_loss: 0.000984225\t's f1: 0.999875\t's precision: 0.999875\t's recall: 0.999875\t's accuracy: 0.999875\n"
     ]
    },
    {
     "name": "stderr",
     "output_type": "stream",
     "text": [
      "scipy.misc.derivative is deprecated in SciPy v1.10.0; and will be completely removed in SciPy v1.12.0. You may consider using findiff: https://github.com/maroba/findiff or numdifftools: https://github.com/pbrod/numdifftools\n",
      "scipy.misc.derivative is deprecated in SciPy v1.10.0; and will be completely removed in SciPy v1.12.0. You may consider using findiff: https://github.com/maroba/findiff or numdifftools: https://github.com/pbrod/numdifftools\n"
     ]
    },
    {
     "name": "stdout",
     "output_type": "stream",
     "text": [
      "[51]\t's focal_loss: 0.000896164\t's f1: 0.999875\t's precision: 0.999875\t's recall: 0.999875\t's accuracy: 0.999875\n"
     ]
    },
    {
     "name": "stderr",
     "output_type": "stream",
     "text": [
      "scipy.misc.derivative is deprecated in SciPy v1.10.0; and will be completely removed in SciPy v1.12.0. You may consider using findiff: https://github.com/maroba/findiff or numdifftools: https://github.com/pbrod/numdifftools\n",
      "scipy.misc.derivative is deprecated in SciPy v1.10.0; and will be completely removed in SciPy v1.12.0. You may consider using findiff: https://github.com/maroba/findiff or numdifftools: https://github.com/pbrod/numdifftools\n"
     ]
    },
    {
     "name": "stdout",
     "output_type": "stream",
     "text": [
      "[52]\t's focal_loss: 0.000816985\t's f1: 0.999875\t's precision: 0.999875\t's recall: 0.999875\t's accuracy: 0.999875\n"
     ]
    },
    {
     "name": "stderr",
     "output_type": "stream",
     "text": [
      "scipy.misc.derivative is deprecated in SciPy v1.10.0; and will be completely removed in SciPy v1.12.0. You may consider using findiff: https://github.com/maroba/findiff or numdifftools: https://github.com/pbrod/numdifftools\n",
      "scipy.misc.derivative is deprecated in SciPy v1.10.0; and will be completely removed in SciPy v1.12.0. You may consider using findiff: https://github.com/maroba/findiff or numdifftools: https://github.com/pbrod/numdifftools\n"
     ]
    },
    {
     "name": "stdout",
     "output_type": "stream",
     "text": [
      "[53]\t's focal_loss: 0.000745819\t's f1: 0.999875\t's precision: 0.999875\t's recall: 0.999875\t's accuracy: 0.999875\n"
     ]
    },
    {
     "name": "stderr",
     "output_type": "stream",
     "text": [
      "scipy.misc.derivative is deprecated in SciPy v1.10.0; and will be completely removed in SciPy v1.12.0. You may consider using findiff: https://github.com/maroba/findiff or numdifftools: https://github.com/pbrod/numdifftools\n",
      "scipy.misc.derivative is deprecated in SciPy v1.10.0; and will be completely removed in SciPy v1.12.0. You may consider using findiff: https://github.com/maroba/findiff or numdifftools: https://github.com/pbrod/numdifftools\n"
     ]
    },
    {
     "name": "stdout",
     "output_type": "stream",
     "text": [
      "[54]\t's focal_loss: 0.000681374\t's f1: 0.999875\t's precision: 0.999875\t's recall: 0.999875\t's accuracy: 0.999875\n"
     ]
    },
    {
     "name": "stderr",
     "output_type": "stream",
     "text": [
      "scipy.misc.derivative is deprecated in SciPy v1.10.0; and will be completely removed in SciPy v1.12.0. You may consider using findiff: https://github.com/maroba/findiff or numdifftools: https://github.com/pbrod/numdifftools\n",
      "scipy.misc.derivative is deprecated in SciPy v1.10.0; and will be completely removed in SciPy v1.12.0. You may consider using findiff: https://github.com/maroba/findiff or numdifftools: https://github.com/pbrod/numdifftools\n"
     ]
    },
    {
     "name": "stdout",
     "output_type": "stream",
     "text": [
      "[55]\t's focal_loss: 0.000623862\t's f1: 0.999875\t's precision: 0.999875\t's recall: 0.999875\t's accuracy: 0.999875\n"
     ]
    },
    {
     "name": "stderr",
     "output_type": "stream",
     "text": [
      "scipy.misc.derivative is deprecated in SciPy v1.10.0; and will be completely removed in SciPy v1.12.0. You may consider using findiff: https://github.com/maroba/findiff or numdifftools: https://github.com/pbrod/numdifftools\n",
      "scipy.misc.derivative is deprecated in SciPy v1.10.0; and will be completely removed in SciPy v1.12.0. You may consider using findiff: https://github.com/maroba/findiff or numdifftools: https://github.com/pbrod/numdifftools\n"
     ]
    },
    {
     "name": "stdout",
     "output_type": "stream",
     "text": [
      "[56]\t's focal_loss: 0.000571351\t's f1: 0.999875\t's precision: 0.999875\t's recall: 0.999875\t's accuracy: 0.999875\n"
     ]
    },
    {
     "name": "stderr",
     "output_type": "stream",
     "text": [
      "scipy.misc.derivative is deprecated in SciPy v1.10.0; and will be completely removed in SciPy v1.12.0. You may consider using findiff: https://github.com/maroba/findiff or numdifftools: https://github.com/pbrod/numdifftools\n",
      "scipy.misc.derivative is deprecated in SciPy v1.10.0; and will be completely removed in SciPy v1.12.0. You may consider using findiff: https://github.com/maroba/findiff or numdifftools: https://github.com/pbrod/numdifftools\n"
     ]
    },
    {
     "name": "stdout",
     "output_type": "stream",
     "text": [
      "[57]\t's focal_loss: 0.000524347\t's f1: 0.999875\t's precision: 0.999875\t's recall: 0.999875\t's accuracy: 0.999875\n"
     ]
    },
    {
     "name": "stderr",
     "output_type": "stream",
     "text": [
      "scipy.misc.derivative is deprecated in SciPy v1.10.0; and will be completely removed in SciPy v1.12.0. You may consider using findiff: https://github.com/maroba/findiff or numdifftools: https://github.com/pbrod/numdifftools\n",
      "scipy.misc.derivative is deprecated in SciPy v1.10.0; and will be completely removed in SciPy v1.12.0. You may consider using findiff: https://github.com/maroba/findiff or numdifftools: https://github.com/pbrod/numdifftools\n"
     ]
    },
    {
     "name": "stdout",
     "output_type": "stream",
     "text": [
      "[58]\t's focal_loss: 0.000482276\t's f1: 0.999875\t's precision: 0.999875\t's recall: 0.999875\t's accuracy: 0.999875\n"
     ]
    },
    {
     "name": "stderr",
     "output_type": "stream",
     "text": [
      "scipy.misc.derivative is deprecated in SciPy v1.10.0; and will be completely removed in SciPy v1.12.0. You may consider using findiff: https://github.com/maroba/findiff or numdifftools: https://github.com/pbrod/numdifftools\n",
      "scipy.misc.derivative is deprecated in SciPy v1.10.0; and will be completely removed in SciPy v1.12.0. You may consider using findiff: https://github.com/maroba/findiff or numdifftools: https://github.com/pbrod/numdifftools\n"
     ]
    },
    {
     "name": "stdout",
     "output_type": "stream",
     "text": [
      "[59]\t's focal_loss: 0.000444167\t's f1: 0.999875\t's precision: 0.999875\t's recall: 0.999875\t's accuracy: 0.999875\n"
     ]
    },
    {
     "name": "stderr",
     "output_type": "stream",
     "text": [
      "scipy.misc.derivative is deprecated in SciPy v1.10.0; and will be completely removed in SciPy v1.12.0. You may consider using findiff: https://github.com/maroba/findiff or numdifftools: https://github.com/pbrod/numdifftools\n",
      "scipy.misc.derivative is deprecated in SciPy v1.10.0; and will be completely removed in SciPy v1.12.0. You may consider using findiff: https://github.com/maroba/findiff or numdifftools: https://github.com/pbrod/numdifftools\n"
     ]
    },
    {
     "name": "stdout",
     "output_type": "stream",
     "text": [
      "[60]\t's focal_loss: 0.000409824\t's f1: 0.999875\t's precision: 0.999875\t's recall: 0.999875\t's accuracy: 0.999875\n"
     ]
    },
    {
     "name": "stderr",
     "output_type": "stream",
     "text": [
      "scipy.misc.derivative is deprecated in SciPy v1.10.0; and will be completely removed in SciPy v1.12.0. You may consider using findiff: https://github.com/maroba/findiff or numdifftools: https://github.com/pbrod/numdifftools\n",
      "scipy.misc.derivative is deprecated in SciPy v1.10.0; and will be completely removed in SciPy v1.12.0. You may consider using findiff: https://github.com/maroba/findiff or numdifftools: https://github.com/pbrod/numdifftools\n"
     ]
    },
    {
     "name": "stdout",
     "output_type": "stream",
     "text": [
      "[61]\t's focal_loss: 0.000378707\t's f1: 0.999875\t's precision: 0.999875\t's recall: 0.999875\t's accuracy: 0.999875\n"
     ]
    },
    {
     "name": "stderr",
     "output_type": "stream",
     "text": [
      "scipy.misc.derivative is deprecated in SciPy v1.10.0; and will be completely removed in SciPy v1.12.0. You may consider using findiff: https://github.com/maroba/findiff or numdifftools: https://github.com/pbrod/numdifftools\n",
      "scipy.misc.derivative is deprecated in SciPy v1.10.0; and will be completely removed in SciPy v1.12.0. You may consider using findiff: https://github.com/maroba/findiff or numdifftools: https://github.com/pbrod/numdifftools\n"
     ]
    },
    {
     "name": "stdout",
     "output_type": "stream",
     "text": [
      "[62]\t's focal_loss: 0.000350974\t's f1: 0.999875\t's precision: 0.999875\t's recall: 0.999875\t's accuracy: 0.999875\n"
     ]
    },
    {
     "name": "stderr",
     "output_type": "stream",
     "text": [
      "scipy.misc.derivative is deprecated in SciPy v1.10.0; and will be completely removed in SciPy v1.12.0. You may consider using findiff: https://github.com/maroba/findiff or numdifftools: https://github.com/pbrod/numdifftools\n",
      "scipy.misc.derivative is deprecated in SciPy v1.10.0; and will be completely removed in SciPy v1.12.0. You may consider using findiff: https://github.com/maroba/findiff or numdifftools: https://github.com/pbrod/numdifftools\n"
     ]
    },
    {
     "name": "stdout",
     "output_type": "stream",
     "text": [
      "[63]\t's focal_loss: 0.000325927\t's f1: 0.999875\t's precision: 0.999875\t's recall: 0.999875\t's accuracy: 0.999875\n"
     ]
    },
    {
     "name": "stderr",
     "output_type": "stream",
     "text": [
      "scipy.misc.derivative is deprecated in SciPy v1.10.0; and will be completely removed in SciPy v1.12.0. You may consider using findiff: https://github.com/maroba/findiff or numdifftools: https://github.com/pbrod/numdifftools\n",
      "scipy.misc.derivative is deprecated in SciPy v1.10.0; and will be completely removed in SciPy v1.12.0. You may consider using findiff: https://github.com/maroba/findiff or numdifftools: https://github.com/pbrod/numdifftools\n"
     ]
    },
    {
     "name": "stdout",
     "output_type": "stream",
     "text": [
      "[64]\t's focal_loss: 0.000303416\t's f1: 0.999875\t's precision: 0.999875\t's recall: 0.999875\t's accuracy: 0.999875\n"
     ]
    },
    {
     "name": "stderr",
     "output_type": "stream",
     "text": [
      "scipy.misc.derivative is deprecated in SciPy v1.10.0; and will be completely removed in SciPy v1.12.0. You may consider using findiff: https://github.com/maroba/findiff or numdifftools: https://github.com/pbrod/numdifftools\n",
      "scipy.misc.derivative is deprecated in SciPy v1.10.0; and will be completely removed in SciPy v1.12.0. You may consider using findiff: https://github.com/maroba/findiff or numdifftools: https://github.com/pbrod/numdifftools\n"
     ]
    },
    {
     "name": "stdout",
     "output_type": "stream",
     "text": [
      "[65]\t's focal_loss: 0.000283055\t's f1: 0.999875\t's precision: 0.999875\t's recall: 0.999875\t's accuracy: 0.999875\n"
     ]
    },
    {
     "name": "stderr",
     "output_type": "stream",
     "text": [
      "scipy.misc.derivative is deprecated in SciPy v1.10.0; and will be completely removed in SciPy v1.12.0. You may consider using findiff: https://github.com/maroba/findiff or numdifftools: https://github.com/pbrod/numdifftools\n",
      "scipy.misc.derivative is deprecated in SciPy v1.10.0; and will be completely removed in SciPy v1.12.0. You may consider using findiff: https://github.com/maroba/findiff or numdifftools: https://github.com/pbrod/numdifftools\n"
     ]
    },
    {
     "name": "stdout",
     "output_type": "stream",
     "text": [
      "[66]\t's focal_loss: 0.000264695\t's f1: 0.999875\t's precision: 0.999875\t's recall: 0.999875\t's accuracy: 0.999875\n"
     ]
    },
    {
     "name": "stderr",
     "output_type": "stream",
     "text": [
      "scipy.misc.derivative is deprecated in SciPy v1.10.0; and will be completely removed in SciPy v1.12.0. You may consider using findiff: https://github.com/maroba/findiff or numdifftools: https://github.com/pbrod/numdifftools\n",
      "scipy.misc.derivative is deprecated in SciPy v1.10.0; and will be completely removed in SciPy v1.12.0. You may consider using findiff: https://github.com/maroba/findiff or numdifftools: https://github.com/pbrod/numdifftools\n"
     ]
    },
    {
     "name": "stdout",
     "output_type": "stream",
     "text": [
      "[67]\t's focal_loss: 0.000248401\t's f1: 0.999875\t's precision: 0.999875\t's recall: 0.999875\t's accuracy: 0.999875\n"
     ]
    },
    {
     "name": "stderr",
     "output_type": "stream",
     "text": [
      "scipy.misc.derivative is deprecated in SciPy v1.10.0; and will be completely removed in SciPy v1.12.0. You may consider using findiff: https://github.com/maroba/findiff or numdifftools: https://github.com/pbrod/numdifftools\n",
      "scipy.misc.derivative is deprecated in SciPy v1.10.0; and will be completely removed in SciPy v1.12.0. You may consider using findiff: https://github.com/maroba/findiff or numdifftools: https://github.com/pbrod/numdifftools\n"
     ]
    },
    {
     "name": "stdout",
     "output_type": "stream",
     "text": [
      "[68]\t's focal_loss: 0.000233904\t's f1: 0.999875\t's precision: 0.999875\t's recall: 0.999875\t's accuracy: 0.999875\n"
     ]
    },
    {
     "name": "stderr",
     "output_type": "stream",
     "text": [
      "scipy.misc.derivative is deprecated in SciPy v1.10.0; and will be completely removed in SciPy v1.12.0. You may consider using findiff: https://github.com/maroba/findiff or numdifftools: https://github.com/pbrod/numdifftools\n",
      "scipy.misc.derivative is deprecated in SciPy v1.10.0; and will be completely removed in SciPy v1.12.0. You may consider using findiff: https://github.com/maroba/findiff or numdifftools: https://github.com/pbrod/numdifftools\n"
     ]
    },
    {
     "name": "stdout",
     "output_type": "stream",
     "text": [
      "[69]\t's focal_loss: 0.000220629\t's f1: 0.999875\t's precision: 0.999875\t's recall: 0.999875\t's accuracy: 0.999875\n"
     ]
    },
    {
     "name": "stderr",
     "output_type": "stream",
     "text": [
      "scipy.misc.derivative is deprecated in SciPy v1.10.0; and will be completely removed in SciPy v1.12.0. You may consider using findiff: https://github.com/maroba/findiff or numdifftools: https://github.com/pbrod/numdifftools\n",
      "scipy.misc.derivative is deprecated in SciPy v1.10.0; and will be completely removed in SciPy v1.12.0. You may consider using findiff: https://github.com/maroba/findiff or numdifftools: https://github.com/pbrod/numdifftools\n"
     ]
    },
    {
     "name": "stdout",
     "output_type": "stream",
     "text": [
      "[70]\t's focal_loss: 0.000208877\t's f1: 0.999875\t's precision: 0.999875\t's recall: 0.999875\t's accuracy: 0.999875\n"
     ]
    },
    {
     "name": "stderr",
     "output_type": "stream",
     "text": [
      "scipy.misc.derivative is deprecated in SciPy v1.10.0; and will be completely removed in SciPy v1.12.0. You may consider using findiff: https://github.com/maroba/findiff or numdifftools: https://github.com/pbrod/numdifftools\n",
      "scipy.misc.derivative is deprecated in SciPy v1.10.0; and will be completely removed in SciPy v1.12.0. You may consider using findiff: https://github.com/maroba/findiff or numdifftools: https://github.com/pbrod/numdifftools\n"
     ]
    },
    {
     "name": "stdout",
     "output_type": "stream",
     "text": [
      "[71]\t's focal_loss: 0.000198062\t's f1: 0.999875\t's precision: 0.999875\t's recall: 0.999875\t's accuracy: 0.999875\n"
     ]
    },
    {
     "name": "stderr",
     "output_type": "stream",
     "text": [
      "scipy.misc.derivative is deprecated in SciPy v1.10.0; and will be completely removed in SciPy v1.12.0. You may consider using findiff: https://github.com/maroba/findiff or numdifftools: https://github.com/pbrod/numdifftools\n",
      "scipy.misc.derivative is deprecated in SciPy v1.10.0; and will be completely removed in SciPy v1.12.0. You may consider using findiff: https://github.com/maroba/findiff or numdifftools: https://github.com/pbrod/numdifftools\n"
     ]
    },
    {
     "name": "stdout",
     "output_type": "stream",
     "text": [
      "[72]\t's focal_loss: 0.00018854\t's f1: 0.999875\t's precision: 0.999875\t's recall: 0.999875\t's accuracy: 0.999875\n"
     ]
    },
    {
     "name": "stderr",
     "output_type": "stream",
     "text": [
      "scipy.misc.derivative is deprecated in SciPy v1.10.0; and will be completely removed in SciPy v1.12.0. You may consider using findiff: https://github.com/maroba/findiff or numdifftools: https://github.com/pbrod/numdifftools\n",
      "scipy.misc.derivative is deprecated in SciPy v1.10.0; and will be completely removed in SciPy v1.12.0. You may consider using findiff: https://github.com/maroba/findiff or numdifftools: https://github.com/pbrod/numdifftools\n"
     ]
    },
    {
     "name": "stdout",
     "output_type": "stream",
     "text": [
      "[73]\t's focal_loss: 0.00018003\t's f1: 0.999875\t's precision: 0.999875\t's recall: 0.999875\t's accuracy: 0.999875\n"
     ]
    },
    {
     "name": "stderr",
     "output_type": "stream",
     "text": [
      "scipy.misc.derivative is deprecated in SciPy v1.10.0; and will be completely removed in SciPy v1.12.0. You may consider using findiff: https://github.com/maroba/findiff or numdifftools: https://github.com/pbrod/numdifftools\n",
      "scipy.misc.derivative is deprecated in SciPy v1.10.0; and will be completely removed in SciPy v1.12.0. You may consider using findiff: https://github.com/maroba/findiff or numdifftools: https://github.com/pbrod/numdifftools\n"
     ]
    },
    {
     "name": "stdout",
     "output_type": "stream",
     "text": [
      "[74]\t's focal_loss: 0.000172267\t's f1: 0.999875\t's precision: 0.999875\t's recall: 0.999875\t's accuracy: 0.999875\n"
     ]
    },
    {
     "name": "stderr",
     "output_type": "stream",
     "text": [
      "scipy.misc.derivative is deprecated in SciPy v1.10.0; and will be completely removed in SciPy v1.12.0. You may consider using findiff: https://github.com/maroba/findiff or numdifftools: https://github.com/pbrod/numdifftools\n",
      "scipy.misc.derivative is deprecated in SciPy v1.10.0; and will be completely removed in SciPy v1.12.0. You may consider using findiff: https://github.com/maroba/findiff or numdifftools: https://github.com/pbrod/numdifftools\n"
     ]
    },
    {
     "name": "stdout",
     "output_type": "stream",
     "text": [
      "[75]\t's focal_loss: 0.000165493\t's f1: 0.999875\t's precision: 0.999875\t's recall: 0.999875\t's accuracy: 0.999875\n"
     ]
    },
    {
     "name": "stderr",
     "output_type": "stream",
     "text": [
      "scipy.misc.derivative is deprecated in SciPy v1.10.0; and will be completely removed in SciPy v1.12.0. You may consider using findiff: https://github.com/maroba/findiff or numdifftools: https://github.com/pbrod/numdifftools\n",
      "scipy.misc.derivative is deprecated in SciPy v1.10.0; and will be completely removed in SciPy v1.12.0. You may consider using findiff: https://github.com/maroba/findiff or numdifftools: https://github.com/pbrod/numdifftools\n"
     ]
    },
    {
     "name": "stdout",
     "output_type": "stream",
     "text": [
      "[76]\t's focal_loss: 0.000159305\t's f1: 0.999875\t's precision: 0.999875\t's recall: 0.999875\t's accuracy: 0.999875\n"
     ]
    },
    {
     "name": "stderr",
     "output_type": "stream",
     "text": [
      "scipy.misc.derivative is deprecated in SciPy v1.10.0; and will be completely removed in SciPy v1.12.0. You may consider using findiff: https://github.com/maroba/findiff or numdifftools: https://github.com/pbrod/numdifftools\n",
      "scipy.misc.derivative is deprecated in SciPy v1.10.0; and will be completely removed in SciPy v1.12.0. You may consider using findiff: https://github.com/maroba/findiff or numdifftools: https://github.com/pbrod/numdifftools\n"
     ]
    },
    {
     "name": "stdout",
     "output_type": "stream",
     "text": [
      "[77]\t's focal_loss: 0.000154113\t's f1: 0.999875\t's precision: 0.999875\t's recall: 0.999875\t's accuracy: 0.999875\n"
     ]
    },
    {
     "name": "stderr",
     "output_type": "stream",
     "text": [
      "scipy.misc.derivative is deprecated in SciPy v1.10.0; and will be completely removed in SciPy v1.12.0. You may consider using findiff: https://github.com/maroba/findiff or numdifftools: https://github.com/pbrod/numdifftools\n",
      "scipy.misc.derivative is deprecated in SciPy v1.10.0; and will be completely removed in SciPy v1.12.0. You may consider using findiff: https://github.com/maroba/findiff or numdifftools: https://github.com/pbrod/numdifftools\n"
     ]
    },
    {
     "name": "stdout",
     "output_type": "stream",
     "text": [
      "[78]\t's focal_loss: 0.000149407\t's f1: 0.999875\t's precision: 0.999875\t's recall: 0.999875\t's accuracy: 0.999875\n"
     ]
    },
    {
     "name": "stderr",
     "output_type": "stream",
     "text": [
      "scipy.misc.derivative is deprecated in SciPy v1.10.0; and will be completely removed in SciPy v1.12.0. You may consider using findiff: https://github.com/maroba/findiff or numdifftools: https://github.com/pbrod/numdifftools\n",
      "scipy.misc.derivative is deprecated in SciPy v1.10.0; and will be completely removed in SciPy v1.12.0. You may consider using findiff: https://github.com/maroba/findiff or numdifftools: https://github.com/pbrod/numdifftools\n"
     ]
    },
    {
     "name": "stdout",
     "output_type": "stream",
     "text": [
      "[79]\t's focal_loss: 0.000145245\t's f1: 0.999875\t's precision: 0.999875\t's recall: 0.999875\t's accuracy: 0.999875\n"
     ]
    },
    {
     "name": "stderr",
     "output_type": "stream",
     "text": [
      "scipy.misc.derivative is deprecated in SciPy v1.10.0; and will be completely removed in SciPy v1.12.0. You may consider using findiff: https://github.com/maroba/findiff or numdifftools: https://github.com/pbrod/numdifftools\n",
      "scipy.misc.derivative is deprecated in SciPy v1.10.0; and will be completely removed in SciPy v1.12.0. You may consider using findiff: https://github.com/maroba/findiff or numdifftools: https://github.com/pbrod/numdifftools\n"
     ]
    },
    {
     "name": "stdout",
     "output_type": "stream",
     "text": [
      "[80]\t's focal_loss: 0.000141745\t's f1: 0.999875\t's precision: 0.999875\t's recall: 0.999875\t's accuracy: 0.999875\n"
     ]
    },
    {
     "name": "stderr",
     "output_type": "stream",
     "text": [
      "scipy.misc.derivative is deprecated in SciPy v1.10.0; and will be completely removed in SciPy v1.12.0. You may consider using findiff: https://github.com/maroba/findiff or numdifftools: https://github.com/pbrod/numdifftools\n",
      "scipy.misc.derivative is deprecated in SciPy v1.10.0; and will be completely removed in SciPy v1.12.0. You may consider using findiff: https://github.com/maroba/findiff or numdifftools: https://github.com/pbrod/numdifftools\n"
     ]
    },
    {
     "name": "stdout",
     "output_type": "stream",
     "text": [
      "[81]\t's focal_loss: 0.000138563\t's f1: 0.999875\t's precision: 0.999875\t's recall: 0.999875\t's accuracy: 0.999875\n"
     ]
    },
    {
     "name": "stderr",
     "output_type": "stream",
     "text": [
      "scipy.misc.derivative is deprecated in SciPy v1.10.0; and will be completely removed in SciPy v1.12.0. You may consider using findiff: https://github.com/maroba/findiff or numdifftools: https://github.com/pbrod/numdifftools\n",
      "scipy.misc.derivative is deprecated in SciPy v1.10.0; and will be completely removed in SciPy v1.12.0. You may consider using findiff: https://github.com/maroba/findiff or numdifftools: https://github.com/pbrod/numdifftools\n"
     ]
    },
    {
     "name": "stdout",
     "output_type": "stream",
     "text": [
      "[82]\t's focal_loss: 0.000135777\t's f1: 0.999875\t's precision: 0.999875\t's recall: 0.999875\t's accuracy: 0.999875\n"
     ]
    },
    {
     "name": "stderr",
     "output_type": "stream",
     "text": [
      "scipy.misc.derivative is deprecated in SciPy v1.10.0; and will be completely removed in SciPy v1.12.0. You may consider using findiff: https://github.com/maroba/findiff or numdifftools: https://github.com/pbrod/numdifftools\n",
      "scipy.misc.derivative is deprecated in SciPy v1.10.0; and will be completely removed in SciPy v1.12.0. You may consider using findiff: https://github.com/maroba/findiff or numdifftools: https://github.com/pbrod/numdifftools\n"
     ]
    },
    {
     "name": "stdout",
     "output_type": "stream",
     "text": [
      "[83]\t's focal_loss: 0.000133349\t's f1: 0.999875\t's precision: 0.999875\t's recall: 0.999875\t's accuracy: 0.999875\n"
     ]
    },
    {
     "name": "stderr",
     "output_type": "stream",
     "text": [
      "scipy.misc.derivative is deprecated in SciPy v1.10.0; and will be completely removed in SciPy v1.12.0. You may consider using findiff: https://github.com/maroba/findiff or numdifftools: https://github.com/pbrod/numdifftools\n",
      "scipy.misc.derivative is deprecated in SciPy v1.10.0; and will be completely removed in SciPy v1.12.0. You may consider using findiff: https://github.com/maroba/findiff or numdifftools: https://github.com/pbrod/numdifftools\n"
     ]
    },
    {
     "name": "stdout",
     "output_type": "stream",
     "text": [
      "[84]\t's focal_loss: 0.000131418\t's f1: 0.999875\t's precision: 0.999875\t's recall: 0.999875\t's accuracy: 0.999875\n"
     ]
    },
    {
     "name": "stderr",
     "output_type": "stream",
     "text": [
      "scipy.misc.derivative is deprecated in SciPy v1.10.0; and will be completely removed in SciPy v1.12.0. You may consider using findiff: https://github.com/maroba/findiff or numdifftools: https://github.com/pbrod/numdifftools\n",
      "scipy.misc.derivative is deprecated in SciPy v1.10.0; and will be completely removed in SciPy v1.12.0. You may consider using findiff: https://github.com/maroba/findiff or numdifftools: https://github.com/pbrod/numdifftools\n"
     ]
    },
    {
     "name": "stdout",
     "output_type": "stream",
     "text": [
      "[85]\t's focal_loss: 0.000129634\t's f1: 0.999875\t's precision: 0.999875\t's recall: 0.999875\t's accuracy: 0.999875\n"
     ]
    },
    {
     "name": "stderr",
     "output_type": "stream",
     "text": [
      "scipy.misc.derivative is deprecated in SciPy v1.10.0; and will be completely removed in SciPy v1.12.0. You may consider using findiff: https://github.com/maroba/findiff or numdifftools: https://github.com/pbrod/numdifftools\n",
      "scipy.misc.derivative is deprecated in SciPy v1.10.0; and will be completely removed in SciPy v1.12.0. You may consider using findiff: https://github.com/maroba/findiff or numdifftools: https://github.com/pbrod/numdifftools\n"
     ]
    },
    {
     "name": "stdout",
     "output_type": "stream",
     "text": [
      "[86]\t's focal_loss: 0.000127965\t's f1: 0.999875\t's precision: 0.999875\t's recall: 0.999875\t's accuracy: 0.999875\n"
     ]
    },
    {
     "name": "stderr",
     "output_type": "stream",
     "text": [
      "scipy.misc.derivative is deprecated in SciPy v1.10.0; and will be completely removed in SciPy v1.12.0. You may consider using findiff: https://github.com/maroba/findiff or numdifftools: https://github.com/pbrod/numdifftools\n",
      "scipy.misc.derivative is deprecated in SciPy v1.10.0; and will be completely removed in SciPy v1.12.0. You may consider using findiff: https://github.com/maroba/findiff or numdifftools: https://github.com/pbrod/numdifftools\n"
     ]
    },
    {
     "name": "stdout",
     "output_type": "stream",
     "text": [
      "[87]\t's focal_loss: 0.000126716\t's f1: 0.999875\t's precision: 0.999875\t's recall: 0.999875\t's accuracy: 0.999875\n"
     ]
    },
    {
     "name": "stderr",
     "output_type": "stream",
     "text": [
      "scipy.misc.derivative is deprecated in SciPy v1.10.0; and will be completely removed in SciPy v1.12.0. You may consider using findiff: https://github.com/maroba/findiff or numdifftools: https://github.com/pbrod/numdifftools\n",
      "scipy.misc.derivative is deprecated in SciPy v1.10.0; and will be completely removed in SciPy v1.12.0. You may consider using findiff: https://github.com/maroba/findiff or numdifftools: https://github.com/pbrod/numdifftools\n"
     ]
    },
    {
     "name": "stdout",
     "output_type": "stream",
     "text": [
      "[88]\t's focal_loss: 0.000125859\t's f1: 0.999875\t's precision: 0.999875\t's recall: 0.999875\t's accuracy: 0.999875\n"
     ]
    },
    {
     "name": "stderr",
     "output_type": "stream",
     "text": [
      "scipy.misc.derivative is deprecated in SciPy v1.10.0; and will be completely removed in SciPy v1.12.0. You may consider using findiff: https://github.com/maroba/findiff or numdifftools: https://github.com/pbrod/numdifftools\n",
      "scipy.misc.derivative is deprecated in SciPy v1.10.0; and will be completely removed in SciPy v1.12.0. You may consider using findiff: https://github.com/maroba/findiff or numdifftools: https://github.com/pbrod/numdifftools\n"
     ]
    },
    {
     "name": "stdout",
     "output_type": "stream",
     "text": [
      "[89]\t's focal_loss: 0.000124983\t's f1: 0.999875\t's precision: 0.999875\t's recall: 0.999875\t's accuracy: 0.999875\n"
     ]
    },
    {
     "name": "stderr",
     "output_type": "stream",
     "text": [
      "scipy.misc.derivative is deprecated in SciPy v1.10.0; and will be completely removed in SciPy v1.12.0. You may consider using findiff: https://github.com/maroba/findiff or numdifftools: https://github.com/pbrod/numdifftools\n",
      "scipy.misc.derivative is deprecated in SciPy v1.10.0; and will be completely removed in SciPy v1.12.0. You may consider using findiff: https://github.com/maroba/findiff or numdifftools: https://github.com/pbrod/numdifftools\n"
     ]
    },
    {
     "name": "stdout",
     "output_type": "stream",
     "text": [
      "[90]\t's focal_loss: 0.000124088\t's f1: 0.999875\t's precision: 0.999875\t's recall: 0.999875\t's accuracy: 0.999875\n"
     ]
    },
    {
     "name": "stderr",
     "output_type": "stream",
     "text": [
      "scipy.misc.derivative is deprecated in SciPy v1.10.0; and will be completely removed in SciPy v1.12.0. You may consider using findiff: https://github.com/maroba/findiff or numdifftools: https://github.com/pbrod/numdifftools\n",
      "scipy.misc.derivative is deprecated in SciPy v1.10.0; and will be completely removed in SciPy v1.12.0. You may consider using findiff: https://github.com/maroba/findiff or numdifftools: https://github.com/pbrod/numdifftools\n"
     ]
    },
    {
     "name": "stdout",
     "output_type": "stream",
     "text": [
      "[91]\t's focal_loss: 0.000123271\t's f1: 0.999875\t's precision: 0.999875\t's recall: 0.999875\t's accuracy: 0.999875\n"
     ]
    },
    {
     "name": "stderr",
     "output_type": "stream",
     "text": [
      "scipy.misc.derivative is deprecated in SciPy v1.10.0; and will be completely removed in SciPy v1.12.0. You may consider using findiff: https://github.com/maroba/findiff or numdifftools: https://github.com/pbrod/numdifftools\n",
      "scipy.misc.derivative is deprecated in SciPy v1.10.0; and will be completely removed in SciPy v1.12.0. You may consider using findiff: https://github.com/maroba/findiff or numdifftools: https://github.com/pbrod/numdifftools\n"
     ]
    },
    {
     "name": "stdout",
     "output_type": "stream",
     "text": [
      "[92]\t's focal_loss: 0.000122729\t's f1: 0.999875\t's precision: 0.999875\t's recall: 0.999875\t's accuracy: 0.999875\n"
     ]
    },
    {
     "name": "stderr",
     "output_type": "stream",
     "text": [
      "scipy.misc.derivative is deprecated in SciPy v1.10.0; and will be completely removed in SciPy v1.12.0. You may consider using findiff: https://github.com/maroba/findiff or numdifftools: https://github.com/pbrod/numdifftools\n",
      "scipy.misc.derivative is deprecated in SciPy v1.10.0; and will be completely removed in SciPy v1.12.0. You may consider using findiff: https://github.com/maroba/findiff or numdifftools: https://github.com/pbrod/numdifftools\n"
     ]
    },
    {
     "name": "stdout",
     "output_type": "stream",
     "text": [
      "[93]\t's focal_loss: 0.000122305\t's f1: 0.999875\t's precision: 0.999875\t's recall: 0.999875\t's accuracy: 0.999875\n"
     ]
    },
    {
     "name": "stderr",
     "output_type": "stream",
     "text": [
      "scipy.misc.derivative is deprecated in SciPy v1.10.0; and will be completely removed in SciPy v1.12.0. You may consider using findiff: https://github.com/maroba/findiff or numdifftools: https://github.com/pbrod/numdifftools\n",
      "scipy.misc.derivative is deprecated in SciPy v1.10.0; and will be completely removed in SciPy v1.12.0. You may consider using findiff: https://github.com/maroba/findiff or numdifftools: https://github.com/pbrod/numdifftools\n"
     ]
    },
    {
     "name": "stdout",
     "output_type": "stream",
     "text": [
      "[94]\t's focal_loss: 0.000121802\t's f1: 0.999875\t's precision: 0.999875\t's recall: 0.999875\t's accuracy: 0.999875\n"
     ]
    },
    {
     "name": "stderr",
     "output_type": "stream",
     "text": [
      "scipy.misc.derivative is deprecated in SciPy v1.10.0; and will be completely removed in SciPy v1.12.0. You may consider using findiff: https://github.com/maroba/findiff or numdifftools: https://github.com/pbrod/numdifftools\n",
      "scipy.misc.derivative is deprecated in SciPy v1.10.0; and will be completely removed in SciPy v1.12.0. You may consider using findiff: https://github.com/maroba/findiff or numdifftools: https://github.com/pbrod/numdifftools\n"
     ]
    },
    {
     "name": "stdout",
     "output_type": "stream",
     "text": [
      "[95]\t's focal_loss: 0.000121718\t's f1: 0.999875\t's precision: 0.999875\t's recall: 0.999875\t's accuracy: 0.999875\n"
     ]
    },
    {
     "name": "stderr",
     "output_type": "stream",
     "text": [
      "scipy.misc.derivative is deprecated in SciPy v1.10.0; and will be completely removed in SciPy v1.12.0. You may consider using findiff: https://github.com/maroba/findiff or numdifftools: https://github.com/pbrod/numdifftools\n",
      "scipy.misc.derivative is deprecated in SciPy v1.10.0; and will be completely removed in SciPy v1.12.0. You may consider using findiff: https://github.com/maroba/findiff or numdifftools: https://github.com/pbrod/numdifftools\n"
     ]
    },
    {
     "name": "stdout",
     "output_type": "stream",
     "text": [
      "[96]\t's focal_loss: 0.000121437\t's f1: 0.999875\t's precision: 0.999875\t's recall: 0.999875\t's accuracy: 0.999875\n"
     ]
    },
    {
     "name": "stderr",
     "output_type": "stream",
     "text": [
      "scipy.misc.derivative is deprecated in SciPy v1.10.0; and will be completely removed in SciPy v1.12.0. You may consider using findiff: https://github.com/maroba/findiff or numdifftools: https://github.com/pbrod/numdifftools\n",
      "scipy.misc.derivative is deprecated in SciPy v1.10.0; and will be completely removed in SciPy v1.12.0. You may consider using findiff: https://github.com/maroba/findiff or numdifftools: https://github.com/pbrod/numdifftools\n"
     ]
    },
    {
     "name": "stdout",
     "output_type": "stream",
     "text": [
      "[97]\t's focal_loss: 0.000121247\t's f1: 0.999875\t's precision: 0.999875\t's recall: 0.999875\t's accuracy: 0.999875\n"
     ]
    },
    {
     "name": "stderr",
     "output_type": "stream",
     "text": [
      "scipy.misc.derivative is deprecated in SciPy v1.10.0; and will be completely removed in SciPy v1.12.0. You may consider using findiff: https://github.com/maroba/findiff or numdifftools: https://github.com/pbrod/numdifftools\n",
      "scipy.misc.derivative is deprecated in SciPy v1.10.0; and will be completely removed in SciPy v1.12.0. You may consider using findiff: https://github.com/maroba/findiff or numdifftools: https://github.com/pbrod/numdifftools\n"
     ]
    },
    {
     "name": "stdout",
     "output_type": "stream",
     "text": [
      "[98]\t's focal_loss: 0.00012123\t's f1: 0.999875\t's precision: 0.999875\t's recall: 0.999875\t's accuracy: 0.999875\n"
     ]
    },
    {
     "name": "stderr",
     "output_type": "stream",
     "text": [
      "scipy.misc.derivative is deprecated in SciPy v1.10.0; and will be completely removed in SciPy v1.12.0. You may consider using findiff: https://github.com/maroba/findiff or numdifftools: https://github.com/pbrod/numdifftools\n",
      "scipy.misc.derivative is deprecated in SciPy v1.10.0; and will be completely removed in SciPy v1.12.0. You may consider using findiff: https://github.com/maroba/findiff or numdifftools: https://github.com/pbrod/numdifftools\n"
     ]
    },
    {
     "name": "stdout",
     "output_type": "stream",
     "text": [
      "[99]\t's focal_loss: 0.000121266\t's f1: 0.999875\t's precision: 0.999875\t's recall: 0.999875\t's accuracy: 0.999875\n"
     ]
    },
    {
     "name": "stderr",
     "output_type": "stream",
     "text": [
      "scipy.misc.derivative is deprecated in SciPy v1.10.0; and will be completely removed in SciPy v1.12.0. You may consider using findiff: https://github.com/maroba/findiff or numdifftools: https://github.com/pbrod/numdifftools\n",
      "scipy.misc.derivative is deprecated in SciPy v1.10.0; and will be completely removed in SciPy v1.12.0. You may consider using findiff: https://github.com/maroba/findiff or numdifftools: https://github.com/pbrod/numdifftools\n"
     ]
    },
    {
     "name": "stdout",
     "output_type": "stream",
     "text": [
      "[100]\t's focal_loss: 0.000121365\t's f1: 0.999875\t's precision: 0.999875\t's recall: 0.999875\t's accuracy: 0.999875\n"
     ]
    }
   ],
   "source": [
    "model = lgbm.train(\n",
    "    config,\n",
    "    lgbtrain,\n",
    "    valid_sets=[lgbvalid],\n",
    "    valid_names=[\"\"],\n",
    "    fobj=fobj,\n",
    "    feval=feval,\n",
    ")"
   ]
  },
  {
   "cell_type": "code",
   "execution_count": 11,
   "id": "6ee279fb",
   "metadata": {},
   "outputs": [
    {
     "name": "stdout",
     "output_type": "stream",
     "text": [
      "Classification report:\n",
      "              precision    recall  f1-score   support\n",
      "\n",
      "           0       1.00      1.00      1.00     23555\n",
      "           1       1.00      1.00      1.00       317\n",
      "           2       1.00      1.00      1.00      4002\n",
      "           3       1.00      1.00      1.00      4000\n",
      "           4       0.99      1.00      1.00       132\n",
      "\n",
      "    accuracy                           1.00     32006\n",
      "   macro avg       1.00      1.00      1.00     32006\n",
      "weighted avg       1.00      1.00      1.00     32006\n",
      "\n"
     ]
    }
   ],
   "source": [
    "res = model.predict(lgbtest.data).argmax(1)\n",
    "\n",
    "result = pd.DataFrame(\n",
    "    {\n",
    "        \"predicted\": res,\n",
    "        \"ground_truth\": df_test[target].values,\n",
    "    }\n",
    ")\n",
    "\n",
    "print(\"Classification report:\\n{}\".format(classification_report(result[\"predicted\"], result[\"ground_truth\"])))"
   ]
  },
  {
   "cell_type": "code",
   "execution_count": 12,
   "id": "0bd39ea8",
   "metadata": {},
   "outputs": [],
   "source": [
    "# shap_explainer = lightgbm_explainer.ShapExplainer()\n",
    "# shap_explainer.fit(\n",
    "#     model=model,\n",
    "#     explainer_type=\"default\",\n",
    "# )\n",
    "# shap_explainer.explain_decision_plot(\n",
    "#     X_tab_explain=lgbtest.data[0].values,\n",
    "#     feature_names=model.feature_name(),\n",
    "# )"
   ]
  },
  {
   "cell_type": "markdown",
   "metadata": {},
   "source": [
    "# Deep Learning Models"
   ]
  },
  {
   "cell_type": "code",
   "execution_count": 8,
   "metadata": {},
   "outputs": [
    {
     "name": "stderr",
     "output_type": "stream",
     "text": [
      "Continuous columns will not be normalised\n"
     ]
    }
   ],
   "source": [
    "X_train, X_valid, tab_preprocessor = utils.dl_train_prep(\n",
    "    data_train=df_train_scaled,\n",
    "    data_valid=df_valid_scaled,\n",
    "    identifier=identifier,\n",
    "    cont_cols=cont_cols,\n",
    "    target_col=target,\n",
    ")\n",
    "\n",
    "test_n_valid_combined = True\n",
    "# X_tab_test = tab_preprocessor.transform(data_test_scaled).astype(float)\n",
    "if test_n_valid_combined:\n",
    "    test = pd.concat([df_valid_scaled, df_test_scaled]).reset_index(drop=True)\n",
    "else:\n",
    "    test = df_test_scaled.copy()\n",
    "\n",
    "X_test = {\"X_tab\": tab_preprocessor.transform(test)}\n",
    "\n",
    "n_classes = pd.concat([df_train_scaled, df_valid_scaled, df_test_scaled])[target].nunique()\n",
    "metrics = utils.dl_metrics(n_classes)\n",
    "\n",
    "\n",
    "input_layer = len(tab_preprocessor.continuous_cols)\n",
    "output_layer = n_classes\n",
    "hidden_layers = utils.dl_design(\n",
    "    input_layer, 2, output_layer, design=\"funnel\"\n",
    ").hidden_layers()"
   ]
  },
  {
   "cell_type": "markdown",
   "metadata": {},
   "source": [
    "## Transformers"
   ]
  },
  {
   "cell_type": "code",
   "execution_count": 9,
   "metadata": {},
   "outputs": [],
   "source": [
    "deeptabular = TabTransformer(input_dim=32, embed_continuous=True, column_idx=tab_preprocessor.column_idx, continuous_cols=tab_preprocessor.continuous_cols)\n",
    "model = WideDeep(deeptabular=deeptabular, pred_dim=output_layer)"
   ]
  },
  {
   "cell_type": "code",
   "execution_count": 10,
   "metadata": {},
   "outputs": [],
   "source": [
    "# Initializers/Optimizers/Schedulers/callbacks\n",
    "initializers = {\"deeptabular\": XavierNormal}\n",
    "deeptab_opt = SGD(model.deeptabular.parameters(), lr=0.001)\n",
    "deeptab_sch = lr_scheduler.StepLR(deeptab_opt, step_size=5)\n",
    "optimizers = {\"deeptabular\": deeptab_opt}\n",
    "schedulers = {\"deeptabular\": deeptab_sch}\n",
    "\n",
    "early_stopping = EarlyStopping()\n",
    "model_checkpoint = ModelCheckpoint(save_best_only=True, verbose=1)"
   ]
  },
  {
   "cell_type": "code",
   "execution_count": 11,
   "id": "54996a78",
   "metadata": {},
   "outputs": [
    {
     "data": {
      "text/plain": [
       "256044"
      ]
     },
     "execution_count": 11,
     "metadata": {},
     "output_type": "execute_result"
    }
   ],
   "source": [
    "len(X_train[\"target\"])"
   ]
  },
  {
   "cell_type": "code",
   "execution_count": 12,
   "metadata": {},
   "outputs": [
    {
     "name": "stderr",
     "output_type": "stream",
     "text": [
      "  0%|          | 0/54 [00:00<?, ?it/s]"
     ]
    },
    {
     "ename": "",
     "evalue": "",
     "output_type": "error",
     "traceback": [
      "\u001b[1;31mCanceled future for execute_request message before replies were done"
     ]
    },
    {
     "ename": "",
     "evalue": "",
     "output_type": "error",
     "traceback": [
      "\u001b[1;31mThe Kernel crashed while executing code in the the current cell or a previous cell. Please review the code in the cell(s) to identify a possible cause of the failure. Click <a href='https://aka.ms/vscodeJupyterKernelCrash'>here</a> for more info. View Jupyter <a href='command:jupyter.viewOutput'>log</a> for further details."
     ]
    }
   ],
   "source": [
    "objective = \"multiclass_focal_loss\"\n",
    "dataloader = DataLoaderImbalanced\n",
    "\n",
    "trainer = Trainer(\n",
    "    model,\n",
    "    objective=objective,\n",
    "    callbacks=[early_stopping, model_checkpoint],\n",
    "    lr_schedulers=schedulers,\n",
    "    initializers=initializers,\n",
    "    optimizers=optimizers,\n",
    "    metrics=metrics,\n",
    ")\n",
    "\n",
    "trainer.fit(\n",
    "    X_train=X_train,\n",
    "    X_val=X_valid,\n",
    "    n_epochs=5,\n",
    "    batch_size=100,\n",
    "    custom_dataloader=dataloader,\n",
    "    oversample_mul=5,\n",
    ")"
   ]
  },
  {
   "cell_type": "code",
   "execution_count": null,
   "metadata": {},
   "outputs": [],
   "source": [
    "actual = test[target]\n",
    "predicted = trainer.predict(**X_test)\n",
    "#predicted_mc = trainer.predict_uncertainty(**X_test, uncertainty_granularity=10)[:, -1],\n",
    "classification_report(predicted, actual)"
   ]
  },
  {
   "cell_type": "markdown",
   "metadata": {},
   "source": [
    "## w RayTune"
   ]
  },
  {
   "cell_type": "code",
   "execution_count": null,
   "metadata": {},
   "outputs": [],
   "source": [
    "%%time\n",
    "# Optimizers\n",
    "deep_opt_sgd_01 = SGD(model.deeptabular.parameters(), lr=0.1)\n",
    "deep_opt_sgd_001 = SGD(model.deeptabular.parameters(), lr=0.01)\n",
    "deep_opt_adam_01 = Adam(model.deeptabular.parameters(), lr=0.1)\n",
    "deep_opt_adam_001 = Adam(model.deeptabular.parameters(), lr=0.01)\n",
    "# LR Schedulers\n",
    "deep_sch_StepLR5 = lr_scheduler.StepLR(deep_opt, step_size=5)\n",
    "deep_sch_StepLR10 = lr_scheduler.StepLR(deep_opt, step_size=10)\n",
    "\n",
    "input_layer = len(tab_preprocessor.continuous_cols)\n",
    "output_layer = n_classes\n",
    "\n",
    "hidden_layers2 = utils.dl_design(input_layer, 2, output_layer, design=\"funnel\")\n",
    "hidden_layers3 = utils.dl_design(input_layer, 3, output_layer, design=\"funnel\")\n",
    "hidden_layers5 = utils.dl_design(input_layer, 5, output_layer, design=\"funnel\")\n",
    "hidden_layers10 = utils.dl_design(input_layer, 10, output_layer, design=\"funnel\")\n",
    "\n",
    "config = {\n",
    "    \"batch_size\": tune.grid_search([100, 1000, 10000]),\n",
    "    \"deeptab_opt\": tune.grid_search(\n",
    "        [\n",
    "            deep_opt_sgd_01,\n",
    "            deep_opt_adam_01,\n",
    "            deep_opt_sgd_001,\n",
    "            deep_opt_adam_001,\n",
    "        ]\n",
    "    ),\n",
    "    \"deeptab_sch\": tune.grid_search([deep_sch_StepLR5]),  # , deep_sch_StepLR10]),\n",
    "    \"hidden_layers\": tune.grid_search(\n",
    "        [hidden_layers2, hidden_layers3, hidden_layers5, hidden_layers10]\n",
    "    ),\n",
    "    \"wandb\": {\n",
    "        \"project\": \"dl_gm\",\n",
    "        \"api_key_file\": \"/home/jovyan/repos/pltv/data/wandb_api.key\",\n",
    "    },\n",
    "}\n",
    "\n",
    "objective = \"multiclass_focal_loss\"\n",
    "dataloader = DataLoaderImbalanced\n",
    "\n",
    "\n",
    "@wandb_mixin\n",
    "def training_function(config, X_train, X_val):\n",
    "    early_stopping = EarlyStopping()\n",
    "    model_checkpoint = ModelCheckpoint(save_best_only=True, wb=wandb)\n",
    "\n",
    "    deeptabular = TabMlp(\n",
    "        mlp_hidden_dims=config[\"hidden_layers\"].hidden_layers(),\n",
    "        column_idx=tab_preprocessor.column_idx,\n",
    "        embed_input=tab_preprocessor.embeddings_input,\n",
    "        continuous_cols=tab_preprocessor.continuous_cols,\n",
    "        mlp_batchnorm=True,\n",
    "        mlp_batchnorm_last=True,\n",
    "        mlp_linear_first=True,\n",
    "    )\n",
    "\n",
    "    model = WideDeep(wide=wide, deeptabular=deeptabular)\n",
    "\n",
    "    trainer = Trainer(\n",
    "        model,\n",
    "        objective=objective,\n",
    "        callbacks=[RayTuneReporter, early_stopping, model_checkpoint],\n",
    "        lr_schedulers={\"deeptabular\": config[\"deeptab_sch\"]},\n",
    "        initializers={\"deeptabular\": XavierNormal},\n",
    "        optimizers={\"deeptabular\": config[\"deeptab_opt\"]},\n",
    "        metrics=metrics,\n",
    "        verbose=0,\n",
    "    )\n",
    "\n",
    "    trainer.fit(\n",
    "        X_train=X_train,\n",
    "        X_val=X_val,\n",
    "        n_epochs=50,\n",
    "        batch_size=config[\"batch_size\"],\n",
    "        custom_dataloader=dataloader,\n",
    "        oversample_mul=5,\n",
    "    )\n",
    "\n",
    "\n",
    "# https://docs.ray.io/en/latest/tune/api_docs/schedulers.html#tune-scheduler-hyperband\n",
    "asha_scheduler = AsyncHyperBandScheduler(\n",
    "    time_attr=\"training_iteration\",\n",
    "    metric=\"_metric/val_loss\",\n",
    "    mode=\"min\",\n",
    "    max_t=100,\n",
    "    grace_period=10,\n",
    "    reduction_factor=3,\n",
    "    brackets=1,\n",
    ")\n",
    "\n",
    "analysis = tune.run(\n",
    "    tune.with_parameters(training_function, X_train=X_train, X_val=X_valid),\n",
    "    # resources_per_trial={\"cpu\": 4, \"gpu\": 0},\n",
    "    num_samples=1,\n",
    "    progress_reporter=JupyterNotebookReporter(overwrite=True),\n",
    "    scheduler=asha_scheduler,\n",
    "    config=config,\n",
    "    callbacks=[\n",
    "        WandbLoggerCallback(\n",
    "            project=config[\"wandb\"][\"project\"],\n",
    "            api_key_file=config[\"wandb\"][\"api_key_file\"],\n",
    "            log_config=True,\n",
    "        )\n",
    "    ],\n",
    ")"
   ]
  },
  {
   "cell_type": "markdown",
   "metadata": {},
   "source": [
    "### Train the Best model"
   ]
  },
  {
   "cell_type": "code",
   "execution_count": null,
   "metadata": {},
   "outputs": [],
   "source": [
    "%%time\n",
    "params = copy(analysis.get_best_config(\"_metric/val_loss\", \"min\"))\n",
    "params.pop(\"wandb\")\n",
    "\n",
    "trainer = Trainer(\n",
    "    model,\n",
    "    objective=objective,\n",
    "    callbacks=[LRHistory(n_epochs=10)],\n",
    "    lr_schedulers={\"wide\": params[\"wide_sch\"], \"deeptabular\": params[\"deeptab_sch\"]},\n",
    "    initializers={\"wide\": XavierNormal, \"deeptabular\": XavierNormal},\n",
    "    optimizers={\"wide\": params[\"wide_opt\"], \"deeptabular\": params[\"deeptab_opt\"]},\n",
    "    metrics=metrics,\n",
    "    verbose=0,\n",
    ")\n",
    "\n",
    "trainer.fit(\n",
    "    X_train=X_train,\n",
    "    X_val=X_val,\n",
    "    n_epochs=5,\n",
    "    batch_size=params[\"batch_size\"],\n",
    "    custom_dataloader=dataloader,\n",
    "    oversample_mul=5,\n",
    ")"
   ]
  }
 ],
 "metadata": {
  "kernelspec": {
   "display_name": "ecce",
   "language": "python",
   "name": "python3"
  },
  "language_info": {
   "codemirror_mode": {
    "name": "ipython",
    "version": 3
   },
   "file_extension": ".py",
   "mimetype": "text/x-python",
   "name": "python",
   "nbconvert_exporter": "python",
   "pygments_lexer": "ipython3",
   "version": "3.10.9"
  },
  "toc": {
   "base_numbering": 1,
   "nav_menu": {},
   "number_sections": true,
   "sideBar": true,
   "skip_h1_title": false,
   "title_cell": "Table of Contents",
   "title_sidebar": "Contents",
   "toc_cell": false,
   "toc_position": {},
   "toc_section_display": true,
   "toc_window_display": false
  },
  "toc-autonumbering": true,
  "vscode": {
   "interpreter": {
    "hash": "e20456f462be5372ccae25dac07bbaf00a17868371e425721ca5fbf886ab4de2"
   }
  }
 },
 "nbformat": 4,
 "nbformat_minor": 5
}
