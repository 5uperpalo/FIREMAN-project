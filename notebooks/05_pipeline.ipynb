{
 "cells": [
  {
   "cell_type": "markdown",
   "metadata": {},
   "source": [
    "# Pipeline"
   ]
  },
  {
   "cell_type": "code",
   "execution_count": 30,
   "metadata": {},
   "outputs": [],
   "source": [
    "from sklearn.impute import SimpleImputer\n",
    "from sklearn.preprocessing import StandardScaler\n",
    "from sklearn.model_selection import train_test_split\n",
    "from sklearn.ensemble import RandomForestClassifier\n",
    "from sklearn.model_selection import cross_val_score\n",
    "from sklearn.metrics import classification_report\n",
    "\n",
    "\n",
    "class Pipeline:\n",
    "    def __init__(self):\n",
    "        pass\n",
    "\n",
    "    def _impute(self):\n",
    "        raise NotImplementedError()\n",
    "\n",
    "    def _scale(self):\n",
    "        raise NotImplementedError()\n",
    "\n",
    "    def _classify(self):\n",
    "        raise NotImplementedError()\n",
    "\n",
    "    def _split_data(self):\n",
    "        raise NotImplementedError()\n",
    "\n",
    "    def process(self):\n",
    "        raise NotImplementedError()\n",
    "\n",
    "\n",
    "class FIREMAN_Pipeline(Pipeline):\n",
    "    def __init__(\n",
    "        self,\n",
    "        dataset_x,\n",
    "        dataset_y,\n",
    "        imputer=\"Simple\",\n",
    "        scaler=\"RandomScaler\",\n",
    "        classifier=\"RandomForest\",\n",
    "        scorer=\"report\",\n",
    "    ):\n",
    "        self.dataset_x = dataset_x\n",
    "        self.dataset_y = dataset_y\n",
    "        self.imputer = imputer\n",
    "        self.scaler = scaler\n",
    "        self.classifier = classifier\n",
    "        self.scorer = scorer\n",
    "\n",
    "    def _impute(self):\n",
    "        if self.imputer == \"GAIN\":\n",
    "            pass\n",
    "\n",
    "        elif self.imputer == \"Simple\":\n",
    "            imputer = SimpleImputer()\n",
    "            imputed_x = imputer.fit_transform(self.dataset_x)\n",
    "\n",
    "        elif self.imputer == \"\":\n",
    "            imputed_x = self.dataset_x\n",
    "\n",
    "        else:\n",
    "            raise NotImplementedError()\n",
    "\n",
    "        return imputed_x\n",
    "\n",
    "    def _scale(self, x):\n",
    "        if self.scaler == \"RandomScaler\":\n",
    "            scaler = StandardScaler()\n",
    "            scaler.fit(x)\n",
    "            return scaler.transform(x)\n",
    "\n",
    "        elif self.scaler == \"\":\n",
    "            return x\n",
    "\n",
    "        else:\n",
    "            raise NotImplementedError()\n",
    "\n",
    "    def _split_data(self, x):\n",
    "        if self.scorer == \"cv_score\":\n",
    "            return x, self.dataset_y\n",
    "\n",
    "        elif self.scorer == \"report\":\n",
    "            x_train, x_test, y_train, y_test = train_test_split(x, self.dataset_y, test_size=0.1)\n",
    "            return x_train, x_test, y_train, y_test\n",
    "\n",
    "    def _classify(self):\n",
    "        if self.classifier == \"RandomForest\":\n",
    "            self.classifier = RandomForestClassifier()\n",
    "        else:\n",
    "            raise NotImplementedError()\n",
    "\n",
    "    def process(self):\n",
    "        x_missing = self._impute()\n",
    "        x_scaled = self._scale(x_missing)\n",
    "        if self.scorer == \"report\":\n",
    "            x_train, x_test, y_train, y_test = self._split_data(x_scaled)\n",
    "            self._classify()\n",
    "            self.classifier.fit(x_train, y_train)\n",
    "            y_predicted = self.classifier.predict(x_test)\n",
    "            return print(classification_report(y_test, y_predicted))\n",
    "\n",
    "        elif self.scorer == \"cv_score\":\n",
    "            x, y = self._split_data(dataset_x_scaled)\n",
    "            _classify()\n",
    "            return print(cross_val_score(self.classifier, x, y, cv=10, scoring=\"f1_weighted\"))\n",
    "\n",
    "        else:\n",
    "            raise NotImplementedError()"
   ]
  },
  {
   "cell_type": "code",
   "execution_count": 31,
   "metadata": {},
   "outputs": [],
   "source": [
    "tep_dataset = pd.read_csv(\n",
    "    \"Tennessee_Event-Driven/datasets/tep_extended_dataset_simrun1.csv.csv\",\n",
    "    index_col=False,\n",
    ")\n",
    "\n",
    "dataset_X = tep_dataset.drop(columns=[\"faultNumber\", \"simulationRun\", \"sample\"]).values\n",
    "dataset_Y = tep_dataset[\"faultNumber\"].values\n",
    "\n",
    "no, dim = dataset_X.shape\n",
    "p = 0.1\n",
    "# Introduce missing data\n",
    "mask = binary_sampler(1 - p, no, dim)\n",
    "dataset_X_missing = dataset_X.copy()\n",
    "dataset_X_missing[mask == 0] = np.nan"
   ]
  },
  {
   "cell_type": "code",
   "execution_count": 32,
   "metadata": {},
   "outputs": [],
   "source": [
    "tep_pipeline = FIREMAN_Pipeline(dataset_X_missing, dataset_Y)"
   ]
  },
  {
   "cell_type": "code",
   "execution_count": 33,
   "metadata": {},
   "outputs": [
    {
     "name": "stdout",
     "output_type": "stream",
     "text": [
      "              precision    recall  f1-score   support\n",
      "\n",
      "           0       0.32      0.60      0.42       161\n",
      "           1       1.00      0.89      0.94       151\n",
      "           2       1.00      0.89      0.94       124\n",
      "           3       0.33      0.46      0.38       142\n",
      "           4       0.84      0.75      0.79       141\n",
      "           5       0.72      0.76      0.74       147\n",
      "           6       1.00      0.88      0.93       130\n",
      "           7       1.00      0.86      0.92       149\n",
      "           8       0.99      0.93      0.96       145\n",
      "           9       0.36      0.45      0.40       154\n",
      "          10       0.77      0.69      0.73       147\n",
      "          11       0.80      0.61      0.69       150\n",
      "          12       0.91      0.82      0.86       141\n",
      "          13       1.00      0.83      0.91       156\n",
      "          14       0.97      0.79      0.87       166\n",
      "          15       0.30      0.44      0.35       142\n",
      "          16       0.76      0.65      0.70       160\n",
      "          17       0.82      0.70      0.75       123\n",
      "          18       0.98      0.79      0.88       130\n",
      "          19       0.63      0.66      0.64       134\n",
      "          20       0.82      0.63      0.71       133\n",
      "          21       0.97      0.88      0.92       144\n",
      "\n",
      "    accuracy                           0.72      3170\n",
      "   macro avg       0.79      0.73      0.75      3170\n",
      "weighted avg       0.78      0.72      0.75      3170\n",
      "\n"
     ]
    }
   ],
   "source": [
    "tep_pipeline.process()"
   ]
  },
  {
   "cell_type": "markdown",
   "metadata": {},
   "source": [
    "### example of raising NotImplementedError"
   ]
  },
  {
   "cell_type": "code",
   "execution_count": 35,
   "metadata": {},
   "outputs": [
    {
     "ename": "NotImplementedError",
     "evalue": "",
     "output_type": "error",
     "traceback": [
      "\u001b[1;31m---------------------------------------------------------------------------\u001b[0m",
      "\u001b[1;31mNotImplementedError\u001b[0m                       Traceback (most recent call last)",
      "\u001b[1;32m<ipython-input-35-8b9e5322f537>\u001b[0m in \u001b[0;36m<module>\u001b[1;34m\u001b[0m\n\u001b[0;32m      1\u001b[0m \u001b[0mtep_pipeline\u001b[0m \u001b[1;33m=\u001b[0m \u001b[0mFIREMAN_Pipeline\u001b[0m\u001b[1;33m(\u001b[0m\u001b[0mdataset_X_missing\u001b[0m\u001b[1;33m,\u001b[0m \u001b[0mdataset_Y\u001b[0m\u001b[1;33m,\u001b[0m \u001b[0mscaler\u001b[0m\u001b[1;33m=\u001b[0m\u001b[1;34m'Scaler'\u001b[0m\u001b[1;33m)\u001b[0m\u001b[1;33m\u001b[0m\u001b[1;33m\u001b[0m\u001b[0m\n\u001b[1;32m----> 2\u001b[1;33m \u001b[0mtep_pipeline\u001b[0m\u001b[1;33m.\u001b[0m\u001b[0mprocess\u001b[0m\u001b[1;33m(\u001b[0m\u001b[1;33m)\u001b[0m\u001b[1;33m\u001b[0m\u001b[1;33m\u001b[0m\u001b[0m\n\u001b[0m",
      "\u001b[1;32m<ipython-input-30-c048450cec64>\u001b[0m in \u001b[0;36mprocess\u001b[1;34m(self)\u001b[0m\n\u001b[0;32m     79\u001b[0m     \u001b[1;32mdef\u001b[0m \u001b[0mprocess\u001b[0m\u001b[1;33m(\u001b[0m\u001b[0mself\u001b[0m\u001b[1;33m)\u001b[0m\u001b[1;33m:\u001b[0m\u001b[1;33m\u001b[0m\u001b[1;33m\u001b[0m\u001b[0m\n\u001b[0;32m     80\u001b[0m         \u001b[0mx_missing\u001b[0m \u001b[1;33m=\u001b[0m \u001b[0mself\u001b[0m\u001b[1;33m.\u001b[0m\u001b[0m_impute\u001b[0m\u001b[1;33m(\u001b[0m\u001b[1;33m)\u001b[0m\u001b[1;33m\u001b[0m\u001b[1;33m\u001b[0m\u001b[0m\n\u001b[1;32m---> 81\u001b[1;33m         \u001b[0mx_scaled\u001b[0m \u001b[1;33m=\u001b[0m \u001b[0mself\u001b[0m\u001b[1;33m.\u001b[0m\u001b[0m_scale\u001b[0m\u001b[1;33m(\u001b[0m\u001b[0mx_missing\u001b[0m\u001b[1;33m)\u001b[0m\u001b[1;33m\u001b[0m\u001b[1;33m\u001b[0m\u001b[0m\n\u001b[0m\u001b[0;32m     82\u001b[0m         \u001b[1;32mif\u001b[0m \u001b[0mself\u001b[0m\u001b[1;33m.\u001b[0m\u001b[0mscorer\u001b[0m\u001b[1;33m==\u001b[0m\u001b[1;34m'report'\u001b[0m\u001b[1;33m:\u001b[0m\u001b[1;33m\u001b[0m\u001b[1;33m\u001b[0m\u001b[0m\n\u001b[0;32m     83\u001b[0m             \u001b[0mx_train\u001b[0m\u001b[1;33m,\u001b[0m \u001b[0mx_test\u001b[0m\u001b[1;33m,\u001b[0m \u001b[0my_train\u001b[0m\u001b[1;33m,\u001b[0m \u001b[0my_test\u001b[0m \u001b[1;33m=\u001b[0m \u001b[0mself\u001b[0m\u001b[1;33m.\u001b[0m\u001b[0m_split_data\u001b[0m\u001b[1;33m(\u001b[0m\u001b[0mx_scaled\u001b[0m\u001b[1;33m)\u001b[0m\u001b[1;33m\u001b[0m\u001b[1;33m\u001b[0m\u001b[0m\n",
      "\u001b[1;32m<ipython-input-30-c048450cec64>\u001b[0m in \u001b[0;36m_scale\u001b[1;34m(self, x)\u001b[0m\n\u001b[0;32m     61\u001b[0m \u001b[1;33m\u001b[0m\u001b[0m\n\u001b[0;32m     62\u001b[0m         \u001b[1;32melse\u001b[0m\u001b[1;33m:\u001b[0m\u001b[1;33m\u001b[0m\u001b[1;33m\u001b[0m\u001b[0m\n\u001b[1;32m---> 63\u001b[1;33m             \u001b[1;32mraise\u001b[0m \u001b[0mNotImplementedError\u001b[0m\u001b[1;33m(\u001b[0m\u001b[1;33m)\u001b[0m\u001b[1;33m\u001b[0m\u001b[1;33m\u001b[0m\u001b[0m\n\u001b[0m\u001b[0;32m     64\u001b[0m \u001b[1;33m\u001b[0m\u001b[0m\n\u001b[0;32m     65\u001b[0m     \u001b[1;32mdef\u001b[0m \u001b[0m_split_data\u001b[0m\u001b[1;33m(\u001b[0m\u001b[0mself\u001b[0m\u001b[1;33m,\u001b[0m \u001b[0mx\u001b[0m\u001b[1;33m)\u001b[0m\u001b[1;33m:\u001b[0m\u001b[1;33m\u001b[0m\u001b[1;33m\u001b[0m\u001b[0m\n",
      "\u001b[1;31mNotImplementedError\u001b[0m: "
     ]
    }
   ],
   "source": [
    "tep_pipeline = FIREMAN_Pipeline(dataset_X_missing, dataset_Y, scaler=\"Scaler\")\n",
    "tep_pipeline.process()"
   ]
  }
 ],
 "metadata": {
  "kernelspec": {
   "display_name": "Python 3",
   "language": "python",
   "name": "python3"
  },
  "language_info": {
   "codemirror_mode": {
    "name": "ipython",
    "version": 3
   },
   "file_extension": ".py",
   "mimetype": "text/x-python",
   "name": "python",
   "nbconvert_exporter": "python",
   "pygments_lexer": "ipython3",
   "version": "3.7.7"
  }
 },
 "nbformat": 4,
 "nbformat_minor": 4
}
